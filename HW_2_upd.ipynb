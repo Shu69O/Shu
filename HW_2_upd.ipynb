{
 "cells": [
  {
   "cell_type": "markdown",
   "metadata": {
    "id": "_kX74ytuOfgy"
   },
   "source": [
    "# Домашнее задание \"Линейная алгебра. Матрицы\"."
   ]
  },
  {
   "cell_type": "markdown",
   "metadata": {
    "id": "t69IZulqTZMz"
   },
   "source": [
    "## Уровень 0:\n"
   ]
  },
  {
   "cell_type": "markdown",
   "metadata": {
    "id": "9JUikPzroAL8"
   },
   "source": [
    "### Задание 1"
   ]
  },
  {
   "cell_type": "markdown",
   "metadata": {
    "id": "ya8BlSO5nQ9a"
   },
   "source": [
    " - Создайте матрицу 3 на 3, заполненную числами от 1 до 9\n",
    " - Прибавьте к ней матрицу с единицами на диагонале\n",
    " - Умножьте полученную матрицу на вектор (1, 2, 3)\n",
    " - Вычислить транспонированную матрицу $A^T$ от полученной в результате прибавления матрицы\n",
    " - Посчитайте обратную матрицу к полученной в результате прибавления матрице\n"
   ]
  },
  {
   "cell_type": "code",
   "execution_count": 18,
   "metadata": {},
   "outputs": [],
   "source": [
    "### YOUR CODE HERE"
   ]
  },
  {
   "cell_type": "code",
   "execution_count": 1,
   "metadata": {
    "id": "hZ34229YdNlq"
   },
   "outputs": [],
   "source": [
    "import numpy as np"
   ]
  },
  {
   "cell_type": "code",
   "execution_count": 2,
   "metadata": {},
   "outputs": [],
   "source": [
    "a = np.array([[1,2,3],[4,5,6],[7,8,9]])\n",
    "b = np.eye(3)"
   ]
  },
  {
   "cell_type": "code",
   "execution_count": 6,
   "metadata": {},
   "outputs": [],
   "source": [
    "res = a+b"
   ]
  },
  {
   "cell_type": "code",
   "execution_count": 5,
   "metadata": {},
   "outputs": [],
   "source": [
    "v = np.array([1,2,3])"
   ]
  },
  {
   "cell_type": "code",
   "execution_count": 11,
   "metadata": {},
   "outputs": [],
   "source": [
    "res2 = res@v"
   ]
  },
  {
   "cell_type": "code",
   "execution_count": 14,
   "metadata": {},
   "outputs": [
    {
     "data": {
      "text/plain": [
       "array([[ 2.,  4.,  7.],\n",
       "       [ 2.,  6.,  8.],\n",
       "       [ 3.,  6., 10.]])"
      ]
     },
     "execution_count": 14,
     "metadata": {},
     "output_type": "execute_result"
    }
   ],
   "source": [
    "np.transpose(res)"
   ]
  },
  {
   "cell_type": "code",
   "execution_count": 27,
   "metadata": {},
   "outputs": [
    {
     "data": {
      "text/plain": [
       "array([[-6.00000000e+00, -2.00000000e+00,  3.00000000e+00],\n",
       "       [-1.00000000e+00,  5.00000000e-01,  5.44009282e-16],\n",
       "       [ 5.00000000e+00,  1.00000000e+00, -2.00000000e+00]])"
      ]
     },
     "execution_count": 27,
     "metadata": {},
     "output_type": "execute_result"
    }
   ],
   "source": [
    "np.linalg.inv(res)"
   ]
  },
  {
   "cell_type": "markdown",
   "metadata": {
    "id": "qZxS_tEVTapE"
   },
   "source": [
    "## Уровень 1:"
   ]
  },
  {
   "cell_type": "markdown",
   "metadata": {
    "id": "gUB5Tx31oDZB"
   },
   "source": [
    "### Задание 2"
   ]
  },
  {
   "cell_type": "markdown",
   "metadata": {
    "id": "Jh-pEPj-TcDQ"
   },
   "source": [
    "Найдите собственные значения и собственные вектора матрицы:\n",
    "```\n",
    "m = np.array([[2, 2],\n",
    "              [1, 3]])\n",
    "print(m)\n",
    "```\n",
    "\n"
   ]
  },
  {
   "cell_type": "code",
   "execution_count": 19,
   "metadata": {
    "id": "1OeJWLrpobqU"
   },
   "outputs": [],
   "source": [
    "### YOUR CODE HERE"
   ]
  },
  {
   "cell_type": "code",
   "execution_count": 21,
   "metadata": {},
   "outputs": [],
   "source": [
    "m = np.array([[2,2],[1,3]])"
   ]
  },
  {
   "cell_type": "code",
   "execution_count": 30,
   "metadata": {},
   "outputs": [],
   "source": [
    "res2 = np.linalg.eig(m)"
   ]
  },
  {
   "cell_type": "code",
   "execution_count": 31,
   "metadata": {},
   "outputs": [
    {
     "data": {
      "text/plain": [
       "array([1., 4.])"
      ]
     },
     "execution_count": 31,
     "metadata": {},
     "output_type": "execute_result"
    }
   ],
   "source": [
    "res2[0]"
   ]
  },
  {
   "cell_type": "code",
   "execution_count": 34,
   "metadata": {},
   "outputs": [],
   "source": [
    "res3 = np.transpose(res2[1])"
   ]
  },
  {
   "cell_type": "code",
   "execution_count": 46,
   "metadata": {},
   "outputs": [
    {
     "data": {
      "text/plain": [
       "array([-1.99999998,  0.99999999])"
      ]
     },
     "execution_count": 46,
     "metadata": {},
     "output_type": "execute_result"
    }
   ],
   "source": [
    "res3[0]/0.4472136"
   ]
  },
  {
   "cell_type": "code",
   "execution_count": 44,
   "metadata": {},
   "outputs": [
    {
     "data": {
      "text/plain": [
       "array([1., 1.])"
      ]
     },
     "execution_count": 44,
     "metadata": {},
     "output_type": "execute_result"
    }
   ],
   "source": [
    "res3[1]/-0.70710678"
   ]
  },
  {
   "cell_type": "markdown",
   "metadata": {
    "id": "Tj14Nn3NOp8s"
   },
   "source": [
    "### Задание 3\n"
   ]
  },
  {
   "cell_type": "markdown",
   "metadata": {
    "id": "JMjSYrp4OrpG"
   },
   "source": [
    "Придумайте матрицу, у которой определитель = 1, и все элементы не равны 0.\n",
    "\n",
    "P.S. Матрица должна быть ненулевой и размерностью не менее 2! "
   ]
  },
  {
   "cell_type": "code",
   "execution_count": null,
   "metadata": {
    "id": "hRov-LJgOrz0"
   },
   "outputs": [],
   "source": [
    "### YOUR CODE HERE"
   ]
  },
  {
   "cell_type": "code",
   "execution_count": 185,
   "metadata": {},
   "outputs": [],
   "source": [
    "a2 = np.array([[1, 2, 1], [1, 1, 4], [-2, -3, -6]])"
   ]
  },
  {
   "cell_type": "code",
   "execution_count": 186,
   "metadata": {},
   "outputs": [
    {
     "data": {
      "text/plain": [
       "array([[ 1,  2,  1],\n",
       "       [ 1,  1,  4],\n",
       "       [-2, -3, -6]])"
      ]
     },
     "execution_count": 186,
     "metadata": {},
     "output_type": "execute_result"
    }
   ],
   "source": [
    "a2"
   ]
  },
  {
   "cell_type": "code",
   "execution_count": 187,
   "metadata": {},
   "outputs": [
    {
     "data": {
      "text/plain": [
       "1.0"
      ]
     },
     "execution_count": 187,
     "metadata": {},
     "output_type": "execute_result"
    }
   ],
   "source": [
    "np.linalg.det(a2)"
   ]
  },
  {
   "cell_type": "code",
   "execution_count": 215,
   "metadata": {},
   "outputs": [],
   "source": [
    "# Все квадратные матрицы с определителем 1. Степень сложности O(n^4)\n",
    "\n",
    "a3 = []\n",
    "\n",
    "for i in range(-9,10):\n",
    "    for j in range(-9,10):\n",
    "        for ii in range(-9,10):\n",
    "            for jj in range(-9,10):\n",
    "                a = [i, j]\n",
    "                b = [ii, jj]\n",
    "                c = np.array([a,b])\n",
    "                try:\n",
    "                    if np.linalg.det(c) == 1 and 0 not in c:\n",
    "                        a3.append(c)\n",
    "                        break\n",
    "                except:\n",
    "                    pass\n",
    "            \n",
    "      "
   ]
  },
  {
   "cell_type": "code",
   "execution_count": 216,
   "metadata": {},
   "outputs": [
    {
     "data": {
      "text/plain": [
       "1.0"
      ]
     },
     "execution_count": 216,
     "metadata": {},
     "output_type": "execute_result"
    }
   ],
   "source": [
    "np.linalg.det(np.array([[-8, -9],[-7, -8]]))"
   ]
  },
  {
   "cell_type": "code",
   "execution_count": 214,
   "metadata": {},
   "outputs": [
    {
     "data": {
      "text/plain": [
       "[array([[-8, -9],\n",
       "        [-7, -8]]),\n",
       " array([[-8, -9],\n",
       "        [ 1,  1]]),\n",
       " array([[-8, -7],\n",
       "        [-1, -1]]),\n",
       " array([[-8, -7],\n",
       "        [ 7,  6]]),\n",
       " array([[-8, -5],\n",
       "        [-3, -2]]),\n",
       " array([[-8, -5],\n",
       "        [ 5,  3]]),\n",
       " array([[-8, -3],\n",
       "        [-5, -2]]),\n",
       " array([[-8, -3],\n",
       "        [ 3,  1]]),\n",
       " array([[-8, -1],\n",
       "        [-7, -1]]),\n",
       " array([[-8,  1],\n",
       "        [ 7, -1]]),\n",
       " array([[-8,  3],\n",
       "        [-3,  1]]),\n",
       " array([[-8,  3],\n",
       "        [ 5, -2]]),\n",
       " array([[-8,  5],\n",
       "        [-5,  3]]),\n",
       " array([[-8,  5],\n",
       "        [ 3, -2]]),\n",
       " array([[-8,  7],\n",
       "        [-7,  6]]),\n",
       " array([[-8,  7],\n",
       "        [ 1, -1]]),\n",
       " array([[-8,  9],\n",
       "        [-1,  1]]),\n",
       " array([[-8,  9],\n",
       "        [ 7, -8]]),\n",
       " array([[-7, -8],\n",
       "        [ 8,  9]]),\n",
       " array([[-7, -6],\n",
       "        [-8, -7]]),\n",
       " array([[-7, -1],\n",
       "        [ 8,  1]]),\n",
       " array([[-7,  1],\n",
       "        [-8,  1]]),\n",
       " array([[-7,  6],\n",
       "        [ 8, -7]]),\n",
       " array([[-7,  8],\n",
       "        [-8,  9]]),\n",
       " array([[-5, -3],\n",
       "        [-8, -5]]),\n",
       " array([[-5, -2],\n",
       "        [ 8,  3]]),\n",
       " array([[-5,  2],\n",
       "        [-8,  3]]),\n",
       " array([[-5,  3],\n",
       "        [ 8, -5]]),\n",
       " array([[-4, -9],\n",
       "        [-3, -7]]),\n",
       " array([[-4, -9],\n",
       "        [ 1,  2]]),\n",
       " array([[-4, -7],\n",
       "        [-1, -2]]),\n",
       " array([[-4, -7],\n",
       "        [ 3,  5]]),\n",
       " array([[-4, -5],\n",
       "        [-3, -4]]),\n",
       " array([[-4, -5],\n",
       "        [ 1,  1]]),\n",
       " array([[-4, -3],\n",
       "        [-1, -1]]),\n",
       " array([[-4, -3],\n",
       "        [ 3,  2]]),\n",
       " array([[-4, -1],\n",
       "        [-3, -1]]),\n",
       " array([[-4,  1],\n",
       "        [ 3, -1]]),\n",
       " array([[-4,  3],\n",
       "        [-3,  2]]),\n",
       " array([[-4,  3],\n",
       "        [ 1, -1]]),\n",
       " array([[-4,  5],\n",
       "        [-1,  1]]),\n",
       " array([[-4,  5],\n",
       "        [ 3, -4]]),\n",
       " array([[-4,  7],\n",
       "        [-3,  5]]),\n",
       " array([[-4,  7],\n",
       "        [ 1, -2]]),\n",
       " array([[-4,  9],\n",
       "        [-1,  2]]),\n",
       " array([[-4,  9],\n",
       "        [ 3, -7]]),\n",
       " array([[-3, -7],\n",
       "        [ 4,  9]]),\n",
       " array([[-3, -5],\n",
       "        [-4, -7]]),\n",
       " array([[-3, -4],\n",
       "        [ 4,  5]]),\n",
       " array([[-3, -2],\n",
       "        [-4, -3]]),\n",
       " array([[-3, -2],\n",
       "        [ 8,  5]]),\n",
       " array([[-3, -1],\n",
       "        [-8, -3]]),\n",
       " array([[-3, -1],\n",
       "        [ 4,  1]]),\n",
       " array([[-3,  1],\n",
       "        [-4,  1]]),\n",
       " array([[-3,  1],\n",
       "        [ 8, -3]]),\n",
       " array([[-3,  2],\n",
       "        [-8,  5]]),\n",
       " array([[-3,  2],\n",
       "        [ 4, -3]]),\n",
       " array([[-3,  4],\n",
       "        [-4,  5]]),\n",
       " array([[-3,  5],\n",
       "        [ 4, -7]]),\n",
       " array([[-3,  7],\n",
       "        [-4,  9]]),\n",
       " array([[-2, -9],\n",
       "        [-1, -5]]),\n",
       " array([[-2, -9],\n",
       "        [ 1,  4]]),\n",
       " array([[-2, -7],\n",
       "        [-1, -4]]),\n",
       " array([[-2, -7],\n",
       "        [ 1,  3]]),\n",
       " array([[-2, -5],\n",
       "        [-1, -3]]),\n",
       " array([[-2, -5],\n",
       "        [ 1,  2]]),\n",
       " array([[-2, -3],\n",
       "        [-1, -2]]),\n",
       " array([[-2, -3],\n",
       "        [ 1,  1]]),\n",
       " array([[-2, -1],\n",
       "        [-1, -1]]),\n",
       " array([[-2,  1],\n",
       "        [ 1, -1]]),\n",
       " array([[-2,  3],\n",
       "        [-1,  1]]),\n",
       " array([[-2,  3],\n",
       "        [ 1, -2]]),\n",
       " array([[-2,  5],\n",
       "        [-1,  2]]),\n",
       " array([[-2,  5],\n",
       "        [ 1, -3]]),\n",
       " array([[-2,  7],\n",
       "        [-1,  3]]),\n",
       " array([[-2,  7],\n",
       "        [ 1, -4]]),\n",
       " array([[-2,  9],\n",
       "        [-1,  4]]),\n",
       " array([[-2,  9],\n",
       "        [ 1, -5]]),\n",
       " array([[-1, -9],\n",
       "        [ 1,  8]]),\n",
       " array([[-1, -8],\n",
       "        [-1, -9]]),\n",
       " array([[-1, -8],\n",
       "        [ 1,  7]]),\n",
       " array([[-1, -7],\n",
       "        [-1, -8]]),\n",
       " array([[-1, -7],\n",
       "        [ 1,  6]]),\n",
       " array([[-1, -6],\n",
       "        [-1, -7]]),\n",
       " array([[-1, -6],\n",
       "        [ 1,  5]]),\n",
       " array([[-1, -5],\n",
       "        [-1, -6]]),\n",
       " array([[-1, -5],\n",
       "        [ 1,  4]]),\n",
       " array([[-1, -5],\n",
       "        [ 2,  9]]),\n",
       " array([[-1, -4],\n",
       "        [-2, -9]]),\n",
       " array([[-1, -4],\n",
       "        [-1, -5]]),\n",
       " array([[-1, -4],\n",
       "        [ 1,  3]]),\n",
       " array([[-1, -4],\n",
       "        [ 2,  7]]),\n",
       " array([[-1, -3],\n",
       "        [-2, -7]]),\n",
       " array([[-1, -3],\n",
       "        [-1, -4]]),\n",
       " array([[-1, -3],\n",
       "        [ 1,  2]]),\n",
       " array([[-1, -3],\n",
       "        [ 2,  5]]),\n",
       " array([[-1, -2],\n",
       "        [-4, -9]]),\n",
       " array([[-1, -2],\n",
       "        [-2, -5]]),\n",
       " array([[-1, -2],\n",
       "        [-1, -3]]),\n",
       " array([[-1, -2],\n",
       "        [ 1,  1]]),\n",
       " array([[-1, -2],\n",
       "        [ 2,  3]]),\n",
       " array([[-1, -2],\n",
       "        [ 4,  7]]),\n",
       " array([[-1, -1],\n",
       "        [-8, -9]]),\n",
       " array([[-1, -1],\n",
       "        [-4, -5]]),\n",
       " array([[-1, -1],\n",
       "        [-2, -3]]),\n",
       " array([[-1, -1],\n",
       "        [-1, -2]]),\n",
       " array([[-1, -1],\n",
       "        [ 2,  1]]),\n",
       " array([[-1, -1],\n",
       "        [ 4,  3]]),\n",
       " array([[-1, -1],\n",
       "        [ 8,  7]]),\n",
       " array([[-1,  1],\n",
       "        [-8,  7]]),\n",
       " array([[-1,  1],\n",
       "        [-4,  3]]),\n",
       " array([[-1,  1],\n",
       "        [-2,  1]]),\n",
       " array([[-1,  1],\n",
       "        [ 1, -2]]),\n",
       " array([[-1,  1],\n",
       "        [ 2, -3]]),\n",
       " array([[-1,  1],\n",
       "        [ 4, -5]]),\n",
       " array([[-1,  1],\n",
       "        [ 8, -9]]),\n",
       " array([[-1,  2],\n",
       "        [-4,  7]]),\n",
       " array([[-1,  2],\n",
       "        [-2,  3]]),\n",
       " array([[-1,  2],\n",
       "        [-1,  1]]),\n",
       " array([[-1,  2],\n",
       "        [ 1, -3]]),\n",
       " array([[-1,  2],\n",
       "        [ 2, -5]]),\n",
       " array([[-1,  2],\n",
       "        [ 4, -9]]),\n",
       " array([[-1,  3],\n",
       "        [-2,  5]]),\n",
       " array([[-1,  3],\n",
       "        [-1,  2]]),\n",
       " array([[-1,  3],\n",
       "        [ 1, -4]]),\n",
       " array([[-1,  3],\n",
       "        [ 2, -7]]),\n",
       " array([[-1,  4],\n",
       "        [-2,  7]]),\n",
       " array([[-1,  4],\n",
       "        [-1,  3]]),\n",
       " array([[-1,  4],\n",
       "        [ 1, -5]]),\n",
       " array([[-1,  4],\n",
       "        [ 2, -9]]),\n",
       " array([[-1,  5],\n",
       "        [-2,  9]]),\n",
       " array([[-1,  5],\n",
       "        [-1,  4]]),\n",
       " array([[-1,  5],\n",
       "        [ 1, -6]]),\n",
       " array([[-1,  6],\n",
       "        [-1,  5]]),\n",
       " array([[-1,  6],\n",
       "        [ 1, -7]]),\n",
       " array([[-1,  7],\n",
       "        [-1,  6]]),\n",
       " array([[-1,  7],\n",
       "        [ 1, -8]]),\n",
       " array([[-1,  8],\n",
       "        [-1,  7]]),\n",
       " array([[-1,  8],\n",
       "        [ 1, -9]]),\n",
       " array([[-1,  9],\n",
       "        [-1,  8]]),\n",
       " array([[ 1, -9],\n",
       "        [ 1, -8]]),\n",
       " array([[ 1, -8],\n",
       "        [-1,  9]]),\n",
       " array([[ 1, -8],\n",
       "        [ 1, -7]]),\n",
       " array([[ 1, -7],\n",
       "        [-1,  8]]),\n",
       " array([[ 1, -7],\n",
       "        [ 1, -6]]),\n",
       " array([[ 1, -6],\n",
       "        [-1,  7]]),\n",
       " array([[ 1, -6],\n",
       "        [ 1, -5]]),\n",
       " array([[ 1, -5],\n",
       "        [-1,  6]]),\n",
       " array([[ 1, -5],\n",
       "        [ 1, -4]]),\n",
       " array([[ 1, -5],\n",
       "        [ 2, -9]]),\n",
       " array([[ 1, -4],\n",
       "        [-2,  9]]),\n",
       " array([[ 1, -4],\n",
       "        [-1,  5]]),\n",
       " array([[ 1, -4],\n",
       "        [ 1, -3]]),\n",
       " array([[ 1, -4],\n",
       "        [ 2, -7]]),\n",
       " array([[ 1, -3],\n",
       "        [-2,  7]]),\n",
       " array([[ 1, -3],\n",
       "        [-1,  4]]),\n",
       " array([[ 1, -3],\n",
       "        [ 1, -2]]),\n",
       " array([[ 1, -3],\n",
       "        [ 2, -5]]),\n",
       " array([[ 1, -2],\n",
       "        [-4,  9]]),\n",
       " array([[ 1, -2],\n",
       "        [-2,  5]]),\n",
       " array([[ 1, -2],\n",
       "        [-1,  3]]),\n",
       " array([[ 1, -2],\n",
       "        [ 1, -1]]),\n",
       " array([[ 1, -2],\n",
       "        [ 2, -3]]),\n",
       " array([[ 1, -2],\n",
       "        [ 4, -7]]),\n",
       " array([[ 1, -1],\n",
       "        [-8,  9]]),\n",
       " array([[ 1, -1],\n",
       "        [-4,  5]]),\n",
       " array([[ 1, -1],\n",
       "        [-2,  3]]),\n",
       " array([[ 1, -1],\n",
       "        [-1,  2]]),\n",
       " array([[ 1, -1],\n",
       "        [ 2, -1]]),\n",
       " array([[ 1, -1],\n",
       "        [ 4, -3]]),\n",
       " array([[ 1, -1],\n",
       "        [ 8, -7]]),\n",
       " array([[ 1,  1],\n",
       "        [-8, -7]]),\n",
       " array([[ 1,  1],\n",
       "        [-4, -3]]),\n",
       " array([[ 1,  1],\n",
       "        [-2, -1]]),\n",
       " array([[1, 1],\n",
       "        [1, 2]]),\n",
       " array([[1, 1],\n",
       "        [2, 3]]),\n",
       " array([[1, 1],\n",
       "        [4, 5]]),\n",
       " array([[1, 1],\n",
       "        [8, 9]]),\n",
       " array([[ 1,  2],\n",
       "        [-4, -7]]),\n",
       " array([[ 1,  2],\n",
       "        [-2, -3]]),\n",
       " array([[ 1,  2],\n",
       "        [-1, -1]]),\n",
       " array([[1, 2],\n",
       "        [1, 3]]),\n",
       " array([[1, 2],\n",
       "        [2, 5]]),\n",
       " array([[1, 2],\n",
       "        [4, 9]]),\n",
       " array([[ 1,  3],\n",
       "        [-2, -5]]),\n",
       " array([[ 1,  3],\n",
       "        [-1, -2]]),\n",
       " array([[1, 3],\n",
       "        [1, 4]]),\n",
       " array([[1, 3],\n",
       "        [2, 7]]),\n",
       " array([[ 1,  4],\n",
       "        [-2, -7]]),\n",
       " array([[ 1,  4],\n",
       "        [-1, -3]]),\n",
       " array([[1, 4],\n",
       "        [1, 5]]),\n",
       " array([[1, 4],\n",
       "        [2, 9]]),\n",
       " array([[ 1,  5],\n",
       "        [-2, -9]]),\n",
       " array([[ 1,  5],\n",
       "        [-1, -4]]),\n",
       " array([[1, 5],\n",
       "        [1, 6]]),\n",
       " array([[ 1,  6],\n",
       "        [-1, -5]]),\n",
       " array([[1, 6],\n",
       "        [1, 7]]),\n",
       " array([[ 1,  7],\n",
       "        [-1, -6]]),\n",
       " array([[1, 7],\n",
       "        [1, 8]]),\n",
       " array([[ 1,  8],\n",
       "        [-1, -7]]),\n",
       " array([[1, 8],\n",
       "        [1, 9]]),\n",
       " array([[ 1,  9],\n",
       "        [-1, -8]]),\n",
       " array([[ 2, -9],\n",
       "        [-1,  5]]),\n",
       " array([[ 2, -9],\n",
       "        [ 1, -4]]),\n",
       " array([[ 2, -7],\n",
       "        [-1,  4]]),\n",
       " array([[ 2, -7],\n",
       "        [ 1, -3]]),\n",
       " array([[ 2, -5],\n",
       "        [-1,  3]]),\n",
       " array([[ 2, -5],\n",
       "        [ 1, -2]]),\n",
       " array([[ 2, -3],\n",
       "        [-1,  2]]),\n",
       " array([[ 2, -3],\n",
       "        [ 1, -1]]),\n",
       " array([[ 2, -1],\n",
       "        [-1,  1]]),\n",
       " array([[2, 1],\n",
       "        [1, 1]]),\n",
       " array([[ 2,  3],\n",
       "        [-1, -1]]),\n",
       " array([[2, 3],\n",
       "        [1, 2]]),\n",
       " array([[ 2,  5],\n",
       "        [-1, -2]]),\n",
       " array([[2, 5],\n",
       "        [1, 3]]),\n",
       " array([[ 2,  7],\n",
       "        [-1, -3]]),\n",
       " array([[2, 7],\n",
       "        [1, 4]]),\n",
       " array([[ 2,  9],\n",
       "        [-1, -4]]),\n",
       " array([[2, 9],\n",
       "        [1, 5]]),\n",
       " array([[ 3, -7],\n",
       "        [ 4, -9]]),\n",
       " array([[ 3, -5],\n",
       "        [-4,  7]]),\n",
       " array([[ 3, -4],\n",
       "        [ 4, -5]]),\n",
       " array([[ 3, -2],\n",
       "        [-4,  3]]),\n",
       " array([[ 3, -2],\n",
       "        [ 8, -5]]),\n",
       " array([[ 3, -1],\n",
       "        [-8,  3]]),\n",
       " array([[ 3, -1],\n",
       "        [ 4, -1]]),\n",
       " array([[ 3,  1],\n",
       "        [-4, -1]]),\n",
       " array([[3, 1],\n",
       "        [8, 3]]),\n",
       " array([[ 3,  2],\n",
       "        [-8, -5]]),\n",
       " array([[3, 2],\n",
       "        [4, 3]]),\n",
       " array([[ 3,  4],\n",
       "        [-4, -5]]),\n",
       " array([[3, 5],\n",
       "        [4, 7]]),\n",
       " array([[ 3,  7],\n",
       "        [-4, -9]]),\n",
       " array([[ 4, -9],\n",
       "        [-3,  7]]),\n",
       " array([[ 4, -9],\n",
       "        [ 1, -2]]),\n",
       " array([[ 4, -7],\n",
       "        [-1,  2]]),\n",
       " array([[ 4, -7],\n",
       "        [ 3, -5]]),\n",
       " array([[ 4, -5],\n",
       "        [-3,  4]]),\n",
       " array([[ 4, -5],\n",
       "        [ 1, -1]]),\n",
       " array([[ 4, -3],\n",
       "        [-1,  1]]),\n",
       " array([[ 4, -3],\n",
       "        [ 3, -2]]),\n",
       " array([[ 4, -1],\n",
       "        [-3,  1]]),\n",
       " array([[4, 1],\n",
       "        [3, 1]]),\n",
       " array([[ 4,  3],\n",
       "        [-3, -2]]),\n",
       " array([[4, 3],\n",
       "        [1, 1]]),\n",
       " array([[ 4,  5],\n",
       "        [-1, -1]]),\n",
       " array([[4, 5],\n",
       "        [3, 4]]),\n",
       " array([[ 4,  7],\n",
       "        [-3, -5]]),\n",
       " array([[4, 7],\n",
       "        [1, 2]]),\n",
       " array([[ 4,  9],\n",
       "        [-1, -2]]),\n",
       " array([[4, 9],\n",
       "        [3, 7]]),\n",
       " array([[ 5, -3],\n",
       "        [-8,  5]]),\n",
       " array([[ 5, -2],\n",
       "        [ 8, -3]]),\n",
       " array([[ 5,  2],\n",
       "        [-8, -3]]),\n",
       " array([[5, 3],\n",
       "        [8, 5]]),\n",
       " array([[ 7, -8],\n",
       "        [ 8, -9]]),\n",
       " array([[ 7, -6],\n",
       "        [-8,  7]]),\n",
       " array([[ 7, -1],\n",
       "        [ 8, -1]]),\n",
       " array([[ 7,  1],\n",
       "        [-8, -1]]),\n",
       " array([[7, 6],\n",
       "        [8, 7]]),\n",
       " array([[ 7,  8],\n",
       "        [-8, -9]]),\n",
       " array([[ 8, -9],\n",
       "        [-7,  8]]),\n",
       " array([[ 8, -9],\n",
       "        [ 1, -1]]),\n",
       " array([[ 8, -7],\n",
       "        [-1,  1]]),\n",
       " array([[ 8, -7],\n",
       "        [ 7, -6]]),\n",
       " array([[ 8, -5],\n",
       "        [-3,  2]]),\n",
       " array([[ 8, -5],\n",
       "        [ 5, -3]]),\n",
       " array([[ 8, -3],\n",
       "        [-5,  2]]),\n",
       " array([[ 8, -3],\n",
       "        [ 3, -1]]),\n",
       " array([[ 8, -1],\n",
       "        [-7,  1]]),\n",
       " array([[8, 1],\n",
       "        [7, 1]]),\n",
       " array([[ 8,  3],\n",
       "        [-3, -1]]),\n",
       " array([[8, 3],\n",
       "        [5, 2]]),\n",
       " array([[ 8,  5],\n",
       "        [-5, -3]]),\n",
       " array([[8, 5],\n",
       "        [3, 2]]),\n",
       " array([[ 8,  7],\n",
       "        [-7, -6]]),\n",
       " array([[8, 7],\n",
       "        [1, 1]]),\n",
       " array([[ 8,  9],\n",
       "        [-1, -1]]),\n",
       " array([[8, 9],\n",
       "        [7, 8]])]"
      ]
     },
     "execution_count": 214,
     "metadata": {},
     "output_type": "execute_result"
    }
   ],
   "source": [
    "a3"
   ]
  },
  {
   "cell_type": "code",
   "execution_count": null,
   "metadata": {},
   "outputs": [],
   "source": []
  }
 ],
 "metadata": {
  "colab": {
   "collapsed_sections": [],
   "name": "HW_2_upd",
   "provenance": []
  },
  "kernelspec": {
   "display_name": "Python 3 (ipykernel)",
   "language": "python",
   "name": "python3"
  },
  "language_info": {
   "codemirror_mode": {
    "name": "ipython",
    "version": 3
   },
   "file_extension": ".py",
   "mimetype": "text/x-python",
   "name": "python",
   "nbconvert_exporter": "python",
   "pygments_lexer": "ipython3",
   "version": "3.11.4"
  }
 },
 "nbformat": 4,
 "nbformat_minor": 1
}
