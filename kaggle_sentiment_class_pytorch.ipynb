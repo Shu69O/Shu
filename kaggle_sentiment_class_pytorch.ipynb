{
 "cells": [
  {
   "cell_type": "code",
   "execution_count": 1,
   "id": "4386f378",
   "metadata": {},
   "outputs": [],
   "source": [
    "import pandas as pd"
   ]
  },
  {
   "cell_type": "code",
   "execution_count": 2,
   "id": "1d5569a2",
   "metadata": {},
   "outputs": [],
   "source": [
    "education = pd.read_csv(\"/Users/shu/training_python_datascince/kaggle_sentimental_analysis/Sentiment_dataset/Education.csv\")\n",
    "finance = pd.read_csv(\"/Users/shu/training_python_datascince/kaggle_sentimental_analysis/Sentiment_dataset/Finance.csv\")\n",
    "politics = pd.read_csv(\"/Users/shu/training_python_datascince/kaggle_sentimental_analysis/Sentiment_dataset/Politics.csv\")\n",
    "sports = pd.read_csv(\"/Users/shu/training_python_datascince/kaggle_sentimental_analysis/Sentiment_dataset/Sports.csv\")"
   ]
  },
  {
   "cell_type": "code",
   "execution_count": 3,
   "id": "372ac894",
   "metadata": {},
   "outputs": [
    {
     "name": "stdout",
     "output_type": "stream",
     "text": [
      "positive    26\n",
      "negative    26\n",
      "Name: Label, dtype: int64 \n",
      "\n",
      " Text     False\n",
      "Label    False\n",
      "dtype: bool\n"
     ]
    }
   ],
   "source": [
    "print(education.Label.value_counts(), '\\n\\n', education.isna().any())"
   ]
  },
  {
   "cell_type": "code",
   "execution_count": 4,
   "id": "34eae400",
   "metadata": {},
   "outputs": [
    {
     "name": "stdout",
     "output_type": "stream",
     "text": [
      "positive    34\n",
      "negative    14\n",
      "Name: Label, dtype: int64 \n",
      "\n",
      " Text     False\n",
      "Label    False\n",
      "dtype: bool\n"
     ]
    }
   ],
   "source": [
    "print(finance.Label.value_counts(), '\\n\\n', finance.isna().any())"
   ]
  },
  {
   "cell_type": "code",
   "execution_count": 5,
   "id": "1d115722",
   "metadata": {},
   "outputs": [
    {
     "name": "stdout",
     "output_type": "stream",
     "text": [
      "negative    28\n",
      "positive    25\n",
      "Name: Label, dtype: int64 \n",
      "\n",
      " Text     False\n",
      "Label    False\n",
      "dtype: bool\n"
     ]
    }
   ],
   "source": [
    "print(politics.Label.value_counts(), '\\n\\n', politics.isna().any())"
   ]
  },
  {
   "cell_type": "code",
   "execution_count": 6,
   "id": "3568195a",
   "metadata": {},
   "outputs": [
    {
     "name": "stdout",
     "output_type": "stream",
     "text": [
      "positive    28\n",
      "negative    28\n",
      "Name: Label, dtype: int64 \n",
      "\n",
      " Text     False\n",
      "Label    False\n",
      "dtype: bool\n"
     ]
    }
   ],
   "source": [
    "print(sports.Label.value_counts(), '\\n\\n', sports.isna().any())"
   ]
  },
  {
   "cell_type": "code",
   "execution_count": 7,
   "id": "5ae6963a",
   "metadata": {},
   "outputs": [],
   "source": [
    "df = pd.concat([education, politics, sports, finance])"
   ]
  },
  {
   "cell_type": "code",
   "execution_count": 8,
   "id": "406d02a1",
   "metadata": {},
   "outputs": [],
   "source": [
    "df = df.sample(frac=1)"
   ]
  },
  {
   "cell_type": "code",
   "execution_count": 9,
   "id": "9f3d4df1",
   "metadata": {},
   "outputs": [
    {
     "name": "stdout",
     "output_type": "stream",
     "text": [
      "<class 'pandas.core.frame.DataFrame'>\n",
      "Int64Index: 209 entries, 25 to 46\n",
      "Data columns (total 2 columns):\n",
      " #   Column  Non-Null Count  Dtype \n",
      "---  ------  --------------  ----- \n",
      " 0   Text    209 non-null    object\n",
      " 1   Label   209 non-null    object\n",
      "dtypes: object(2)\n",
      "memory usage: 4.9+ KB\n"
     ]
    }
   ],
   "source": [
    "df.info()"
   ]
  },
  {
   "cell_type": "code",
   "execution_count": 10,
   "id": "c0a77c5e",
   "metadata": {},
   "outputs": [
    {
     "data": {
      "text/plain": [
       "False"
      ]
     },
     "execution_count": 10,
     "metadata": {},
     "output_type": "execute_result"
    }
   ],
   "source": [
    "df.duplicated().any()"
   ]
  },
  {
   "cell_type": "markdown",
   "id": "0c62d6b5",
   "metadata": {},
   "source": [
    "### Обучаем модель с помощью torch. Отличие от предыдущей модели не сильно отличаются"
   ]
  },
  {
   "cell_type": "code",
   "execution_count": 11,
   "id": "071ed82e",
   "metadata": {},
   "outputs": [],
   "source": [
    "import torch\n",
    "import evaluate\n",
    "import pandas as pd\n",
    "from tqdm.auto import tqdm\n",
    "from datasets import Dataset\n",
    "from torch.optim import AdamW\n",
    "from torch.utils.data import DataLoader\n",
    "from sklearn.model_selection import train_test_split\n",
    "from transformers import AutoTokenizer, AutoModelForSequenceClassification, get_scheduler\n"
   ]
  },
  {
   "cell_type": "code",
   "execution_count": 12,
   "id": "9af024a0",
   "metadata": {},
   "outputs": [
    {
     "data": {
      "text/html": [
       "<div>\n",
       "<style scoped>\n",
       "    .dataframe tbody tr th:only-of-type {\n",
       "        vertical-align: middle;\n",
       "    }\n",
       "\n",
       "    .dataframe tbody tr th {\n",
       "        vertical-align: top;\n",
       "    }\n",
       "\n",
       "    .dataframe thead th {\n",
       "        text-align: right;\n",
       "    }\n",
       "</style>\n",
       "<table border=\"1\" class=\"dataframe\">\n",
       "  <thead>\n",
       "    <tr style=\"text-align: right;\">\n",
       "      <th></th>\n",
       "      <th>Text</th>\n",
       "      <th>Label</th>\n",
       "    </tr>\n",
       "  </thead>\n",
       "  <tbody>\n",
       "    <tr>\n",
       "      <th>25</th>\n",
       "      <td>Political campaigns rely on fear-mongering tac...</td>\n",
       "      <td>negative</td>\n",
       "    </tr>\n",
       "    <tr>\n",
       "      <th>41</th>\n",
       "      <td>Financial engineering techniques allow firms t...</td>\n",
       "      <td>positive</td>\n",
       "    </tr>\n",
       "    <tr>\n",
       "      <th>19</th>\n",
       "      <td>The media plays a crucial role in holding poli...</td>\n",
       "      <td>positive</td>\n",
       "    </tr>\n",
       "    <tr>\n",
       "      <th>0</th>\n",
       "      <td>The financial markets are influenced by a myri...</td>\n",
       "      <td>positive</td>\n",
       "    </tr>\n",
       "    <tr>\n",
       "      <th>15</th>\n",
       "      <td>The impact of political decisions extends far ...</td>\n",
       "      <td>positive</td>\n",
       "    </tr>\n",
       "  </tbody>\n",
       "</table>\n",
       "</div>"
      ],
      "text/plain": [
       "                                                 Text     Label\n",
       "25  Political campaigns rely on fear-mongering tac...  negative\n",
       "41  Financial engineering techniques allow firms t...  positive\n",
       "19  The media plays a crucial role in holding poli...  positive\n",
       "0   The financial markets are influenced by a myri...  positive\n",
       "15  The impact of political decisions extends far ...  positive"
      ]
     },
     "execution_count": 12,
     "metadata": {},
     "output_type": "execute_result"
    }
   ],
   "source": [
    "df.head()"
   ]
  },
  {
   "cell_type": "code",
   "execution_count": 13,
   "id": "bb3ae2ce",
   "metadata": {},
   "outputs": [],
   "source": [
    "# наш таргет\n",
    "df['Label'] = df['Label'].apply(lambda x: {True: 1, False:0}[x=='positive'])\n"
   ]
  },
  {
   "cell_type": "code",
   "execution_count": 14,
   "id": "6654a895",
   "metadata": {},
   "outputs": [
    {
     "data": {
      "text/html": [
       "<div>\n",
       "<style scoped>\n",
       "    .dataframe tbody tr th:only-of-type {\n",
       "        vertical-align: middle;\n",
       "    }\n",
       "\n",
       "    .dataframe tbody tr th {\n",
       "        vertical-align: top;\n",
       "    }\n",
       "\n",
       "    .dataframe thead th {\n",
       "        text-align: right;\n",
       "    }\n",
       "</style>\n",
       "<table border=\"1\" class=\"dataframe\">\n",
       "  <thead>\n",
       "    <tr style=\"text-align: right;\">\n",
       "      <th></th>\n",
       "      <th>Text</th>\n",
       "      <th>Label</th>\n",
       "    </tr>\n",
       "  </thead>\n",
       "  <tbody>\n",
       "    <tr>\n",
       "      <th>25</th>\n",
       "      <td>Political campaigns rely on fear-mongering tac...</td>\n",
       "      <td>0</td>\n",
       "    </tr>\n",
       "    <tr>\n",
       "      <th>41</th>\n",
       "      <td>Financial engineering techniques allow firms t...</td>\n",
       "      <td>1</td>\n",
       "    </tr>\n",
       "    <tr>\n",
       "      <th>19</th>\n",
       "      <td>The media plays a crucial role in holding poli...</td>\n",
       "      <td>1</td>\n",
       "    </tr>\n",
       "    <tr>\n",
       "      <th>0</th>\n",
       "      <td>The financial markets are influenced by a myri...</td>\n",
       "      <td>1</td>\n",
       "    </tr>\n",
       "    <tr>\n",
       "      <th>15</th>\n",
       "      <td>The impact of political decisions extends far ...</td>\n",
       "      <td>1</td>\n",
       "    </tr>\n",
       "  </tbody>\n",
       "</table>\n",
       "</div>"
      ],
      "text/plain": [
       "                                                 Text  Label\n",
       "25  Political campaigns rely on fear-mongering tac...      0\n",
       "41  Financial engineering techniques allow firms t...      1\n",
       "19  The media plays a crucial role in holding poli...      1\n",
       "0   The financial markets are influenced by a myri...      1\n",
       "15  The impact of political decisions extends far ...      1"
      ]
     },
     "execution_count": 14,
     "metadata": {},
     "output_type": "execute_result"
    }
   ],
   "source": [
    "df.head()"
   ]
  },
  {
   "cell_type": "code",
   "execution_count": 15,
   "id": "4865407e",
   "metadata": {},
   "outputs": [],
   "source": [
    "# Конвертируем датафрейм в Dataset\n",
    "train, test = train_test_split(df, test_size=0.2)\n",
    "train = Dataset.from_pandas(train)\n",
    "test = Dataset.from_pandas(test)\n"
   ]
  },
  {
   "cell_type": "code",
   "execution_count": 16,
   "id": "9c5de957",
   "metadata": {},
   "outputs": [],
   "source": [
    "# Выполняем предобработку текста\n",
    "tokenizer = AutoTokenizer.from_pretrained('SkolkovoInstitute/russian_toxicity_classifier')\n"
   ]
  },
  {
   "cell_type": "code",
   "execution_count": 17,
   "id": "3964f04b",
   "metadata": {},
   "outputs": [],
   "source": [
    "def tokenize_func(examples):\n",
    "    return tokenizer(examples['Text'], padding='max_length', truncation=True)\n",
    "\n",
    "def ds_preproc(ds):\n",
    "    ds = ds.map(tokenize_func)\n",
    "    ds = ds.remove_columns(['Text', '__index_level_0__'])\n",
    "    ds = ds.rename_column('Label', 'labels')\n",
    "    ds.set_format('torch')\n",
    "    return ds\n"
   ]
  },
  {
   "cell_type": "code",
   "execution_count": 18,
   "id": "e22d221c",
   "metadata": {},
   "outputs": [
    {
     "data": {
      "application/vnd.jupyter.widget-view+json": {
       "model_id": "",
       "version_major": 2,
       "version_minor": 0
      },
      "text/plain": [
       "Map:   0%|          | 0/167 [00:00<?, ? examples/s]"
      ]
     },
     "metadata": {},
     "output_type": "display_data"
    },
    {
     "data": {
      "application/vnd.jupyter.widget-view+json": {
       "model_id": "",
       "version_major": 2,
       "version_minor": 0
      },
      "text/plain": [
       "Map:   0%|          | 0/42 [00:00<?, ? examples/s]"
      ]
     },
     "metadata": {},
     "output_type": "display_data"
    }
   ],
   "source": [
    "tokenized_train = ds_preproc(train)\n",
    "tokenized_test = ds_preproc(test)\n"
   ]
  },
  {
   "cell_type": "code",
   "execution_count": 19,
   "id": "3512ed56",
   "metadata": {},
   "outputs": [],
   "source": [
    "# Создаем даталоадер\n",
    "train_dataloader = DataLoader(tokenized_train, shuffle=True, batch_size=8)\n",
    "test_dataloader = DataLoader(tokenized_test, batch_size=8)\n"
   ]
  },
  {
   "cell_type": "code",
   "execution_count": 20,
   "id": "7630a10d",
   "metadata": {},
   "outputs": [],
   "source": [
    "# Загружаем модель и указываем кол-во классов\n",
    "model = AutoModelForSequenceClassification.from_pretrained(\n",
    "    'SkolkovoInstitute/russian_toxicity_classifier',\n",
    "    num_labels=2)\n"
   ]
  },
  {
   "cell_type": "code",
   "execution_count": 21,
   "id": "75006d26",
   "metadata": {},
   "outputs": [],
   "source": [
    "# Задаем оптимайзер и шедулер\n",
    "optimizer = AdamW(model.parameters(), lr=5e-6)\n",
    "\n",
    "num_epochs = 5\n",
    "num_training_steps = num_epochs * len(train_dataloader)\n",
    "\n",
    "lr_scheduler = get_scheduler(\n",
    "    name = 'linear',\n",
    "    optimizer = optimizer,\n",
    "    num_warmup_steps = 0,\n",
    "    num_training_steps = num_training_steps)\n",
    "\n",
    "# device = 'mps'\n",
    "# model.to(device)\n"
   ]
  },
  {
   "cell_type": "code",
   "execution_count": 23,
   "id": "c6d35f3c",
   "metadata": {
    "scrolled": true
   },
   "outputs": [
    {
     "data": {
      "application/vnd.jupyter.widget-view+json": {
       "model_id": "eb08f34f0b6b4d729aedf4d9fa4a95f5",
       "version_major": 2,
       "version_minor": 0
      },
      "text/plain": [
       "  0%|          | 0/5 [00:00<?, ?it/s]"
      ]
     },
     "metadata": {},
     "output_type": "display_data"
    },
    {
     "data": {
      "application/vnd.jupyter.widget-view+json": {
       "model_id": "",
       "version_major": 2,
       "version_minor": 0
      },
      "text/plain": [
       "  0%|          | 0/21 [00:00<?, ?it/s]"
      ]
     },
     "metadata": {},
     "output_type": "display_data"
    },
    {
     "data": {
      "application/vnd.jupyter.widget-view+json": {
       "model_id": "",
       "version_major": 2,
       "version_minor": 0
      },
      "text/plain": [
       "  0%|          | 0/6 [00:00<?, ?it/s]"
      ]
     },
     "metadata": {},
     "output_type": "display_data"
    },
    {
     "name": "stdout",
     "output_type": "stream",
     "text": [
      "epoch 0 - {'f1': 0.6779661016949152}\n"
     ]
    },
    {
     "data": {
      "application/vnd.jupyter.widget-view+json": {
       "model_id": "",
       "version_major": 2,
       "version_minor": 0
      },
      "text/plain": [
       "  0%|          | 0/21 [00:00<?, ?it/s]"
      ]
     },
     "metadata": {},
     "output_type": "display_data"
    },
    {
     "data": {
      "application/vnd.jupyter.widget-view+json": {
       "model_id": "",
       "version_major": 2,
       "version_minor": 0
      },
      "text/plain": [
       "  0%|          | 0/6 [00:00<?, ?it/s]"
      ]
     },
     "metadata": {},
     "output_type": "display_data"
    },
    {
     "name": "stdout",
     "output_type": "stream",
     "text": [
      "epoch 1 - {'f1': 0.43902439024390244}\n"
     ]
    },
    {
     "data": {
      "application/vnd.jupyter.widget-view+json": {
       "model_id": "",
       "version_major": 2,
       "version_minor": 0
      },
      "text/plain": [
       "  0%|          | 0/21 [00:00<?, ?it/s]"
      ]
     },
     "metadata": {},
     "output_type": "display_data"
    },
    {
     "data": {
      "application/vnd.jupyter.widget-view+json": {
       "model_id": "",
       "version_major": 2,
       "version_minor": 0
      },
      "text/plain": [
       "  0%|          | 0/6 [00:00<?, ?it/s]"
      ]
     },
     "metadata": {},
     "output_type": "display_data"
    },
    {
     "name": "stdout",
     "output_type": "stream",
     "text": [
      "epoch 2 - {'f1': 0.5714285714285714}\n"
     ]
    },
    {
     "data": {
      "application/vnd.jupyter.widget-view+json": {
       "model_id": "",
       "version_major": 2,
       "version_minor": 0
      },
      "text/plain": [
       "  0%|          | 0/21 [00:00<?, ?it/s]"
      ]
     },
     "metadata": {},
     "output_type": "display_data"
    },
    {
     "data": {
      "application/vnd.jupyter.widget-view+json": {
       "model_id": "",
       "version_major": 2,
       "version_minor": 0
      },
      "text/plain": [
       "  0%|          | 0/6 [00:00<?, ?it/s]"
      ]
     },
     "metadata": {},
     "output_type": "display_data"
    },
    {
     "name": "stdout",
     "output_type": "stream",
     "text": [
      "epoch 3 - {'f1': 0.5833333333333334}\n"
     ]
    },
    {
     "data": {
      "application/vnd.jupyter.widget-view+json": {
       "model_id": "",
       "version_major": 2,
       "version_minor": 0
      },
      "text/plain": [
       "  0%|          | 0/21 [00:00<?, ?it/s]"
      ]
     },
     "metadata": {},
     "output_type": "display_data"
    },
    {
     "data": {
      "application/vnd.jupyter.widget-view+json": {
       "model_id": "",
       "version_major": 2,
       "version_minor": 0
      },
      "text/plain": [
       "  0%|          | 0/6 [00:00<?, ?it/s]"
      ]
     },
     "metadata": {},
     "output_type": "display_data"
    },
    {
     "name": "stdout",
     "output_type": "stream",
     "text": [
      "epoch 4 - {'f1': 0.5833333333333334}\n"
     ]
    }
   ],
   "source": [
    "# Выполняем цикл...\n",
    "for epoch in tqdm(range(num_epochs)):\n",
    "\n",
    "    #... обучения\n",
    "    model.train()\n",
    "    \n",
    "    for batch in tqdm(train_dataloader, leave=False):\n",
    "#         batch = {k: v.to(device) for k, v in batch.items()}\n",
    "\n",
    "        outputs = model(**batch)\n",
    "        loss = outputs.loss\n",
    "        loss.backward()\n",
    "        optimizer.step()\n",
    "        lr_scheduler.step()\n",
    "        optimizer.zero_grad()\n",
    "\n",
    "#     ... оценки\n",
    "    metric = evaluate.load('f1')\n",
    "\n",
    "    model.eval()\n",
    "    \n",
    "    for batch in tqdm(test_dataloader, leave=False):\n",
    "#         batch = {k: v.to(device) for k, v in batch.items()}\n",
    "        with torch.no_grad():\n",
    "            outputs = model(**batch)\n",
    "        logits = outputs.logits\n",
    "        predictions = torch.argmax(logits, dim=-1)\n",
    "\n",
    "        metric.add_batch(predictions=predictions, references=batch['labels'])\n",
    "\n",
    "    print(f'epoch {epoch} -', metric.compute())\n"
   ]
  },
  {
   "cell_type": "code",
   "execution_count": null,
   "id": "d2f384fe",
   "metadata": {},
   "outputs": [],
   "source": []
  },
  {
   "cell_type": "code",
   "execution_count": null,
   "id": "a28f651b",
   "metadata": {},
   "outputs": [],
   "source": []
  }
 ],
 "metadata": {
  "kernelspec": {
   "display_name": "Python 3 (ipykernel)",
   "language": "python",
   "name": "python3"
  },
  "language_info": {
   "codemirror_mode": {
    "name": "ipython",
    "version": 3
   },
   "file_extension": ".py",
   "mimetype": "text/x-python",
   "name": "python",
   "nbconvert_exporter": "python",
   "pygments_lexer": "ipython3",
   "version": "3.11.4"
  }
 },
 "nbformat": 4,
 "nbformat_minor": 5
}
