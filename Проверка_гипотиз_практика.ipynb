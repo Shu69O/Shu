{
 "cells": [
  {
   "cell_type": "code",
   "execution_count": 1,
   "metadata": {
    "id": "o78Ba5zQ4hyu"
   },
   "outputs": [],
   "source": [
    "import numpy as np\n",
    "import scipy.stats as st\n",
    "import pandas as pd\n",
    "import math\n",
    "import matplotlib.pyplot as plt"
   ]
  },
  {
   "cell_type": "markdown",
   "metadata": {
    "id": "QdJwu84W4hyw"
   },
   "source": [
    "## Параметрические тесты\n",
    "### Тест Стьюдента\n",
    "\n",
    "Проверка среднего значения двух выборок или одной выборки с целевым значением\n",
    "\n",
    "Допущения\n",
    "\n",
    "* Наблюдения внутри каждой выборки независимы друг от друга.\n",
    "* Распределение данных - нормальное или близкое к нормальному. Можно применять для других распределений\n",
    "* Одинаковая вариация в выборках.\n",
    "\n",
    "Гипотеза\n",
    "\n",
    "* H0: Средние выборок одинаковы / Средние выборки совпадает с целевым значением \n",
    "* H1: Средние выборок различаются / Средние выборки отличается от целевого значения"
   ]
  },
  {
   "cell_type": "markdown",
   "metadata": {
    "id": "zOkGt22K4hyy"
   },
   "source": [
    "#### Одновыборочный тест"
   ]
  },
  {
   "cell_type": "markdown",
   "metadata": {
    "id": "qshILT9s4hyy"
   },
   "source": [
    "<b>Задача.</b> Тест покажет нам, отличаются ли средние значения выборки и генеральной совокупности (сравниваем с генеральной!). Рассмотрим некоторое количество голосующих из Индии и население всего Мира. Отличается ли средний возраст избирателей Индии от возраста населения?"
   ]
  },
  {
   "cell_type": "code",
   "execution_count": 28,
   "metadata": {
    "colab": {
     "base_uri": "https://localhost:8080/"
    },
    "executionInfo": {
     "elapsed": 235,
     "status": "ok",
     "timestamp": 1669128612579,
     "user": {
      "displayName": "Виктория Сухорукова",
      "userId": "12182369867649867455"
     },
     "user_tz": -180
    },
    "id": "eaZBDECd4hyz",
    "outputId": "2c9c38d9-7bb0-4752-83a9-9970bd8498fd"
   },
   "outputs": [
    {
     "name": "stdout",
     "output_type": "stream",
     "text": [
      "Средний возраст всего мира 19.870598784440563\n",
      "Средний возраст индусов 20.815033188073294\n"
     ]
    }
   ],
   "source": [
    "np.random.seed(54)\n",
    "\n",
    "population_ages1=st.norm.rvs(loc=20, scale=45, size=15000)   \n",
    "population_ages2=st.norm.rvs(loc=20, scale=10, size=10000)\n",
    "population_ages=np.concatenate((population_ages1, population_ages2))  # Сгенерировали всю популяцию. \n",
    "\n",
    "india_ages1=st.norm.rvs(loc=19, scale=65, size=2000)  # Индия 1\n",
    "india_ages2=st.norm.rvs(loc=19, scale=55, size=2000)\n",
    "india_ages=np.concatenate((india_ages1, india_ages2)) #Выборка\n",
    "print('Средний возраст всего мира', population_ages.mean())\n",
    "print('Средний возраст индусов', india_ages.mean())"
   ]
  },
  {
   "cell_type": "code",
   "execution_count": 29,
   "metadata": {
    "colab": {
     "base_uri": "https://localhost:8080/"
    },
    "executionInfo": {
     "elapsed": 278,
     "status": "ok",
     "timestamp": 1669128703486,
     "user": {
      "displayName": "Виктория Сухорукова",
      "userId": "12182369867649867455"
     },
     "user_tz": -180
    },
    "id": "yrxN8BCm4hy0",
    "outputId": "8fbdfeaf-e2a0-452c-99a9-bf6d08e13bf2"
   },
   "outputs": [
    {
     "name": "stdout",
     "output_type": "stream",
     "text": [
      "Статистика = 0.995, p = 0.320\n",
      "Не отклоняем нулевую гипотезу, средний возраст в Индии, вероятно, не отличается от среднего по миру\n"
     ]
    }
   ],
   "source": [
    "stat, p = st.ttest_1samp(a=india_ages, popmean=population_ages.mean())\n",
    "print(f\"Статистика = {stat:.3f}, p = {p:.3f}\")\n",
    "\n",
    "if p > 0.05:\n",
    "    print(\"Не отклоняем нулевую гипотезу, средний возраст в Индии, вероятно, не отличается от среднего по миру\")\n",
    "else:\n",
    "    print(\"Отклоняем нулевую гипотезу, средний возраст в Индии, вероятно, отличается от среднего по миру\")"
   ]
  },
  {
   "cell_type": "code",
   "execution_count": 5,
   "metadata": {
    "colab": {
     "base_uri": "https://localhost:8080/",
     "height": 265
    },
    "executionInfo": {
     "elapsed": 1779,
     "status": "ok",
     "timestamp": 1669128742246,
     "user": {
      "displayName": "Виктория Сухорукова",
      "userId": "12182369867649867455"
     },
     "user_tz": -180
    },
    "id": "8yXS7luT4hy1",
    "outputId": "d57b1f99-ff8a-4c16-d143-7756011fa19e"
   },
   "outputs": [
    {
     "data": {
      "image/png": "[encoded data removed]",
      "text/plain": [
       "<Figure size 640x480 with 1 Axes>"
      ]
     },
     "metadata": {},
     "output_type": "display_data"
    }
   ],
   "source": [
    "plt.hist(population_ages, bins=120); # Вся популяция.\n",
    "plt.hist(india_ages, bins=120);  # Выборка"
   ]
  },
  {
   "cell_type": "markdown",
   "metadata": {
    "id": "V3egYRzS4hy2"
   },
   "source": [
    "#### Тест для двух выборок"
   ]
  },
  {
   "cell_type": "markdown",
   "metadata": {
    "id": "fs37Ir_U4hy3"
   },
   "source": [
    "<b>Задача.</b> Такой тест показывает, имеют ли две выборки разные средние значения."
   ]
  },
  {
   "cell_type": "code",
   "execution_count": 6,
   "metadata": {
    "colab": {
     "base_uri": "https://localhost:8080/"
    },
    "executionInfo": {
     "elapsed": 268,
     "status": "ok",
     "timestamp": 1669128793780,
     "user": {
      "displayName": "Виктория Сухорукова",
      "userId": "12182369867649867455"
     },
     "user_tz": -180
    },
    "id": "rLGi5fPp4hy4",
    "outputId": "106dcf74-e265-4f31-d268-84b21440fef6"
   },
   "outputs": [
    {
     "name": "stdout",
     "output_type": "stream",
     "text": [
      "Статистика = 1.52053, p = 0.12997\n",
      "Не отклоняем нулевую гипотезу, средние, вероятно, одинаковые\n"
     ]
    }
   ],
   "source": [
    "np.random.seed(54)\n",
    "\n",
    "# Генерируем случайное множество с нормальным распределением, где среднее = loc, а стандартное отклонение = scale\n",
    "data1 = st.norm.rvs(loc=50, scale=10, size=100)  \n",
    "data2 = st.norm.rvs(loc=45, scale=15, size=100) \n",
    "\n",
    "stat, p = st.ttest_ind(data1, data2)\n",
    "\n",
    "print(f\"Статистика = {stat:.5f}, p = {p:.5f}\")\n",
    "\n",
    "if p > 0.05:\n",
    "    print('Не отклоняем нулевую гипотезу, средние, вероятно, одинаковые')\n",
    "else:\n",
    "    print('Отклоняем нулевую гипотезу, средние, вероятно, различаются')"
   ]
  },
  {
   "cell_type": "markdown",
   "metadata": {
    "id": "xGeCq9ly4hy5"
   },
   "source": [
    "По умолчанию критерий Стьюдента подразумевает равенство дисперсий двух выборок. Если дисперсии отличаются (можно проверить с помощью F-теста), то нужно использовать поправку Уэлча (Welch). В scipy это реализовано через параметр функции ttest_ind: `equal_var = False`"
   ]
  },
  {
   "cell_type": "code",
   "execution_count": 7,
   "metadata": {
    "colab": {
     "base_uri": "https://localhost:8080/"
    },
    "executionInfo": {
     "elapsed": 224,
     "status": "ok",
     "timestamp": 1669128882922,
     "user": {
      "displayName": "Виктория Сухорукова",
      "userId": "12182369867649867455"
     },
     "user_tz": -180
    },
    "id": "qPsURzTq4hy5",
    "outputId": "f151ddd1-0b28-4664-e9b6-b71212c0055a"
   },
   "outputs": [
    {
     "name": "stdout",
     "output_type": "stream",
     "text": [
      "Статистика = 1.52053, p = 0.13031\n",
      "Не отклоняем нулевую гипотезу, средние, вероятно, одинаковые\n"
     ]
    }
   ],
   "source": [
    "stat, p = st.ttest_ind(data1, data2, equal_var = False)\n",
    "\n",
    "print(f\"Статистика = {stat:.5f}, p = {p:.5f}\")\n",
    "if p > 0.05:\n",
    "    print('Не отклоняем нулевую гипотезу, средние, вероятно, одинаковые')\n",
    "else:\n",
    "    print('Отклоняем нулевую гипотезу, средние, вероятно, различаются')"
   ]
  },
  {
   "cell_type": "code",
   "execution_count": 8,
   "metadata": {
    "colab": {
     "base_uri": "https://localhost:8080/",
     "height": 265
    },
    "executionInfo": {
     "elapsed": 608,
     "status": "ok",
     "timestamp": 1669128902321,
     "user": {
      "displayName": "Виктория Сухорукова",
      "userId": "12182369867649867455"
     },
     "user_tz": -180
    },
    "id": "x-iA1SJx4hy6",
    "outputId": "6ef9caff-3eb8-443f-8cb8-7c3c893251e4"
   },
   "outputs": [
    {
     "data": {
      "image/png": "[encoded data removed]",
      "text/plain": [
       "<Figure size 640x480 with 1 Axes>"
      ]
     },
     "metadata": {},
     "output_type": "display_data"
    }
   ],
   "source": [
    "plt.hist(data2, bins=25); #Выборка A\n",
    "plt.hist(data1, bins=25);  #Выборка B"
   ]
  },
  {
   "cell_type": "code",
   "execution_count": 9,
   "metadata": {
    "colab": {
     "base_uri": "https://localhost:8080/",
     "height": 265
    },
    "executionInfo": {
     "elapsed": 534,
     "status": "ok",
     "timestamp": 1669128906593,
     "user": {
      "displayName": "Виктория Сухорукова",
      "userId": "12182369867649867455"
     },
     "user_tz": -180
    },
    "id": "e8cxb5vF4hy6",
    "outputId": "b3acfa57-b7a1-4a05-b7bd-e6acf4c13d10"
   },
   "outputs": [
    {
     "data": {
      "image/png": "[encoded data removed]",
      "text/plain": [
       "<Figure size 640x480 with 1 Axes>"
      ]
     },
     "metadata": {},
     "output_type": "display_data"
    }
   ],
   "source": [
    "plt.boxplot(data1);\n",
    "plt.boxplot(data2);"
   ]
  },
  {
   "cell_type": "markdown",
   "metadata": {
    "id": "VkwrKX824hy6"
   },
   "source": [
    "<b>Помимо проверки, что выборки могу значимо различаться, t-Тест еще полезен при поиске выбросов в данных.</b>"
   ]
  },
  {
   "cell_type": "markdown",
   "metadata": {
    "id": "ol_74C7w4hy7"
   },
   "source": [
    "### Парный тест Стьюдента\n",
    "Сравнивает средние значения при связанных данных, когда измерения проводились, например, до и после каких-то изменений. \n",
    "\n",
    "Допущения\n",
    "\n",
    "* Наблюдения внутри каждой выборки независимы друг от друга.\n",
    "* Распределение данных - нормлаьное или близкое к нормальному. Можно применять для других распределений, но осторожно.\n",
    "* Одинаковая вариация в выборках.\n",
    "* Наблюдения связаны попарно в двух выборках\n",
    "\n",
    "Гипотеза\n",
    "\n",
    "* H0: Средние выборок одинаковы.\n",
    "* H1: Средние выборок различаются."
   ]
  },
  {
   "cell_type": "markdown",
   "metadata": {
    "id": "M54KWhH74hy7"
   },
   "source": [
    "<b>Задача.</b> В парном выборочном t-тесте каждый объект измеряется дважды, в результате чего получаются пары наблюдений. Предположим, нас интересует оценка эффективности программы обучения компании."
   ]
  },
  {
   "cell_type": "code",
   "execution_count": 10,
   "metadata": {
    "colab": {
     "base_uri": "https://localhost:8080/",
     "height": 300
    },
    "executionInfo": {
     "elapsed": 313,
     "status": "ok",
     "timestamp": 1669129129686,
     "user": {
      "displayName": "Виктория Сухорукова",
      "userId": "12182369867649867455"
     },
     "user_tz": -180
    },
    "id": "3hvo1-tH4hy8",
    "outputId": "21e57ef4-0fd4-45ee-e3e7-96a8bd19d31d"
   },
   "outputs": [
    {
     "data": {
      "text/html": [
       "<div>\n",
       "<style scoped>\n",
       "    .dataframe tbody tr th:only-of-type {\n",
       "        vertical-align: middle;\n",
       "    }\n",
       "\n",
       "    .dataframe tbody tr th {\n",
       "        vertical-align: top;\n",
       "    }\n",
       "\n",
       "    .dataframe thead th {\n",
       "        text-align: right;\n",
       "    }\n",
       "</style>\n",
       "<table border=\"1\" class=\"dataframe\">\n",
       "  <thead>\n",
       "    <tr style=\"text-align: right;\">\n",
       "      <th></th>\n",
       "      <th>вес_до</th>\n",
       "      <th>вес_после</th>\n",
       "      <th>вес_изменение</th>\n",
       "    </tr>\n",
       "  </thead>\n",
       "  <tbody>\n",
       "    <tr>\n",
       "      <th>count</th>\n",
       "      <td>100.000000</td>\n",
       "      <td>100.000000</td>\n",
       "      <td>100.000000</td>\n",
       "    </tr>\n",
       "    <tr>\n",
       "      <th>mean</th>\n",
       "      <td>246.691328</td>\n",
       "      <td>246.800651</td>\n",
       "      <td>0.109323</td>\n",
       "    </tr>\n",
       "    <tr>\n",
       "      <th>std</th>\n",
       "      <td>28.161039</td>\n",
       "      <td>28.746787</td>\n",
       "      <td>5.153353</td>\n",
       "    </tr>\n",
       "    <tr>\n",
       "      <th>min</th>\n",
       "      <td>192.332479</td>\n",
       "      <td>189.122861</td>\n",
       "      <td>-12.533319</td>\n",
       "    </tr>\n",
       "    <tr>\n",
       "      <th>25%</th>\n",
       "      <td>228.405828</td>\n",
       "      <td>225.747076</td>\n",
       "      <td>-2.846210</td>\n",
       "    </tr>\n",
       "    <tr>\n",
       "      <th>50%</th>\n",
       "      <td>245.169221</td>\n",
       "      <td>244.712994</td>\n",
       "      <td>-0.115017</td>\n",
       "    </tr>\n",
       "    <tr>\n",
       "      <th>75%</th>\n",
       "      <td>268.328626</td>\n",
       "      <td>266.582395</td>\n",
       "      <td>3.782396</td>\n",
       "    </tr>\n",
       "    <tr>\n",
       "      <th>max</th>\n",
       "      <td>325.254027</td>\n",
       "      <td>319.269443</td>\n",
       "      <td>11.587162</td>\n",
       "    </tr>\n",
       "  </tbody>\n",
       "</table>\n",
       "</div>"
      ],
      "text/plain": [
       "           вес_до   вес_после  вес_изменение\n",
       "count  100.000000  100.000000     100.000000\n",
       "mean   246.691328  246.800651       0.109323\n",
       "std     28.161039   28.746787       5.153353\n",
       "min    192.332479  189.122861     -12.533319\n",
       "25%    228.405828  225.747076      -2.846210\n",
       "50%    245.169221  244.712994      -0.115017\n",
       "75%    268.328626  266.582395       3.782396\n",
       "max    325.254027  319.269443      11.587162"
      ]
     },
     "execution_count": 10,
     "metadata": {},
     "output_type": "execute_result"
    }
   ],
   "source": [
    "np.random.seed(54)\n",
    "\n",
    "before = st.norm.rvs(scale = 30, loc = 250, size = 100)\n",
    "after = before + st.norm.rvs(scale = 5, loc = -.273, size = 100)\n",
    "weight_df = pd.DataFrame({\"вес_до\":before,\n",
    "                         \"вес_после\":after,\n",
    "                         \"вес_изменение\":after-before})\n",
    "weight_df.describe()"
   ]
  },
  {
   "cell_type": "code",
   "execution_count": 11,
   "metadata": {
    "colab": {
     "base_uri": "https://localhost:8080/"
    },
    "executionInfo": {
     "elapsed": 9,
     "status": "ok",
     "timestamp": 1669129368316,
     "user": {
      "displayName": "Виктория Сухорукова",
      "userId": "12182369867649867455"
     },
     "user_tz": -180
    },
    "id": "5_0Noq6K4hy8",
    "outputId": "f8aad59a-41bd-44f0-c955-ef40599d6452"
   },
   "outputs": [
    {
     "name": "stdout",
     "output_type": "stream",
     "text": [
      "Статистика = -0.212, p = 0.832\n",
      "Не отклоняем нулевую гипотезу, средние, вероятно, одинаковые\n"
     ]
    }
   ],
   "source": [
    "stat, p = st.ttest_rel(a=before, b=after)\n",
    "\n",
    "print(f\"Статистика = {stat:.3f}, p = {p:.3f}\")\n",
    "if p > 0.05:\n",
    "    print('Не отклоняем нулевую гипотезу, средние, вероятно, одинаковые')\n",
    "else:\n",
    "    print('Отклоняем нулевую гипотезу, средние, вероятно, различаются')"
   ]
  },
  {
   "cell_type": "markdown",
   "metadata": {
    "id": "mOm0fGZi4hy9"
   },
   "source": [
    "<b>Задача.</b> Рассмотрим рынок жилья в Нью-Йорке.\n",
    "\n",
    "New York City Airbnb Open Data Airbnb listings and metrics in NYC, NY, USA (2019)"
   ]
  },
  {
   "cell_type": "markdown",
   "metadata": {
    "id": "k8jVzS9c4hy9"
   },
   "source": [
    "<p style=\"align: center;\"><img align=center src=\"https://upload.wikimedia.org/wikipedia/commons/5/5a/New_York_City_District_Map.png\n",
    "\"  width=400></p>"
   ]
  },
  {
   "cell_type": "code",
   "execution_count": 12,
   "metadata": {
    "colab": {
     "base_uri": "https://localhost:8080/",
     "height": 329
    },
    "executionInfo": {
     "elapsed": 885,
     "status": "ok",
     "timestamp": 1669129415195,
     "user": {
      "displayName": "Виктория Сухорукова",
      "userId": "12182369867649867455"
     },
     "user_tz": -180
    },
    "id": "d_tZvnqa4hy-",
    "outputId": "81c0b5ee-f25a-4f3b-954b-597669a0be29"
   },
   "outputs": [
    {
     "data": {
      "text/html": [
       "<div>\n",
       "<style scoped>\n",
       "    .dataframe tbody tr th:only-of-type {\n",
       "        vertical-align: middle;\n",
       "    }\n",
       "\n",
       "    .dataframe tbody tr th {\n",
       "        vertical-align: top;\n",
       "    }\n",
       "\n",
       "    .dataframe thead th {\n",
       "        text-align: right;\n",
       "    }\n",
       "</style>\n",
       "<table border=\"1\" class=\"dataframe\">\n",
       "  <thead>\n",
       "    <tr style=\"text-align: right;\">\n",
       "      <th></th>\n",
       "      <th>id</th>\n",
       "      <th>name</th>\n",
       "      <th>host_id</th>\n",
       "      <th>host_name</th>\n",
       "      <th>neighbourhood_group</th>\n",
       "      <th>neighbourhood</th>\n",
       "      <th>latitude</th>\n",
       "      <th>longitude</th>\n",
       "      <th>room_type</th>\n",
       "      <th>price</th>\n",
       "      <th>minimum_nights</th>\n",
       "      <th>number_of_reviews</th>\n",
       "      <th>last_review</th>\n",
       "      <th>reviews_per_month</th>\n",
       "      <th>calculated_host_listings_count</th>\n",
       "      <th>availability_365</th>\n",
       "    </tr>\n",
       "  </thead>\n",
       "  <tbody>\n",
       "    <tr>\n",
       "      <th>0</th>\n",
       "      <td>2539</td>\n",
       "      <td>Clean &amp; quiet apt home by the park</td>\n",
       "      <td>2787</td>\n",
       "      <td>John</td>\n",
       "      <td>Brooklyn</td>\n",
       "      <td>Kensington</td>\n",
       "      <td>40.64749</td>\n",
       "      <td>-73.97237</td>\n",
       "      <td>Private room</td>\n",
       "      <td>149</td>\n",
       "      <td>1</td>\n",
       "      <td>9</td>\n",
       "      <td>2018-10-19</td>\n",
       "      <td>0.21</td>\n",
       "      <td>6</td>\n",
       "      <td>365</td>\n",
       "    </tr>\n",
       "    <tr>\n",
       "      <th>1</th>\n",
       "      <td>2595</td>\n",
       "      <td>Skylit Midtown Castle</td>\n",
       "      <td>2845</td>\n",
       "      <td>Jennifer</td>\n",
       "      <td>Manhattan</td>\n",
       "      <td>Midtown</td>\n",
       "      <td>40.75362</td>\n",
       "      <td>-73.98377</td>\n",
       "      <td>Entire home/apt</td>\n",
       "      <td>225</td>\n",
       "      <td>1</td>\n",
       "      <td>45</td>\n",
       "      <td>2019-05-21</td>\n",
       "      <td>0.38</td>\n",
       "      <td>2</td>\n",
       "      <td>355</td>\n",
       "    </tr>\n",
       "    <tr>\n",
       "      <th>3</th>\n",
       "      <td>3831</td>\n",
       "      <td>Cozy Entire Floor of Brownstone</td>\n",
       "      <td>4869</td>\n",
       "      <td>LisaRoxanne</td>\n",
       "      <td>Brooklyn</td>\n",
       "      <td>Clinton Hill</td>\n",
       "      <td>40.68514</td>\n",
       "      <td>-73.95976</td>\n",
       "      <td>Entire home/apt</td>\n",
       "      <td>89</td>\n",
       "      <td>1</td>\n",
       "      <td>270</td>\n",
       "      <td>2019-07-05</td>\n",
       "      <td>4.64</td>\n",
       "      <td>1</td>\n",
       "      <td>194</td>\n",
       "    </tr>\n",
       "  </tbody>\n",
       "</table>\n",
       "</div>"
      ],
      "text/plain": [
       "     id                                name  host_id    host_name  \\\n",
       "0  2539  Clean & quiet apt home by the park     2787         John   \n",
       "1  2595               Skylit Midtown Castle     2845     Jennifer   \n",
       "3  3831     Cozy Entire Floor of Brownstone     4869  LisaRoxanne   \n",
       "\n",
       "  neighbourhood_group neighbourhood  latitude  longitude        room_type  \\\n",
       "0            Brooklyn    Kensington  40.64749  -73.97237     Private room   \n",
       "1           Manhattan       Midtown  40.75362  -73.98377  Entire home/apt   \n",
       "3            Brooklyn  Clinton Hill  40.68514  -73.95976  Entire home/apt   \n",
       "\n",
       "   price  minimum_nights  number_of_reviews last_review  reviews_per_month  \\\n",
       "0    149               1                  9  2018-10-19               0.21   \n",
       "1    225               1                 45  2019-05-21               0.38   \n",
       "3     89               1                270  2019-07-05               4.64   \n",
       "\n",
       "   calculated_host_listings_count  availability_365  \n",
       "0                               6               365  \n",
       "1                               2               355  \n",
       "3                               1               194  "
      ]
     },
     "execution_count": 12,
     "metadata": {},
     "output_type": "execute_result"
    }
   ],
   "source": [
    "url  = 'https://raw.githubusercontent.com/a-milenkin/datasets_for_t-tests/main/AB_NYC_2019.csv'\n",
    "df = pd.read_csv(url, on_bad_lines='skip')\n",
    "df.dropna(how='any',inplace=True)\n",
    "df.head(3)"
   ]
  },
  {
   "cell_type": "code",
   "execution_count": 13,
   "metadata": {
    "colab": {
     "base_uri": "https://localhost:8080/",
     "height": 265
    },
    "executionInfo": {
     "elapsed": 315,
     "status": "ok",
     "timestamp": 1669129455493,
     "user": {
      "displayName": "Виктория Сухорукова",
      "userId": "12182369867649867455"
     },
     "user_tz": -180
    },
    "id": "66Rbmgb84hy-",
    "outputId": "bfa66536-63d3-4832-b9aa-c439c3173118"
   },
   "outputs": [
    {
     "data": {
      "image/png": "[encoded data removed]",
      "text/plain": [
       "<Figure size 640x480 with 1 Axes>"
      ]
     },
     "metadata": {},
     "output_type": "display_data"
    }
   ],
   "source": [
    "df[df.price<500].price.hist(bins=30);"
   ]
  },
  {
   "cell_type": "markdown",
   "metadata": {
    "id": "gqpyaMGa4hy-"
   },
   "source": [
    "<b>Преобразуем данные</b>"
   ]
  },
  {
   "cell_type": "code",
   "execution_count": 14,
   "metadata": {
    "colab": {
     "base_uri": "https://localhost:8080/",
     "height": 265
    },
    "executionInfo": {
     "elapsed": 1110,
     "status": "ok",
     "timestamp": 1669129493613,
     "user": {
      "displayName": "Виктория Сухорукова",
      "userId": "12182369867649867455"
     },
     "user_tz": -180
    },
    "id": "9QTtSRbR4hy_",
    "outputId": "2282fe95-c196-46f1-fe56-42c72199d43b"
   },
   "outputs": [
    {
     "data": {
      "image/png": "[encoded data removed]",
      "text/plain": [
       "<Figure size 640x480 with 1 Axes>"
      ]
     },
     "metadata": {},
     "output_type": "display_data"
    }
   ],
   "source": [
    "np.log2(abs(df[df.price<500].price)+1).hist(bins=30);"
   ]
  },
  {
   "cell_type": "markdown",
   "metadata": {
    "id": "3Sp38eqD4hy_"
   },
   "source": [
    "<b>Теперь можно применять параметрические тесты!</b>"
   ]
  },
  {
   "cell_type": "markdown",
   "metadata": {
    "id": "cgCZM8tz4hy_"
   },
   "source": [
    "## Непараметрические тесты\n",
    "### Тест Манна-Уитни \n",
    "Критерий Манна-Уитни представляет непараметрическую альтернативу критерия Стьюдента для независимых выборок и используется для оценки различий между двумя независимыми выборками по уровню какого-либо признака, измеренного количественно. \n",
    "\n",
    "Допущения\n",
    "\n",
    "* Наблюдения внутри каждой выборки независимы друг от друга.\n",
    "* Наблюдения можно проранжировать.\n",
    "\n",
    "Гипотеза\n",
    "\n",
    "* H0: Распределения одинаковы.\n",
    "* H1: Распределения различаются."
   ]
  },
  {
   "cell_type": "code",
   "execution_count": 15,
   "metadata": {
    "colab": {
     "base_uri": "https://localhost:8080/"
    },
    "executionInfo": {
     "elapsed": 517,
     "status": "ok",
     "timestamp": 1669129577718,
     "user": {
      "displayName": "Виктория Сухорукова",
      "userId": "12182369867649867455"
     },
     "user_tz": -180
    },
    "id": "hpeH5bkX4hzA",
    "outputId": "f5183881-9dfd-49ef-f49b-375c1aa87970"
   },
   "outputs": [
    {
     "name": "stdout",
     "output_type": "stream",
     "text": [
      "Статистика = 40.00000, p = 0.47268\n",
      "Не отклоняем нулевую гипотезу, распределения, вероятно, одинаковые\n"
     ]
    }
   ],
   "source": [
    "data1 = [0.873, 2.817, 0.121, -0.945, -0.055, -1.436, 0.360, -1.478, -1.637, -1.869]\n",
    "data2 = [1.142, -0.432, -0.938, -0.729, -0.846, -0.157, 0.500, 1.183, -1.075, -0.169]\n",
    "\n",
    "stat, p = st.mannwhitneyu(data1, data2)\n",
    "\n",
    "print(f\"Статистика = {stat:.5f}, p = {p:.5f}\")\n",
    "\n",
    "if p > 0.05:\n",
    "    print('Не отклоняем нулевую гипотезу, распределения, вероятно, одинаковые')\n",
    "else:\n",
    "    print('Отклоняем нулевую гипотезу, распределения, вероятно, различаются')"
   ]
  },
  {
   "cell_type": "markdown",
   "metadata": {
    "id": "Z9nyGGrM4hzA"
   },
   "source": [
    "### Тест Вилкоксона\n",
    "Тест Вилкоксона - это непараметрический аналог парного критерия Стьюдента. \n",
    "\n",
    "Допущения\n",
    "\n",
    "* Наблюдения внутри каждой выборки независимы друг от друга.\n",
    "* Наблюдения можно проранжировать.\n",
    "* Наблюдения связаны попарно в двух выборках\n",
    "\n",
    "Гипотеза\n",
    "\n",
    "* H0: Две связанные выборки принадлежат одному распределению.\n",
    "* H1: Две связанные выборки принадлежат разным распределениям."
   ]
  },
  {
   "cell_type": "code",
   "execution_count": 16,
   "metadata": {
    "colab": {
     "base_uri": "https://localhost:8080/"
    },
    "executionInfo": {
     "elapsed": 232,
     "status": "ok",
     "timestamp": 1669129637755,
     "user": {
      "displayName": "Виктория Сухорукова",
      "userId": "12182369867649867455"
     },
     "user_tz": -180
    },
    "id": "EiTSnnTP4hzA",
    "outputId": "a5349e3e-2e08-408e-c70a-c81202593e2d"
   },
   "outputs": [
    {
     "name": "stdout",
     "output_type": "stream",
     "text": [
      "Статистика = 21.00000, p = 0.55664\n",
      "Не отклоняем нулевую гипотезу, распределения, вероятно, одинаковые\n"
     ]
    }
   ],
   "source": [
    "data1 = [0.873, 2.817, 0.121, -0.945, -0.055, -1.436, 0.360, -1.478, -1.637, -1.869]\n",
    "data2 = [1.142, -0.432, -0.938, -0.729, -0.846, -0.157, 0.500, 1.183, -1.075, -0.169]\n",
    "\n",
    "stat, p = st.wilcoxon(data1, data2)\n",
    "\n",
    "print(f\"Статистика = {stat:.5f}, p = {p:.5f}\")\n",
    "\n",
    "if p > 0.05:\n",
    "    print('Не отклоняем нулевую гипотезу, распределения, вероятно, одинаковые')\n",
    "else:\n",
    "    print('Отклоняем нулевую гипотезу, распределения, вероятно, различаются')"
   ]
  },
  {
   "cell_type": "code",
   "execution_count": 17,
   "metadata": {
    "colab": {
     "base_uri": "https://localhost:8080/"
    },
    "executionInfo": {
     "elapsed": 255,
     "status": "ok",
     "timestamp": 1669129661930,
     "user": {
      "displayName": "Виктория Сухорукова",
      "userId": "12182369867649867455"
     },
     "user_tz": -180
    },
    "id": "mpzsYAtb4hzB",
    "outputId": "9d7098af-71d3-4729-ffdb-6008f25ff014"
   },
   "outputs": [
    {
     "name": "stdout",
     "output_type": "stream",
     "text": [
      "Статистика = 21.00000, p = 0.55664\n",
      "Не отклоняем нулевую гипотезу, распределения, вероятно, одинаковые\n"
     ]
    }
   ],
   "source": [
    "dif = np.array(data1) - np.array(data2)\n",
    "\n",
    "stat, p = st.wilcoxon(dif)\n",
    "\n",
    "print(f\"Статистика = {stat:.5f}, p = {p:.5f}\")\n",
    "\n",
    "if p > 0.05:\n",
    "    print('Не отклоняем нулевую гипотезу, распределения, вероятно, одинаковые')\n",
    "else:\n",
    "    print('Отклоняем нулевую гипотезу, распределения, вероятно, различаются')"
   ]
  },
  {
   "cell_type": "markdown",
   "metadata": {
    "id": "fcWGQdI74hzB"
   },
   "source": [
    "### Точный критерий Фишера\n",
    "Критерий Стьюдента позволяет работать с численными переменными, но не позволяет работать с категориальными. Для этого существует критерий Фишера (или Хи-квадрат). Одна из его задач сказать, насколько случайно распределены значения между группами. Позволяет проверить гипотезу, есть ли значимый перевес между группами. \n",
    "\n",
    "Допущения\n",
    "\n",
    "* Наблюдения независимы друг от друга.\n",
    "* Встречаются ограничения на минимальное число наблюдений. \n",
    "\n",
    "Гипотеза\n",
    "\n",
    "* H0: Выборки независимы.\n",
    "* H1: Есть некторая зависимость."
   ]
  },
  {
   "cell_type": "markdown",
   "metadata": {
    "id": "105dvCb14hzB"
   },
   "source": [
    "<b>Задача.</b> Мы хотим проверить нет ли дискриминации по половому признаку в сфере Data Science. Мы узнали, что в какой-то компании после серии собеседований 107 мужчин взяли на работу, а отказали 93-м мужчинам. А среди женщин 74 взяли, а отказали 45-и. Относится ли руководство компании предвзято к мужчинам или к женщинам?"
   ]
  },
  {
   "cell_type": "code",
   "execution_count": 18,
   "metadata": {
    "colab": {
     "base_uri": "https://localhost:8080/"
    },
    "executionInfo": {
     "elapsed": 242,
     "status": "ok",
     "timestamp": 1669129814437,
     "user": {
      "displayName": "Виктория Сухорукова",
      "userId": "12182369867649867455"
     },
     "user_tz": -180
    },
    "id": "-iocwvWN4hzC",
    "outputId": "512a3e2f-2596-4dd9-f350-d21e507eac5b"
   },
   "outputs": [
    {
     "name": "stdout",
     "output_type": "stream",
     "text": [
      "Статистика = 0.69965, p = 0.16076\n",
      "Не отклоняем нулевую гипотезу, выборки, вероятно, независимы\n"
     ]
    }
   ],
   "source": [
    "x = [[107,93],[74,45]]\n",
    "\n",
    "oddsratio, p = st.fisher_exact(x) # Точный тест Фишера\n",
    "\n",
    "print(f\"Статистика = {oddsratio:.5f}, p = {p:.5f}\")\n",
    "\n",
    "if p > 0.05:\n",
    "    print('Не отклоняем нулевую гипотезу, выборки, вероятно, независимы')\n",
    "else:\n",
    "    print('Отклоняем нулевую гипотезу, вероятно, есть некоторая зависимость')"
   ]
  },
  {
   "cell_type": "markdown",
   "metadata": {
    "id": "2Not9zV04hzC"
   },
   "source": [
    "### Тест Хи-квадрат\n",
    "Например, мы хотим проверить правда ли эксперт по Data Science таковым является. Вы составили список вопросов, спросили эксперта и случайных прохожих. Количество правильный вопросов по каждому разделу вы записали в таблицу (таблица смежности)\n",
    "\n",
    "Выясните, исходя из полученных данных, действительно ли перед вами носитель экспертности или пока что еще не очень опытный начинаюший?"
   ]
  },
  {
   "cell_type": "code",
   "execution_count": 19,
   "metadata": {
    "colab": {
     "base_uri": "https://localhost:8080/"
    },
    "executionInfo": {
     "elapsed": 278,
     "status": "ok",
     "timestamp": 1669129900373,
     "user": {
      "displayName": "Виктория Сухорукова",
      "userId": "12182369867649867455"
     },
     "user_tz": -180
    },
    "id": "SXCTO6oW4hzC",
    "outputId": "39b03953-0f37-453f-a3a8-07abf4afacac"
   },
   "outputs": [
    {
     "name": "stdout",
     "output_type": "stream",
     "text": [
      "Реальная таблица\n",
      "                    Machine Learning  Data Science  Analytics\n",
      "Эксперт                           22            99         59\n",
      "Случайный прохожий                10            12         31\n"
     ]
    }
   ],
   "source": [
    "contingency_table = pd.DataFrame(\n",
    "    [  \n",
    "[22, 99, 59],        \n",
    "[10, 12, 31]\n",
    "    ],\n",
    "    columns = ['Machine Learning', 'Data Science', 'Analytics'],\n",
    "    index = ['Эксперт', 'Случайный прохожий'])\n",
    "\n",
    "print('Реальная таблица')\n",
    "print(contingency_table)"
   ]
  },
  {
   "cell_type": "code",
   "execution_count": 27,
   "metadata": {
    "colab": {
     "base_uri": "https://localhost:8080/"
    },
    "executionInfo": {
     "elapsed": 260,
     "status": "ok",
     "timestamp": 1669130029626,
     "user": {
      "displayName": "Виктория Сухорукова",
      "userId": "12182369867649867455"
     },
     "user_tz": -180
    },
    "id": "ihikbss04hzD",
    "outputId": "4ede2efd-1924-4c5c-9edb-a56f6b759d87"
   },
   "outputs": [
    {
     "name": "stdout",
     "output_type": "stream",
     "text": [
      "p-value = 0.000173, уровень значимости = 0.05\n",
      "На уровене значимости 0.05, мы отвергаем нулевые гипотезы и принимаем H1. Они не независимы.\n",
      "Это правда эксперт!\n"
     ]
    }
   ],
   "source": [
    "chi, pval, dof, exp = st.chi2_contingency(contingency_table.values) #Критерий Пирсона (хи квадрат)\n",
    "significance = 0.05\n",
    "\n",
    "print(f\"p-value = {pval:.6f}, уровень значимости = {significance:.2f}\")\n",
    "\n",
    "if pval < significance:\n",
    "    print(f\"На уровене значимости {significance:.2f}, мы отвергаем нулевые гипотезы и принимаем H1. Они не независимы.\")\n",
    "    print('Это правда эксперт!')\n",
    "else:\n",
    "    print(f\"На уровене значимости {significance:.2f}, мы не отвергаем нулевые гипотезы. Они независимы.\")\n",
    "    \n",
    "# Возвращает:\n",
    "# chi2 : Посчитанную статистику теста.\n",
    "# p :  p-value теста\n",
    "# dof : Степени свободы\n",
    "# expected : Ожидаемые частоты, основанные на предельных суммах таблицы."
   ]
  },
  {
   "cell_type": "code",
   "execution_count": null,
   "metadata": {
    "id": "J2_2LIxc4hzD"
   },
   "outputs": [],
   "source": []
  }
 ],
 "metadata": {
  "colab": {
   "provenance": []
  },
  "kernelspec": {
   "display_name": "Python 3 (ipykernel)",
   "language": "python",
   "name": "python3"
  },
  "language_info": {
   "codemirror_mode": {
    "name": "ipython",
    "version": 3
   },
   "file_extension": ".py",
   "mimetype": "text/x-python",
   "name": "python",
   "nbconvert_exporter": "python",
   "pygments_lexer": "ipython3",
   "version": "3.11.4"
  }
 },
 "nbformat": 4,
 "nbformat_minor": 1
}
