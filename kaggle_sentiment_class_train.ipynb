{
 "cells": [
  {
   "cell_type": "code",
   "execution_count": 1,
   "id": "4386f378",
   "metadata": {},
   "outputs": [],
   "source": [
    "import pandas as pd\n",
    "from transformers import pipeline"
   ]
  },
  {
   "cell_type": "code",
   "execution_count": 2,
   "id": "1d5569a2",
   "metadata": {},
   "outputs": [],
   "source": [
    "education = pd.read_csv(\"/Users/shu/training_python_datascince/kaggle_sentimental_analysis/Sentiment_dataset/Education.csv\")\n",
    "finance = pd.read_csv(\"/Users/shu/training_python_datascince/kaggle_sentimental_analysis/Sentiment_dataset/Finance.csv\")\n",
    "politics = pd.read_csv(\"/Users/shu/training_python_datascince/kaggle_sentimental_analysis/Sentiment_dataset/Politics.csv\")\n",
    "sports = pd.read_csv(\"/Users/shu/training_python_datascince/kaggle_sentimental_analysis/Sentiment_dataset/Sports.csv\")"
   ]
  },
  {
   "cell_type": "code",
   "execution_count": 3,
   "id": "372ac894",
   "metadata": {},
   "outputs": [
    {
     "name": "stdout",
     "output_type": "stream",
     "text": [
      "positive    26\n",
      "negative    26\n",
      "Name: Label, dtype: int64 \n",
      "\n",
      " Text     False\n",
      "Label    False\n",
      "dtype: bool\n"
     ]
    }
   ],
   "source": [
    "print(education.Label.value_counts(), '\\n\\n', education.isna().any())"
   ]
  },
  {
   "cell_type": "code",
   "execution_count": 4,
   "id": "34eae400",
   "metadata": {},
   "outputs": [
    {
     "name": "stdout",
     "output_type": "stream",
     "text": [
      "positive    34\n",
      "negative    14\n",
      "Name: Label, dtype: int64 \n",
      "\n",
      " Text     False\n",
      "Label    False\n",
      "dtype: bool\n"
     ]
    }
   ],
   "source": [
    "print(finance.Label.value_counts(), '\\n\\n', finance.isna().any())"
   ]
  },
  {
   "cell_type": "code",
   "execution_count": 5,
   "id": "1d115722",
   "metadata": {},
   "outputs": [
    {
     "name": "stdout",
     "output_type": "stream",
     "text": [
      "negative    28\n",
      "positive    25\n",
      "Name: Label, dtype: int64 \n",
      "\n",
      " Text     False\n",
      "Label    False\n",
      "dtype: bool\n"
     ]
    }
   ],
   "source": [
    "print(politics.Label.value_counts(), '\\n\\n', politics.isna().any())"
   ]
  },
  {
   "cell_type": "code",
   "execution_count": 6,
   "id": "3568195a",
   "metadata": {},
   "outputs": [
    {
     "name": "stdout",
     "output_type": "stream",
     "text": [
      "positive    28\n",
      "negative    28\n",
      "Name: Label, dtype: int64 \n",
      "\n",
      " Text     False\n",
      "Label    False\n",
      "dtype: bool\n"
     ]
    }
   ],
   "source": [
    "print(sports.Label.value_counts(), '\\n\\n', sports.isna().any())"
   ]
  },
  {
   "cell_type": "code",
   "execution_count": 7,
   "id": "5ae6963a",
   "metadata": {},
   "outputs": [],
   "source": [
    "df = pd.concat([education, politics, sports, finance])"
   ]
  },
  {
   "cell_type": "code",
   "execution_count": 8,
   "id": "406d02a1",
   "metadata": {},
   "outputs": [],
   "source": [
    "df = df.sample(frac=1)"
   ]
  },
  {
   "cell_type": "code",
   "execution_count": 9,
   "id": "9f3d4df1",
   "metadata": {},
   "outputs": [
    {
     "name": "stdout",
     "output_type": "stream",
     "text": [
      "<class 'pandas.core.frame.DataFrame'>\n",
      "Int64Index: 209 entries, 49 to 42\n",
      "Data columns (total 2 columns):\n",
      " #   Column  Non-Null Count  Dtype \n",
      "---  ------  --------------  ----- \n",
      " 0   Text    209 non-null    object\n",
      " 1   Label   209 non-null    object\n",
      "dtypes: object(2)\n",
      "memory usage: 4.9+ KB\n"
     ]
    }
   ],
   "source": [
    "df.info()"
   ]
  },
  {
   "cell_type": "code",
   "execution_count": 10,
   "id": "fbd2dae4",
   "metadata": {},
   "outputs": [
    {
     "data": {
      "text/plain": [
       "Text     False\n",
       "Label    False\n",
       "dtype: bool"
      ]
     },
     "execution_count": 10,
     "metadata": {},
     "output_type": "execute_result"
    }
   ],
   "source": [
    "df.isna().any()"
   ]
  },
  {
   "cell_type": "code",
   "execution_count": 11,
   "id": "c0a77c5e",
   "metadata": {},
   "outputs": [
    {
     "data": {
      "text/plain": [
       "False"
      ]
     },
     "execution_count": 11,
     "metadata": {},
     "output_type": "execute_result"
    }
   ],
   "source": [
    "df.duplicated().any()"
   ]
  },
  {
   "cell_type": "code",
   "execution_count": 12,
   "id": "cc4e154b",
   "metadata": {},
   "outputs": [
    {
     "data": {
      "text/html": [
       "<div>\n",
       "<style scoped>\n",
       "    .dataframe tbody tr th:only-of-type {\n",
       "        vertical-align: middle;\n",
       "    }\n",
       "\n",
       "    .dataframe tbody tr th {\n",
       "        vertical-align: top;\n",
       "    }\n",
       "\n",
       "    .dataframe thead th {\n",
       "        text-align: right;\n",
       "    }\n",
       "</style>\n",
       "<table border=\"1\" class=\"dataframe\">\n",
       "  <thead>\n",
       "    <tr style=\"text-align: right;\">\n",
       "      <th></th>\n",
       "      <th>Text</th>\n",
       "      <th>Label</th>\n",
       "    </tr>\n",
       "  </thead>\n",
       "  <tbody>\n",
       "    <tr>\n",
       "      <th>49</th>\n",
       "      <td>Educational inequities persist despite efforts...</td>\n",
       "      <td>negative</td>\n",
       "    </tr>\n",
       "    <tr>\n",
       "      <th>47</th>\n",
       "      <td>Financial bubbles can arise when asset prices ...</td>\n",
       "      <td>negative</td>\n",
       "    </tr>\n",
       "    <tr>\n",
       "      <th>20</th>\n",
       "      <td>Financial regulators face challenges in keepin...</td>\n",
       "      <td>negative</td>\n",
       "    </tr>\n",
       "    <tr>\n",
       "      <th>19</th>\n",
       "      <td>Sports events can unite people from diverse ba...</td>\n",
       "      <td>positive</td>\n",
       "    </tr>\n",
       "    <tr>\n",
       "      <th>35</th>\n",
       "      <td>The concept of risk-adjusted returns is essent...</td>\n",
       "      <td>positive</td>\n",
       "    </tr>\n",
       "  </tbody>\n",
       "</table>\n",
       "</div>"
      ],
      "text/plain": [
       "                                                 Text     Label\n",
       "49  Educational inequities persist despite efforts...  negative\n",
       "47  Financial bubbles can arise when asset prices ...  negative\n",
       "20  Financial regulators face challenges in keepin...  negative\n",
       "19  Sports events can unite people from diverse ba...  positive\n",
       "35  The concept of risk-adjusted returns is essent...  positive"
      ]
     },
     "execution_count": 12,
     "metadata": {},
     "output_type": "execute_result"
    }
   ],
   "source": [
    "df.head()"
   ]
  },
  {
   "cell_type": "code",
   "execution_count": 13,
   "id": "a5aa3d96",
   "metadata": {},
   "outputs": [],
   "source": [
    "df_4 = [education, politics, sports, finance]"
   ]
  },
  {
   "cell_type": "code",
   "execution_count": 14,
   "id": "b0c368cd",
   "metadata": {},
   "outputs": [
    {
     "name": "stderr",
     "output_type": "stream",
     "text": [
      "/Users/shu/anaconda3/lib/python3.11/site-packages/torch/_utils.py:776: UserWarning: TypedStorage is deprecated. It will be removed in the future and UntypedStorage will be the only storage class. This should only matter to you if you are using storages directly.  To access UntypedStorage directly, use tensor.untyped_storage() instead of tensor.storage()\n",
      "  return self.fget.__get__(instance, owner)()\n",
      "Some weights of the model checkpoint at cardiffnlp/twitter-roberta-base-sentiment-latest were not used when initializing RobertaForSequenceClassification: ['roberta.pooler.dense.bias', 'roberta.pooler.dense.weight']\n",
      "- This IS expected if you are initializing RobertaForSequenceClassification from the checkpoint of a model trained on another task or with another architecture (e.g. initializing a BertForSequenceClassification model from a BertForPreTraining model).\n",
      "- This IS NOT expected if you are initializing RobertaForSequenceClassification from the checkpoint of a model that you expect to be exactly identical (initializing a BertForSequenceClassification model from a BertForSequenceClassification model).\n"
     ]
    }
   ],
   "source": [
    "model_names = [\n",
    "    \"distilbert/distilbert-base-uncased-finetuned-sst-2-english\",\n",
    "    \"lxyuan/distilbert-base-multilingual-cased-sentiments-student\",\n",
    "    \"cardiffnlp/twitter-roberta-base-sentiment-latest\",\n",
    "    \"siebert/sentiment-roberta-large-english\"\n",
    "]\n",
    "\n",
    "models = []\n",
    "\n",
    "for model_name in model_names:\n",
    "    model = pipeline(model=model_name)\n",
    "    models.append(model)"
   ]
  },
  {
   "cell_type": "code",
   "execution_count": 22,
   "id": "6623dbce",
   "metadata": {},
   "outputs": [],
   "source": [
    "metrics = ['Model','Accuracy','Precision','Recall','F1_Score','Hamming_Loss', \"Cohen\\'s_Kappa\", \"Log_Loss\"]"
   ]
  },
  {
   "cell_type": "code",
   "execution_count": 23,
   "id": "4eb45701",
   "metadata": {},
   "outputs": [],
   "source": [
    "education_result = pd.DataFrame(columns = metrics, index=[0,1,2,3])\n",
    "sports_result = pd.DataFrame(columns = metrics, index=[0,1,2,3])\n",
    "politics_result = pd.DataFrame(columns = metrics, index=[0,1,2,3])\n",
    "finance_result = pd.DataFrame(columns = metrics, index=[0,1,2,3])"
   ]
  },
  {
   "cell_type": "code",
   "execution_count": 24,
   "id": "e61f7417",
   "metadata": {},
   "outputs": [],
   "source": [
    "from sklearn.metrics import (accuracy_score, precision_score, recall_score, f1_score,\n",
    "                            hamming_loss, cohen_kappa_score, log_loss)"
   ]
  },
  {
   "cell_type": "code",
   "execution_count": 25,
   "id": "cff02a68",
   "metadata": {},
   "outputs": [],
   "source": [
    "for idx, theme in enumerate(df_4, start=1):\n",
    "\n",
    "    for i in range(len(models)):\n",
    "\n",
    "        model_pred=[]\n",
    "\n",
    "        # Predicted labels\n",
    "        for str_ in theme['Text']:\n",
    "            model_pred.append(1 if models[i](str_)[0]['label'].lower()=='positive' else 0)\n",
    "        \n",
    "        lable = theme['Label'].apply(lambda x: {True: 1, False: 0}[x=='positive'])\n",
    "        \n",
    "        # Metrics\n",
    "        accuracy = accuracy_score(lable, model_pred)\n",
    "        precision = precision_score(lable, model_pred)\n",
    "        recall = recall_score(lable, model_pred)\n",
    "        f1 = f1_score(lable, model_pred)\n",
    "        hamming = hamming_loss(lable, model_pred)\n",
    "        kappa = cohen_kappa_score(lable, model_pred)\n",
    "        ll = log_loss(lable, model_pred)\n",
    "\n",
    "        if idx==1:\n",
    "            # Education\n",
    "            education_result.loc[i] = [f\"Model {i+1}\", accuracy, precision, recall, f1, hamming, kappa, ll]\n",
    "        elif idx==2:\n",
    "            # Sports\n",
    "            sports_result.loc[i] = [f\"Model {i+1}\", accuracy, precision, recall, f1, hamming, kappa, ll]\n",
    "        elif idx==3:\n",
    "            # Politics\n",
    "            politics_result.loc[i] = [f\"Model {i+1}\", accuracy, precision, recall, f1, hamming, kappa, ll]\n",
    "        else:\n",
    "            # Finance\n",
    "            finance_result.loc[i] = [f\"Model {i+1}\", accuracy, precision, recall, f1, hamming, kappa, ll]"
   ]
  },
  {
   "cell_type": "code",
   "execution_count": 26,
   "id": "7fa291bd",
   "metadata": {},
   "outputs": [
    {
     "data": {
      "text/html": [
       "<div>\n",
       "<style scoped>\n",
       "    .dataframe tbody tr th:only-of-type {\n",
       "        vertical-align: middle;\n",
       "    }\n",
       "\n",
       "    .dataframe tbody tr th {\n",
       "        vertical-align: top;\n",
       "    }\n",
       "\n",
       "    .dataframe thead th {\n",
       "        text-align: right;\n",
       "    }\n",
       "</style>\n",
       "<table border=\"1\" class=\"dataframe\">\n",
       "  <thead>\n",
       "    <tr style=\"text-align: right;\">\n",
       "      <th></th>\n",
       "      <th>Model</th>\n",
       "      <th>Accuracy</th>\n",
       "      <th>Precision</th>\n",
       "      <th>Recall</th>\n",
       "      <th>F1_Score</th>\n",
       "      <th>Hamming_Loss</th>\n",
       "      <th>Cohen's_Kappa</th>\n",
       "      <th>Log_Loss</th>\n",
       "    </tr>\n",
       "  </thead>\n",
       "  <tbody>\n",
       "    <tr>\n",
       "      <th>0</th>\n",
       "      <td>Model 1</td>\n",
       "      <td>0.576923</td>\n",
       "      <td>0.611111</td>\n",
       "      <td>0.423077</td>\n",
       "      <td>0.5</td>\n",
       "      <td>0.423077</td>\n",
       "      <td>0.153846</td>\n",
       "      <td>15.249238</td>\n",
       "    </tr>\n",
       "    <tr>\n",
       "      <th>1</th>\n",
       "      <td>Model 2</td>\n",
       "      <td>0.634615</td>\n",
       "      <td>0.6</td>\n",
       "      <td>0.807692</td>\n",
       "      <td>0.688525</td>\n",
       "      <td>0.365385</td>\n",
       "      <td>0.269231</td>\n",
       "      <td>13.169796</td>\n",
       "    </tr>\n",
       "    <tr>\n",
       "      <th>2</th>\n",
       "      <td>Model 3</td>\n",
       "      <td>0.634615</td>\n",
       "      <td>0.888889</td>\n",
       "      <td>0.307692</td>\n",
       "      <td>0.457143</td>\n",
       "      <td>0.365385</td>\n",
       "      <td>0.269231</td>\n",
       "      <td>13.169796</td>\n",
       "    </tr>\n",
       "    <tr>\n",
       "      <th>3</th>\n",
       "      <td>Model 4</td>\n",
       "      <td>0.673077</td>\n",
       "      <td>0.714286</td>\n",
       "      <td>0.576923</td>\n",
       "      <td>0.638298</td>\n",
       "      <td>0.326923</td>\n",
       "      <td>0.346154</td>\n",
       "      <td>11.783502</td>\n",
       "    </tr>\n",
       "  </tbody>\n",
       "</table>\n",
       "</div>"
      ],
      "text/plain": [
       "     Model  Accuracy Precision    Recall  F1_Score Hamming_Loss Cohen's_Kappa  \\\n",
       "0  Model 1  0.576923  0.611111  0.423077       0.5     0.423077      0.153846   \n",
       "1  Model 2  0.634615       0.6  0.807692  0.688525     0.365385      0.269231   \n",
       "2  Model 3  0.634615  0.888889  0.307692  0.457143     0.365385      0.269231   \n",
       "3  Model 4  0.673077  0.714286  0.576923  0.638298     0.326923      0.346154   \n",
       "\n",
       "    Log_Loss  \n",
       "0  15.249238  \n",
       "1  13.169796  \n",
       "2  13.169796  \n",
       "3  11.783502  "
      ]
     },
     "execution_count": 26,
     "metadata": {},
     "output_type": "execute_result"
    }
   ],
   "source": [
    "education_result"
   ]
  },
  {
   "cell_type": "code",
   "execution_count": 27,
   "id": "8f9adf5b",
   "metadata": {},
   "outputs": [
    {
     "data": {
      "text/html": [
       "<div>\n",
       "<style scoped>\n",
       "    .dataframe tbody tr th:only-of-type {\n",
       "        vertical-align: middle;\n",
       "    }\n",
       "\n",
       "    .dataframe tbody tr th {\n",
       "        vertical-align: top;\n",
       "    }\n",
       "\n",
       "    .dataframe thead th {\n",
       "        text-align: right;\n",
       "    }\n",
       "</style>\n",
       "<table border=\"1\" class=\"dataframe\">\n",
       "  <thead>\n",
       "    <tr style=\"text-align: right;\">\n",
       "      <th></th>\n",
       "      <th>Model</th>\n",
       "      <th>Accuracy</th>\n",
       "      <th>Precision</th>\n",
       "      <th>Recall</th>\n",
       "      <th>F1_Score</th>\n",
       "      <th>Hamming_Loss</th>\n",
       "      <th>Cohen's_Kappa</th>\n",
       "      <th>Log_Loss</th>\n",
       "    </tr>\n",
       "  </thead>\n",
       "  <tbody>\n",
       "    <tr>\n",
       "      <th>0</th>\n",
       "      <td>Model 1</td>\n",
       "      <td>0.849057</td>\n",
       "      <td>0.947368</td>\n",
       "      <td>0.72</td>\n",
       "      <td>0.818182</td>\n",
       "      <td>0.150943</td>\n",
       "      <td>0.693198</td>\n",
       "      <td>5.440551</td>\n",
       "    </tr>\n",
       "    <tr>\n",
       "      <th>1</th>\n",
       "      <td>Model 2</td>\n",
       "      <td>0.754717</td>\n",
       "      <td>0.772727</td>\n",
       "      <td>0.68</td>\n",
       "      <td>0.723404</td>\n",
       "      <td>0.245283</td>\n",
       "      <td>0.504673</td>\n",
       "      <td>8.840896</td>\n",
       "    </tr>\n",
       "    <tr>\n",
       "      <th>2</th>\n",
       "      <td>Model 3</td>\n",
       "      <td>0.54717</td>\n",
       "      <td>1.0</td>\n",
       "      <td>0.04</td>\n",
       "      <td>0.076923</td>\n",
       "      <td>0.45283</td>\n",
       "      <td>0.042169</td>\n",
       "      <td>16.321654</td>\n",
       "    </tr>\n",
       "    <tr>\n",
       "      <th>3</th>\n",
       "      <td>Model 4</td>\n",
       "      <td>0.924528</td>\n",
       "      <td>0.92</td>\n",
       "      <td>0.92</td>\n",
       "      <td>0.92</td>\n",
       "      <td>0.075472</td>\n",
       "      <td>0.848571</td>\n",
       "      <td>2.720276</td>\n",
       "    </tr>\n",
       "  </tbody>\n",
       "</table>\n",
       "</div>"
      ],
      "text/plain": [
       "     Model  Accuracy Precision Recall  F1_Score Hamming_Loss Cohen's_Kappa  \\\n",
       "0  Model 1  0.849057  0.947368   0.72  0.818182     0.150943      0.693198   \n",
       "1  Model 2  0.754717  0.772727   0.68  0.723404     0.245283      0.504673   \n",
       "2  Model 3   0.54717       1.0   0.04  0.076923      0.45283      0.042169   \n",
       "3  Model 4  0.924528      0.92   0.92      0.92     0.075472      0.848571   \n",
       "\n",
       "    Log_Loss  \n",
       "0   5.440551  \n",
       "1   8.840896  \n",
       "2  16.321654  \n",
       "3   2.720276  "
      ]
     },
     "execution_count": 27,
     "metadata": {},
     "output_type": "execute_result"
    }
   ],
   "source": [
    "sports_result"
   ]
  },
  {
   "cell_type": "code",
   "execution_count": 28,
   "id": "9a529afe",
   "metadata": {},
   "outputs": [
    {
     "data": {
      "text/html": [
       "<div>\n",
       "<style scoped>\n",
       "    .dataframe tbody tr th:only-of-type {\n",
       "        vertical-align: middle;\n",
       "    }\n",
       "\n",
       "    .dataframe tbody tr th {\n",
       "        vertical-align: top;\n",
       "    }\n",
       "\n",
       "    .dataframe thead th {\n",
       "        text-align: right;\n",
       "    }\n",
       "</style>\n",
       "<table border=\"1\" class=\"dataframe\">\n",
       "  <thead>\n",
       "    <tr style=\"text-align: right;\">\n",
       "      <th></th>\n",
       "      <th>Model</th>\n",
       "      <th>Accuracy</th>\n",
       "      <th>Precision</th>\n",
       "      <th>Recall</th>\n",
       "      <th>F1_Score</th>\n",
       "      <th>Hamming_Loss</th>\n",
       "      <th>Cohen's_Kappa</th>\n",
       "      <th>Log_Loss</th>\n",
       "    </tr>\n",
       "  </thead>\n",
       "  <tbody>\n",
       "    <tr>\n",
       "      <th>0</th>\n",
       "      <td>Model 1</td>\n",
       "      <td>0.839286</td>\n",
       "      <td>0.827586</td>\n",
       "      <td>0.857143</td>\n",
       "      <td>0.842105</td>\n",
       "      <td>0.160714</td>\n",
       "      <td>0.678571</td>\n",
       "      <td>5.79273</td>\n",
       "    </tr>\n",
       "    <tr>\n",
       "      <th>1</th>\n",
       "      <td>Model 2</td>\n",
       "      <td>0.803571</td>\n",
       "      <td>0.742857</td>\n",
       "      <td>0.928571</td>\n",
       "      <td>0.825397</td>\n",
       "      <td>0.196429</td>\n",
       "      <td>0.607143</td>\n",
       "      <td>7.080003</td>\n",
       "    </tr>\n",
       "    <tr>\n",
       "      <th>2</th>\n",
       "      <td>Model 3</td>\n",
       "      <td>0.892857</td>\n",
       "      <td>1.0</td>\n",
       "      <td>0.785714</td>\n",
       "      <td>0.88</td>\n",
       "      <td>0.107143</td>\n",
       "      <td>0.785714</td>\n",
       "      <td>3.86182</td>\n",
       "    </tr>\n",
       "    <tr>\n",
       "      <th>3</th>\n",
       "      <td>Model 4</td>\n",
       "      <td>0.910714</td>\n",
       "      <td>0.896552</td>\n",
       "      <td>0.928571</td>\n",
       "      <td>0.912281</td>\n",
       "      <td>0.089286</td>\n",
       "      <td>0.821429</td>\n",
       "      <td>3.218183</td>\n",
       "    </tr>\n",
       "  </tbody>\n",
       "</table>\n",
       "</div>"
      ],
      "text/plain": [
       "     Model  Accuracy Precision    Recall  F1_Score Hamming_Loss Cohen's_Kappa  \\\n",
       "0  Model 1  0.839286  0.827586  0.857143  0.842105     0.160714      0.678571   \n",
       "1  Model 2  0.803571  0.742857  0.928571  0.825397     0.196429      0.607143   \n",
       "2  Model 3  0.892857       1.0  0.785714      0.88     0.107143      0.785714   \n",
       "3  Model 4  0.910714  0.896552  0.928571  0.912281     0.089286      0.821429   \n",
       "\n",
       "   Log_Loss  \n",
       "0   5.79273  \n",
       "1  7.080003  \n",
       "2   3.86182  \n",
       "3  3.218183  "
      ]
     },
     "execution_count": 28,
     "metadata": {},
     "output_type": "execute_result"
    }
   ],
   "source": [
    "politics_result"
   ]
  },
  {
   "cell_type": "code",
   "execution_count": 29,
   "id": "be7dc372",
   "metadata": {},
   "outputs": [
    {
     "data": {
      "text/html": [
       "<div>\n",
       "<style scoped>\n",
       "    .dataframe tbody tr th:only-of-type {\n",
       "        vertical-align: middle;\n",
       "    }\n",
       "\n",
       "    .dataframe tbody tr th {\n",
       "        vertical-align: top;\n",
       "    }\n",
       "\n",
       "    .dataframe thead th {\n",
       "        text-align: right;\n",
       "    }\n",
       "</style>\n",
       "<table border=\"1\" class=\"dataframe\">\n",
       "  <thead>\n",
       "    <tr style=\"text-align: right;\">\n",
       "      <th></th>\n",
       "      <th>Model</th>\n",
       "      <th>Accuracy</th>\n",
       "      <th>Precision</th>\n",
       "      <th>Recall</th>\n",
       "      <th>F1_Score</th>\n",
       "      <th>Hamming_Loss</th>\n",
       "      <th>Cohen's_Kappa</th>\n",
       "      <th>Log_Loss</th>\n",
       "    </tr>\n",
       "  </thead>\n",
       "  <tbody>\n",
       "    <tr>\n",
       "      <th>0</th>\n",
       "      <td>Model 1</td>\n",
       "      <td>0.8125</td>\n",
       "      <td>0.903226</td>\n",
       "      <td>0.823529</td>\n",
       "      <td>0.861538</td>\n",
       "      <td>0.1875</td>\n",
       "      <td>0.573123</td>\n",
       "      <td>6.758185</td>\n",
       "    </tr>\n",
       "    <tr>\n",
       "      <th>1</th>\n",
       "      <td>Model 2</td>\n",
       "      <td>0.770833</td>\n",
       "      <td>0.870968</td>\n",
       "      <td>0.794118</td>\n",
       "      <td>0.830769</td>\n",
       "      <td>0.229167</td>\n",
       "      <td>0.478261</td>\n",
       "      <td>8.260004</td>\n",
       "    </tr>\n",
       "    <tr>\n",
       "      <th>2</th>\n",
       "      <td>Model 3</td>\n",
       "      <td>0.416667</td>\n",
       "      <td>1.0</td>\n",
       "      <td>0.176471</td>\n",
       "      <td>0.3</td>\n",
       "      <td>0.583333</td>\n",
       "      <td>0.111111</td>\n",
       "      <td>21.025464</td>\n",
       "    </tr>\n",
       "    <tr>\n",
       "      <th>3</th>\n",
       "      <td>Model 4</td>\n",
       "      <td>0.895833</td>\n",
       "      <td>0.914286</td>\n",
       "      <td>0.941176</td>\n",
       "      <td>0.927536</td>\n",
       "      <td>0.104167</td>\n",
       "      <td>0.742489</td>\n",
       "      <td>3.754547</td>\n",
       "    </tr>\n",
       "  </tbody>\n",
       "</table>\n",
       "</div>"
      ],
      "text/plain": [
       "     Model  Accuracy Precision    Recall  F1_Score Hamming_Loss Cohen's_Kappa  \\\n",
       "0  Model 1    0.8125  0.903226  0.823529  0.861538       0.1875      0.573123   \n",
       "1  Model 2  0.770833  0.870968  0.794118  0.830769     0.229167      0.478261   \n",
       "2  Model 3  0.416667       1.0  0.176471       0.3     0.583333      0.111111   \n",
       "3  Model 4  0.895833  0.914286  0.941176  0.927536     0.104167      0.742489   \n",
       "\n",
       "    Log_Loss  \n",
       "0   6.758185  \n",
       "1   8.260004  \n",
       "2  21.025464  \n",
       "3   3.754547  "
      ]
     },
     "execution_count": 29,
     "metadata": {},
     "output_type": "execute_result"
    }
   ],
   "source": [
    "finance_result"
   ]
  },
  {
   "cell_type": "code",
   "execution_count": null,
   "id": "5b3111a6",
   "metadata": {},
   "outputs": [],
   "source": []
  },
  {
   "cell_type": "code",
   "execution_count": null,
   "id": "6654a895",
   "metadata": {},
   "outputs": [],
   "source": []
  }
 ],
 "metadata": {
  "kernelspec": {
   "display_name": "Python 3 (ipykernel)",
   "language": "python",
   "name": "python3"
  },
  "language_info": {
   "codemirror_mode": {
    "name": "ipython",
    "version": 3
   },
   "file_extension": ".py",
   "mimetype": "text/x-python",
   "name": "python",
   "nbconvert_exporter": "python",
   "pygments_lexer": "ipython3",
   "version": "3.11.4"
  }
 },
 "nbformat": 4,
 "nbformat_minor": 5
}
