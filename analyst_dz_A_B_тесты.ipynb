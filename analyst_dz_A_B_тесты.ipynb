{
 "cells": [
  {
   "cell_type": "code",
   "execution_count": 1,
   "id": "1700e141",
   "metadata": {
    "scrolled": true
   },
   "outputs": [],
   "source": [
    "import pandas as pd\n",
    "import matplotlib.pyplot as plt\n",
    "import seaborn as sns\n",
    "import numpy as np\n",
    "import scipy.stats as st\n",
    "import statsmodels.stats.api as sms\n",
    "import matplotlib as mpl\n",
    "from math import ceil\n"
   ]
  },
  {
   "cell_type": "code",
   "execution_count": 2,
   "id": "d3523dd9",
   "metadata": {},
   "outputs": [],
   "source": [
    "pokemon = pd.read_csv('https://raw.githubusercontent.com/a-milenkin/datasets_for_t-tests/main/pokemon.csv'\\\n",
    "                      , on_bad_lines='skip')  # Загрузим датасет\n",
    "\n"
   ]
  },
  {
   "cell_type": "markdown",
   "id": "883abea7",
   "metadata": {},
   "source": [
    "* pid: Numeric - ID покемона\n",
    "* HP: Numeric - Очки здоровья\n",
    "* Attack: Numeric - Сила обычной атаки\n",
    "* Defense: Numeric - Сила обычной защиты\n",
    "* Sp. Atk: Numeric - Сила специальной атаки\n",
    "* Sp. Def: Numeric - Сила специальной защиты\n",
    "* Speed: Numeric - Скорость движений\n",
    "* Legendary: Boolean - «True», если покемон редкий\n",
    "* Class 1: Categorical - Класс покемона\n",
    "* Class 2: Categorical - Класс покемона\n"
   ]
  },
  {
   "cell_type": "code",
   "execution_count": 3,
   "id": "cd1f7ff2",
   "metadata": {},
   "outputs": [
    {
     "data": {
      "text/html": [
       "<div>\n",
       "<style scoped>\n",
       "    .dataframe tbody tr th:only-of-type {\n",
       "        vertical-align: middle;\n",
       "    }\n",
       "\n",
       "    .dataframe tbody tr th {\n",
       "        vertical-align: top;\n",
       "    }\n",
       "\n",
       "    .dataframe thead th {\n",
       "        text-align: right;\n",
       "    }\n",
       "</style>\n",
       "<table border=\"1\" class=\"dataframe\">\n",
       "  <thead>\n",
       "    <tr style=\"text-align: right;\">\n",
       "      <th></th>\n",
       "      <th>pid</th>\n",
       "      <th>Name</th>\n",
       "      <th>Class 1</th>\n",
       "      <th>Class 2</th>\n",
       "      <th>HP</th>\n",
       "      <th>Attack</th>\n",
       "      <th>Defense</th>\n",
       "      <th>Sp. Atk</th>\n",
       "      <th>Sp. Def</th>\n",
       "      <th>Speed</th>\n",
       "      <th>Legendary</th>\n",
       "    </tr>\n",
       "  </thead>\n",
       "  <tbody>\n",
       "    <tr>\n",
       "      <th>0</th>\n",
       "      <td>1</td>\n",
       "      <td>Bulbasaur</td>\n",
       "      <td>Grass</td>\n",
       "      <td>Poison</td>\n",
       "      <td>45</td>\n",
       "      <td>49</td>\n",
       "      <td>49</td>\n",
       "      <td>65</td>\n",
       "      <td>65</td>\n",
       "      <td>45</td>\n",
       "      <td>False</td>\n",
       "    </tr>\n",
       "    <tr>\n",
       "      <th>1</th>\n",
       "      <td>2</td>\n",
       "      <td>Ivysaur</td>\n",
       "      <td>Grass</td>\n",
       "      <td>Poison</td>\n",
       "      <td>60</td>\n",
       "      <td>62</td>\n",
       "      <td>63</td>\n",
       "      <td>80</td>\n",
       "      <td>80</td>\n",
       "      <td>60</td>\n",
       "      <td>False</td>\n",
       "    </tr>\n",
       "    <tr>\n",
       "      <th>2</th>\n",
       "      <td>3</td>\n",
       "      <td>Venusaur</td>\n",
       "      <td>Grass</td>\n",
       "      <td>Poison</td>\n",
       "      <td>80</td>\n",
       "      <td>82</td>\n",
       "      <td>83</td>\n",
       "      <td>100</td>\n",
       "      <td>100</td>\n",
       "      <td>80</td>\n",
       "      <td>False</td>\n",
       "    </tr>\n",
       "    <tr>\n",
       "      <th>3</th>\n",
       "      <td>4</td>\n",
       "      <td>Mega Venusaur</td>\n",
       "      <td>Grass</td>\n",
       "      <td>Poison</td>\n",
       "      <td>80</td>\n",
       "      <td>100</td>\n",
       "      <td>123</td>\n",
       "      <td>122</td>\n",
       "      <td>120</td>\n",
       "      <td>80</td>\n",
       "      <td>False</td>\n",
       "    </tr>\n",
       "    <tr>\n",
       "      <th>4</th>\n",
       "      <td>5</td>\n",
       "      <td>Charmander</td>\n",
       "      <td>Fire</td>\n",
       "      <td>NaN</td>\n",
       "      <td>39</td>\n",
       "      <td>52</td>\n",
       "      <td>43</td>\n",
       "      <td>60</td>\n",
       "      <td>50</td>\n",
       "      <td>65</td>\n",
       "      <td>False</td>\n",
       "    </tr>\n",
       "  </tbody>\n",
       "</table>\n",
       "</div>"
      ],
      "text/plain": [
       "   pid           Name Class 1 Class 2  HP  Attack  Defense  Sp. Atk  Sp. Def  \\\n",
       "0    1      Bulbasaur   Grass  Poison  45      49       49       65       65   \n",
       "1    2        Ivysaur   Grass  Poison  60      62       63       80       80   \n",
       "2    3       Venusaur   Grass  Poison  80      82       83      100      100   \n",
       "3    4  Mega Venusaur   Grass  Poison  80     100      123      122      120   \n",
       "4    5     Charmander    Fire     NaN  39      52       43       60       50   \n",
       "\n",
       "   Speed  Legendary  \n",
       "0     45      False  \n",
       "1     60      False  \n",
       "2     80      False  \n",
       "3     80      False  \n",
       "4     65      False  "
      ]
     },
     "execution_count": 3,
     "metadata": {},
     "output_type": "execute_result"
    }
   ],
   "source": [
    "pokemon.head()\n",
    "\n",
    "# Обратите внимание, что у покемона может быть один или два класса.\n",
    "# Если у покемона два класса, считается, что они имеют одинаковую значимость."
   ]
  },
  {
   "cell_type": "code",
   "execution_count": 4,
   "id": "32443ae6",
   "metadata": {},
   "outputs": [
    {
     "data": {
      "text/plain": [
       "800"
      ]
     },
     "execution_count": 4,
     "metadata": {},
     "output_type": "execute_result"
    }
   ],
   "source": [
    "pokemon.pid.value_counts().count()"
   ]
  },
  {
   "cell_type": "code",
   "execution_count": 5,
   "id": "e1defb47",
   "metadata": {},
   "outputs": [],
   "source": [
    "# Заменяем пробелы на _\n",
    "\n",
    "pokemon.columns = [col.strip().replace(' ', '_') for col in pokemon.columns]"
   ]
  },
  {
   "cell_type": "code",
   "execution_count": 6,
   "id": "7637f0ac",
   "metadata": {},
   "outputs": [],
   "source": [
    "# Удалим столбец с pid, он нам не нужен\n",
    "pokemon.drop(labels='pid', axis=1, inplace=True)"
   ]
  },
  {
   "cell_type": "code",
   "execution_count": 7,
   "id": "8c33404b",
   "metadata": {},
   "outputs": [
    {
     "data": {
      "text/html": [
       "<div>\n",
       "<style scoped>\n",
       "    .dataframe tbody tr th:only-of-type {\n",
       "        vertical-align: middle;\n",
       "    }\n",
       "\n",
       "    .dataframe tbody tr th {\n",
       "        vertical-align: top;\n",
       "    }\n",
       "\n",
       "    .dataframe thead th {\n",
       "        text-align: right;\n",
       "    }\n",
       "</style>\n",
       "<table border=\"1\" class=\"dataframe\">\n",
       "  <thead>\n",
       "    <tr style=\"text-align: right;\">\n",
       "      <th></th>\n",
       "      <th>Name</th>\n",
       "      <th>Class_1</th>\n",
       "      <th>Class_2</th>\n",
       "      <th>HP</th>\n",
       "      <th>Attack</th>\n",
       "      <th>Defense</th>\n",
       "      <th>Sp._Atk</th>\n",
       "      <th>Sp._Def</th>\n",
       "      <th>Speed</th>\n",
       "      <th>Legendary</th>\n",
       "    </tr>\n",
       "  </thead>\n",
       "  <tbody>\n",
       "    <tr>\n",
       "      <th>0</th>\n",
       "      <td>Bulbasaur</td>\n",
       "      <td>Grass</td>\n",
       "      <td>Poison</td>\n",
       "      <td>45</td>\n",
       "      <td>49</td>\n",
       "      <td>49</td>\n",
       "      <td>65</td>\n",
       "      <td>65</td>\n",
       "      <td>45</td>\n",
       "      <td>False</td>\n",
       "    </tr>\n",
       "    <tr>\n",
       "      <th>1</th>\n",
       "      <td>Ivysaur</td>\n",
       "      <td>Grass</td>\n",
       "      <td>Poison</td>\n",
       "      <td>60</td>\n",
       "      <td>62</td>\n",
       "      <td>63</td>\n",
       "      <td>80</td>\n",
       "      <td>80</td>\n",
       "      <td>60</td>\n",
       "      <td>False</td>\n",
       "    </tr>\n",
       "    <tr>\n",
       "      <th>2</th>\n",
       "      <td>Venusaur</td>\n",
       "      <td>Grass</td>\n",
       "      <td>Poison</td>\n",
       "      <td>80</td>\n",
       "      <td>82</td>\n",
       "      <td>83</td>\n",
       "      <td>100</td>\n",
       "      <td>100</td>\n",
       "      <td>80</td>\n",
       "      <td>False</td>\n",
       "    </tr>\n",
       "    <tr>\n",
       "      <th>3</th>\n",
       "      <td>Mega Venusaur</td>\n",
       "      <td>Grass</td>\n",
       "      <td>Poison</td>\n",
       "      <td>80</td>\n",
       "      <td>100</td>\n",
       "      <td>123</td>\n",
       "      <td>122</td>\n",
       "      <td>120</td>\n",
       "      <td>80</td>\n",
       "      <td>False</td>\n",
       "    </tr>\n",
       "    <tr>\n",
       "      <th>4</th>\n",
       "      <td>Charmander</td>\n",
       "      <td>Fire</td>\n",
       "      <td>NaN</td>\n",
       "      <td>39</td>\n",
       "      <td>52</td>\n",
       "      <td>43</td>\n",
       "      <td>60</td>\n",
       "      <td>50</td>\n",
       "      <td>65</td>\n",
       "      <td>False</td>\n",
       "    </tr>\n",
       "    <tr>\n",
       "      <th>...</th>\n",
       "      <td>...</td>\n",
       "      <td>...</td>\n",
       "      <td>...</td>\n",
       "      <td>...</td>\n",
       "      <td>...</td>\n",
       "      <td>...</td>\n",
       "      <td>...</td>\n",
       "      <td>...</td>\n",
       "      <td>...</td>\n",
       "      <td>...</td>\n",
       "    </tr>\n",
       "    <tr>\n",
       "      <th>795</th>\n",
       "      <td>Diancie</td>\n",
       "      <td>Rock</td>\n",
       "      <td>Fairy</td>\n",
       "      <td>50</td>\n",
       "      <td>100</td>\n",
       "      <td>150</td>\n",
       "      <td>100</td>\n",
       "      <td>150</td>\n",
       "      <td>50</td>\n",
       "      <td>True</td>\n",
       "    </tr>\n",
       "    <tr>\n",
       "      <th>796</th>\n",
       "      <td>Mega Diancie</td>\n",
       "      <td>Rock</td>\n",
       "      <td>Fairy</td>\n",
       "      <td>50</td>\n",
       "      <td>160</td>\n",
       "      <td>110</td>\n",
       "      <td>160</td>\n",
       "      <td>110</td>\n",
       "      <td>110</td>\n",
       "      <td>True</td>\n",
       "    </tr>\n",
       "    <tr>\n",
       "      <th>797</th>\n",
       "      <td>Hoopa Confined</td>\n",
       "      <td>Psychic</td>\n",
       "      <td>Ghost</td>\n",
       "      <td>80</td>\n",
       "      <td>110</td>\n",
       "      <td>60</td>\n",
       "      <td>150</td>\n",
       "      <td>130</td>\n",
       "      <td>70</td>\n",
       "      <td>True</td>\n",
       "    </tr>\n",
       "    <tr>\n",
       "      <th>798</th>\n",
       "      <td>Hoopa Unbound</td>\n",
       "      <td>Psychic</td>\n",
       "      <td>Dark</td>\n",
       "      <td>80</td>\n",
       "      <td>160</td>\n",
       "      <td>60</td>\n",
       "      <td>170</td>\n",
       "      <td>130</td>\n",
       "      <td>80</td>\n",
       "      <td>True</td>\n",
       "    </tr>\n",
       "    <tr>\n",
       "      <th>799</th>\n",
       "      <td>Volcanion</td>\n",
       "      <td>Fire</td>\n",
       "      <td>Water</td>\n",
       "      <td>80</td>\n",
       "      <td>110</td>\n",
       "      <td>120</td>\n",
       "      <td>130</td>\n",
       "      <td>90</td>\n",
       "      <td>70</td>\n",
       "      <td>True</td>\n",
       "    </tr>\n",
       "  </tbody>\n",
       "</table>\n",
       "<p>800 rows × 10 columns</p>\n",
       "</div>"
      ],
      "text/plain": [
       "               Name  Class_1 Class_2  HP  Attack  Defense  Sp._Atk  Sp._Def  \\\n",
       "0         Bulbasaur    Grass  Poison  45      49       49       65       65   \n",
       "1           Ivysaur    Grass  Poison  60      62       63       80       80   \n",
       "2          Venusaur    Grass  Poison  80      82       83      100      100   \n",
       "3     Mega Venusaur    Grass  Poison  80     100      123      122      120   \n",
       "4        Charmander     Fire     NaN  39      52       43       60       50   \n",
       "..              ...      ...     ...  ..     ...      ...      ...      ...   \n",
       "795         Diancie     Rock   Fairy  50     100      150      100      150   \n",
       "796    Mega Diancie     Rock   Fairy  50     160      110      160      110   \n",
       "797  Hoopa Confined  Psychic   Ghost  80     110       60      150      130   \n",
       "798   Hoopa Unbound  Psychic    Dark  80     160       60      170      130   \n",
       "799       Volcanion     Fire   Water  80     110      120      130       90   \n",
       "\n",
       "     Speed  Legendary  \n",
       "0       45      False  \n",
       "1       60      False  \n",
       "2       80      False  \n",
       "3       80      False  \n",
       "4       65      False  \n",
       "..     ...        ...  \n",
       "795     50       True  \n",
       "796    110       True  \n",
       "797     70       True  \n",
       "798     80       True  \n",
       "799     70       True  \n",
       "\n",
       "[800 rows x 10 columns]"
      ]
     },
     "execution_count": 7,
     "metadata": {},
     "output_type": "execute_result"
    }
   ],
   "source": [
    "pokemon"
   ]
  },
  {
   "cell_type": "code",
   "execution_count": 8,
   "id": "ffeababd",
   "metadata": {},
   "outputs": [
    {
     "name": "stdout",
     "output_type": "stream",
     "text": [
      "<class 'pandas.core.frame.DataFrame'>\n",
      "RangeIndex: 800 entries, 0 to 799\n",
      "Data columns (total 10 columns):\n",
      " #   Column     Non-Null Count  Dtype \n",
      "---  ------     --------------  ----- \n",
      " 0   Name       799 non-null    object\n",
      " 1   Class_1    800 non-null    object\n",
      " 2   Class_2    414 non-null    object\n",
      " 3   HP         800 non-null    int64 \n",
      " 4   Attack     800 non-null    int64 \n",
      " 5   Defense    800 non-null    int64 \n",
      " 6   Sp._Atk    800 non-null    int64 \n",
      " 7   Sp._Def    800 non-null    int64 \n",
      " 8   Speed      800 non-null    int64 \n",
      " 9   Legendary  800 non-null    bool  \n",
      "dtypes: bool(1), int64(6), object(3)\n",
      "memory usage: 57.2+ KB\n"
     ]
    }
   ],
   "source": [
    "pokemon.info()"
   ]
  },
  {
   "cell_type": "code",
   "execution_count": 9,
   "id": "c55b62ad",
   "metadata": {
    "scrolled": true
   },
   "outputs": [
    {
     "data": {
      "text/html": [
       "<div>\n",
       "<style scoped>\n",
       "    .dataframe tbody tr th:only-of-type {\n",
       "        vertical-align: middle;\n",
       "    }\n",
       "\n",
       "    .dataframe tbody tr th {\n",
       "        vertical-align: top;\n",
       "    }\n",
       "\n",
       "    .dataframe thead th {\n",
       "        text-align: right;\n",
       "    }\n",
       "</style>\n",
       "<table border=\"1\" class=\"dataframe\">\n",
       "  <thead>\n",
       "    <tr style=\"text-align: right;\">\n",
       "      <th></th>\n",
       "      <th>HP</th>\n",
       "      <th>Attack</th>\n",
       "      <th>Defense</th>\n",
       "      <th>Sp._Atk</th>\n",
       "      <th>Sp._Def</th>\n",
       "      <th>Speed</th>\n",
       "    </tr>\n",
       "  </thead>\n",
       "  <tbody>\n",
       "    <tr>\n",
       "      <th>count</th>\n",
       "      <td>800.000000</td>\n",
       "      <td>800.000000</td>\n",
       "      <td>800.000000</td>\n",
       "      <td>800.000000</td>\n",
       "      <td>800.000000</td>\n",
       "      <td>800.000000</td>\n",
       "    </tr>\n",
       "    <tr>\n",
       "      <th>mean</th>\n",
       "      <td>69.258750</td>\n",
       "      <td>79.001250</td>\n",
       "      <td>73.842500</td>\n",
       "      <td>72.820000</td>\n",
       "      <td>71.902500</td>\n",
       "      <td>68.277500</td>\n",
       "    </tr>\n",
       "    <tr>\n",
       "      <th>std</th>\n",
       "      <td>25.534669</td>\n",
       "      <td>32.457366</td>\n",
       "      <td>31.183501</td>\n",
       "      <td>32.722294</td>\n",
       "      <td>27.828916</td>\n",
       "      <td>29.060474</td>\n",
       "    </tr>\n",
       "    <tr>\n",
       "      <th>min</th>\n",
       "      <td>1.000000</td>\n",
       "      <td>5.000000</td>\n",
       "      <td>5.000000</td>\n",
       "      <td>10.000000</td>\n",
       "      <td>20.000000</td>\n",
       "      <td>5.000000</td>\n",
       "    </tr>\n",
       "    <tr>\n",
       "      <th>25%</th>\n",
       "      <td>50.000000</td>\n",
       "      <td>55.000000</td>\n",
       "      <td>50.000000</td>\n",
       "      <td>49.750000</td>\n",
       "      <td>50.000000</td>\n",
       "      <td>45.000000</td>\n",
       "    </tr>\n",
       "    <tr>\n",
       "      <th>50%</th>\n",
       "      <td>65.000000</td>\n",
       "      <td>75.000000</td>\n",
       "      <td>70.000000</td>\n",
       "      <td>65.000000</td>\n",
       "      <td>70.000000</td>\n",
       "      <td>65.000000</td>\n",
       "    </tr>\n",
       "    <tr>\n",
       "      <th>75%</th>\n",
       "      <td>80.000000</td>\n",
       "      <td>100.000000</td>\n",
       "      <td>90.000000</td>\n",
       "      <td>95.000000</td>\n",
       "      <td>90.000000</td>\n",
       "      <td>90.000000</td>\n",
       "    </tr>\n",
       "    <tr>\n",
       "      <th>max</th>\n",
       "      <td>255.000000</td>\n",
       "      <td>190.000000</td>\n",
       "      <td>230.000000</td>\n",
       "      <td>194.000000</td>\n",
       "      <td>230.000000</td>\n",
       "      <td>180.000000</td>\n",
       "    </tr>\n",
       "  </tbody>\n",
       "</table>\n",
       "</div>"
      ],
      "text/plain": [
       "               HP      Attack     Defense     Sp._Atk     Sp._Def       Speed\n",
       "count  800.000000  800.000000  800.000000  800.000000  800.000000  800.000000\n",
       "mean    69.258750   79.001250   73.842500   72.820000   71.902500   68.277500\n",
       "std     25.534669   32.457366   31.183501   32.722294   27.828916   29.060474\n",
       "min      1.000000    5.000000    5.000000   10.000000   20.000000    5.000000\n",
       "25%     50.000000   55.000000   50.000000   49.750000   50.000000   45.000000\n",
       "50%     65.000000   75.000000   70.000000   65.000000   70.000000   65.000000\n",
       "75%     80.000000  100.000000   90.000000   95.000000   90.000000   90.000000\n",
       "max    255.000000  190.000000  230.000000  194.000000  230.000000  180.000000"
      ]
     },
     "execution_count": 9,
     "metadata": {},
     "output_type": "execute_result"
    }
   ],
   "source": [
    "pokemon.describe()"
   ]
  },
  {
   "cell_type": "code",
   "execution_count": 10,
   "id": "6da6115a",
   "metadata": {},
   "outputs": [
    {
     "data": {
      "text/plain": [
       "(18, 18)"
      ]
     },
     "execution_count": 10,
     "metadata": {},
     "output_type": "execute_result"
    }
   ],
   "source": [
    "len(pokemon.Class_2.value_counts()), len(pokemon.Class_1.value_counts())"
   ]
  },
  {
   "cell_type": "code",
   "execution_count": 11,
   "id": "e1806b4a",
   "metadata": {},
   "outputs": [
    {
     "data": {
      "text/plain": [
       "['HP', 'Attack', 'Defense', 'Sp._Atk', 'Sp._Def', 'Speed']"
      ]
     },
     "execution_count": 11,
     "metadata": {},
     "output_type": "execute_result"
    }
   ],
   "source": [
    "p_columns = pokemon.describe().columns.to_list()\n",
    "p_columns"
   ]
  },
  {
   "cell_type": "code",
   "execution_count": 12,
   "id": "62d77dca",
   "metadata": {
    "scrolled": false
   },
   "outputs": [
    {
     "name": "stdout",
     "output_type": "stream",
     "text": [
      "Нулевая гипотеза:  HP=Attack=Defense=Sp._Atk=Sp._Def=Speed\n",
      "Альтернативная гипотеза:  !(HP=Attack=Defense=Sp._Atk=Sp._Def=Speed)\n",
      "Результат: \n",
      "отклоняем нулевую гипотезу\n",
      "Полученное f-значение 13.031283690715513\n"
     ]
    },
    {
     "data": {
      "image/png": "[encoded data removed]",
      "text/plain": [
       "<Figure size 640x480 with 1 Axes>"
      ]
     },
     "metadata": {},
     "output_type": "display_data"
    }
   ],
   "source": [
    "# Проведем дисперсионный анализ\n",
    "\n",
    "pokemon[p_columns].boxplot()\n",
    "\n",
    "print ('Нулевая гипотеза: ', '='.join(pokemon[p_columns]))\n",
    "print ('Альтернативная гипотеза: ', f'!({\"=\".join(pokemon[p_columns])})')\n",
    "       \n",
    "# Общая средняя\n",
    "grand_mean = pokemon[p_columns].values.flatten().mean()\n",
    "\n",
    "# Общая сумма квадратов sst = ssb + ssw\n",
    "sst = sum( (val - grand_mean)**2 for val in pokemon[p_columns].values.flatten() )\n",
    "\n",
    "# Отклонение групповых средних от общей средней\n",
    "ssb = sum( pokemon[group].size * (group_mean - grand_mean)** 2 for group, group_mean in pokemon[p_columns]\\\n",
    "                                                                                               .mean().items())\n",
    "\n",
    "# Отклонения значений внутри группы от средней группы\n",
    "ssw = sum( sum ((x - group_mean)**2 for x in pokemon[group] ) for group, group_mean in pokemon[p_columns]\\\n",
    "                                                                                              .mean().items())\n",
    "\n",
    "groups = pokemon[p_columns].shape[1]\n",
    "\n",
    "# CBOI\n",
    "dfb = groups - 1\n",
    "dfw = pokemon[p_columns].size - groups\n",
    "\n",
    "# Межгрупповой средний квадрат\n",
    "mssb = ssb/dfb\n",
    "\n",
    "# Внутригрупповой средний квадрат\n",
    "mssw = ssw/dfw\n",
    "\n",
    "f_value = mssb/mssw\n",
    "p = st.f.sf(f_value, dfb, dfw)\n",
    "print ('Результат: ' )\n",
    "\n",
    "if p < 0.05:\n",
    "    print('отклоняем нулевую гипотезу' )\n",
    "else:\n",
    "    print('HE отклоняем нулевую гипотезу' ) \n",
    "print(f\"Полученное f-значение {f_value}\")"
   ]
  },
  {
   "cell_type": "markdown",
   "id": "e1b0cedb",
   "metadata": {},
   "source": [
    "# Задание № 1:\n",
    "Профессор Оук подозревает, что покемоны в классе Grass имеют более сильную обычную атаку, чем покемоны в классе Rock. Проверьте, прав ли он, и убедите его в своём выводе статистически.\n",
    "\n",
    "Примечание: если есть покемоны, которые относятся к обоим классам, просто выбросьте их.\n",
    "Вы можете предположить, что распределение обычных атак является нормальным для всех классов покемонов."
   ]
  },
  {
   "cell_type": "code",
   "execution_count": 13,
   "id": "2ffd32e9",
   "metadata": {},
   "outputs": [
    {
     "data": {
      "text/html": [
       "<div>\n",
       "<style scoped>\n",
       "    .dataframe tbody tr th:only-of-type {\n",
       "        vertical-align: middle;\n",
       "    }\n",
       "\n",
       "    .dataframe tbody tr th {\n",
       "        vertical-align: top;\n",
       "    }\n",
       "\n",
       "    .dataframe thead th {\n",
       "        text-align: right;\n",
       "    }\n",
       "</style>\n",
       "<table border=\"1\" class=\"dataframe\">\n",
       "  <thead>\n",
       "    <tr style=\"text-align: right;\">\n",
       "      <th></th>\n",
       "      <th>Name</th>\n",
       "      <th>Class_1</th>\n",
       "      <th>Class_2</th>\n",
       "      <th>HP</th>\n",
       "      <th>Attack</th>\n",
       "      <th>Defense</th>\n",
       "      <th>Sp._Atk</th>\n",
       "      <th>Sp._Def</th>\n",
       "      <th>Speed</th>\n",
       "      <th>Legendary</th>\n",
       "    </tr>\n",
       "  </thead>\n",
       "  <tbody>\n",
       "    <tr>\n",
       "      <th>570</th>\n",
       "      <td>Pansage</td>\n",
       "      <td>Grass</td>\n",
       "      <td>NaN</td>\n",
       "      <td>50</td>\n",
       "      <td>53</td>\n",
       "      <td>48</td>\n",
       "      <td>53</td>\n",
       "      <td>48</td>\n",
       "      <td>64</td>\n",
       "      <td>False</td>\n",
       "    </tr>\n",
       "    <tr>\n",
       "      <th>52</th>\n",
       "      <td>Parasect</td>\n",
       "      <td>Bug</td>\n",
       "      <td>Grass</td>\n",
       "      <td>60</td>\n",
       "      <td>95</td>\n",
       "      <td>80</td>\n",
       "      <td>60</td>\n",
       "      <td>80</td>\n",
       "      <td>30</td>\n",
       "      <td>False</td>\n",
       "    </tr>\n",
       "    <tr>\n",
       "      <th>122</th>\n",
       "      <td>Tangela</td>\n",
       "      <td>Grass</td>\n",
       "      <td>NaN</td>\n",
       "      <td>65</td>\n",
       "      <td>55</td>\n",
       "      <td>115</td>\n",
       "      <td>100</td>\n",
       "      <td>40</td>\n",
       "      <td>60</td>\n",
       "      <td>False</td>\n",
       "    </tr>\n",
       "    <tr>\n",
       "      <th>51</th>\n",
       "      <td>Paras</td>\n",
       "      <td>Bug</td>\n",
       "      <td>Grass</td>\n",
       "      <td>35</td>\n",
       "      <td>70</td>\n",
       "      <td>55</td>\n",
       "      <td>45</td>\n",
       "      <td>55</td>\n",
       "      <td>25</td>\n",
       "      <td>False</td>\n",
       "    </tr>\n",
       "    <tr>\n",
       "      <th>168</th>\n",
       "      <td>Meganium</td>\n",
       "      <td>Grass</td>\n",
       "      <td>NaN</td>\n",
       "      <td>80</td>\n",
       "      <td>82</td>\n",
       "      <td>100</td>\n",
       "      <td>83</td>\n",
       "      <td>100</td>\n",
       "      <td>80</td>\n",
       "      <td>False</td>\n",
       "    </tr>\n",
       "  </tbody>\n",
       "</table>\n",
       "</div>"
      ],
      "text/plain": [
       "         Name Class_1 Class_2  HP  Attack  Defense  Sp._Atk  Sp._Def  Speed  \\\n",
       "570   Pansage   Grass     NaN  50      53       48       53       48     64   \n",
       "52   Parasect     Bug   Grass  60      95       80       60       80     30   \n",
       "122   Tangela   Grass     NaN  65      55      115      100       40     60   \n",
       "51      Paras     Bug   Grass  35      70       55       45       55     25   \n",
       "168  Meganium   Grass     NaN  80      82      100       83      100     80   \n",
       "\n",
       "     Legendary  \n",
       "570      False  \n",
       "52       False  \n",
       "122      False  \n",
       "51       False  \n",
       "168      False  "
      ]
     },
     "execution_count": 13,
     "metadata": {},
     "output_type": "execute_result"
    }
   ],
   "source": [
    "poke_grass = pokemon.query(\"Class_1 == 'Grass' & Class_2 != 'Rock' | Class_2 == 'Grass' & Class_1 != 'Rock' \")\\\n",
    "                    .sample(n=56, random_state=12)\n",
    "poke_grass.head()"
   ]
  },
  {
   "cell_type": "code",
   "execution_count": 14,
   "id": "5b917d29",
   "metadata": {
    "scrolled": true
   },
   "outputs": [
    {
     "data": {
      "text/html": [
       "<div>\n",
       "<style scoped>\n",
       "    .dataframe tbody tr th:only-of-type {\n",
       "        vertical-align: middle;\n",
       "    }\n",
       "\n",
       "    .dataframe tbody tr th {\n",
       "        vertical-align: top;\n",
       "    }\n",
       "\n",
       "    .dataframe thead th {\n",
       "        text-align: right;\n",
       "    }\n",
       "</style>\n",
       "<table border=\"1\" class=\"dataframe\">\n",
       "  <thead>\n",
       "    <tr style=\"text-align: right;\">\n",
       "      <th></th>\n",
       "      <th>Name</th>\n",
       "      <th>Class_1</th>\n",
       "      <th>Class_2</th>\n",
       "      <th>HP</th>\n",
       "      <th>Attack</th>\n",
       "      <th>Defense</th>\n",
       "      <th>Sp._Atk</th>\n",
       "      <th>Sp._Def</th>\n",
       "      <th>Speed</th>\n",
       "      <th>Legendary</th>\n",
       "    </tr>\n",
       "  </thead>\n",
       "  <tbody>\n",
       "    <tr>\n",
       "      <th>80</th>\n",
       "      <td>Geodude</td>\n",
       "      <td>Rock</td>\n",
       "      <td>Ground</td>\n",
       "      <td>40</td>\n",
       "      <td>80</td>\n",
       "      <td>100</td>\n",
       "      <td>30</td>\n",
       "      <td>30</td>\n",
       "      <td>20</td>\n",
       "      <td>False</td>\n",
       "    </tr>\n",
       "    <tr>\n",
       "      <th>81</th>\n",
       "      <td>Graveler</td>\n",
       "      <td>Rock</td>\n",
       "      <td>Ground</td>\n",
       "      <td>55</td>\n",
       "      <td>95</td>\n",
       "      <td>115</td>\n",
       "      <td>45</td>\n",
       "      <td>45</td>\n",
       "      <td>35</td>\n",
       "      <td>False</td>\n",
       "    </tr>\n",
       "    <tr>\n",
       "      <th>82</th>\n",
       "      <td>Golem</td>\n",
       "      <td>Rock</td>\n",
       "      <td>Ground</td>\n",
       "      <td>80</td>\n",
       "      <td>120</td>\n",
       "      <td>130</td>\n",
       "      <td>55</td>\n",
       "      <td>65</td>\n",
       "      <td>45</td>\n",
       "      <td>False</td>\n",
       "    </tr>\n",
       "    <tr>\n",
       "      <th>103</th>\n",
       "      <td>Onix</td>\n",
       "      <td>Rock</td>\n",
       "      <td>Ground</td>\n",
       "      <td>35</td>\n",
       "      <td>45</td>\n",
       "      <td>160</td>\n",
       "      <td>30</td>\n",
       "      <td>45</td>\n",
       "      <td>70</td>\n",
       "      <td>False</td>\n",
       "    </tr>\n",
       "    <tr>\n",
       "      <th>119</th>\n",
       "      <td>Rhyhorn</td>\n",
       "      <td>Ground</td>\n",
       "      <td>Rock</td>\n",
       "      <td>80</td>\n",
       "      <td>85</td>\n",
       "      <td>95</td>\n",
       "      <td>30</td>\n",
       "      <td>30</td>\n",
       "      <td>25</td>\n",
       "      <td>False</td>\n",
       "    </tr>\n",
       "  </tbody>\n",
       "</table>\n",
       "</div>"
      ],
      "text/plain": [
       "         Name Class_1 Class_2  HP  Attack  Defense  Sp._Atk  Sp._Def  Speed  \\\n",
       "80    Geodude    Rock  Ground  40      80      100       30       30     20   \n",
       "81   Graveler    Rock  Ground  55      95      115       45       45     35   \n",
       "82      Golem    Rock  Ground  80     120      130       55       65     45   \n",
       "103      Onix    Rock  Ground  35      45      160       30       45     70   \n",
       "119   Rhyhorn  Ground    Rock  80      85       95       30       30     25   \n",
       "\n",
       "     Legendary  \n",
       "80       False  \n",
       "81       False  \n",
       "82       False  \n",
       "103      False  \n",
       "119      False  "
      ]
     },
     "execution_count": 14,
     "metadata": {},
     "output_type": "execute_result"
    }
   ],
   "source": [
    "poke_rock = pokemon.query(\"Class_1 == 'Rock' & Class_2 != 'Grass' | Class_2 == 'Rock' & Class_1 != 'Grass' \")\n",
    "poke_rock.head()"
   ]
  },
  {
   "cell_type": "code",
   "execution_count": 15,
   "id": "143c2bc3",
   "metadata": {
    "scrolled": true
   },
   "outputs": [
    {
     "data": {
      "text/plain": [
       "(56, 56)"
      ]
     },
     "execution_count": 15,
     "metadata": {},
     "output_type": "execute_result"
    }
   ],
   "source": [
    "len(poke_grass), len(poke_rock)"
   ]
  },
  {
   "cell_type": "code",
   "execution_count": 16,
   "id": "86487784",
   "metadata": {},
   "outputs": [
    {
     "name": "stdout",
     "output_type": "stream",
     "text": [
      "Статистика= 0.9700, p=  0.1767\n",
      "Не отклоняем нулевую гипотезу, распределение, вероятно, нормальное\n",
      "Статистика= 0.9824, p=  0.5855\n",
      "Не отклоняем нулевую гипотезу, распределение, вероятно, нормальное\n"
     ]
    }
   ],
   "source": [
    "# Проверяем нормальное ли распределение\n",
    "\n",
    "for poke in [poke_grass, poke_rock]:\n",
    "\n",
    "    stat, p = st.shapiro(poke.Attack)\n",
    "    \n",
    "    \n",
    "# H0 : (нулевая гипотеза) Распределение нормальное.\n",
    "# H1 : (альтернативная гипотеза) Распределение не нормальное\n",
    "\n",
    "\n",
    "    print(f'Статистика= {stat:.4f}, p= {p: .4f}')\n",
    "\n",
    "    if p > 0.05:\n",
    "        print('Не отклоняем нулевую гипотезу, распределение, вероятно, нормальное' )\n",
    "    else:\n",
    "        print('Отклоняем нулевую гипотезу, распределение, вероятно, не нормально' )"
   ]
  },
  {
   "cell_type": "code",
   "execution_count": 17,
   "id": "8eddc44b",
   "metadata": {},
   "outputs": [
    {
     "data": {
      "image/png": "[encoded data removed]",
      "text/plain": [
       "<Figure size 300x200 with 1 Axes>"
      ]
     },
     "metadata": {},
     "output_type": "display_data"
    },
    {
     "data": {
      "image/png": "[encoded data removed]",
      "text/plain": [
       "<Figure size 300x200 with 1 Axes>"
      ]
     },
     "metadata": {},
     "output_type": "display_data"
    }
   ],
   "source": [
    "# Проверим на графике распределение\n",
    "# На первом графике есть отклонение, но не сильное\n",
    "\n",
    "for poke in [poke_grass, poke_rock]:\n",
    "    plt.figure(figsize=(3,2))\n",
    "    poke.Attack.plot(kind='density', color='green')\n",
    "    plt.show()"
   ]
  },
  {
   "cell_type": "markdown",
   "id": "21e78f84",
   "metadata": {},
   "source": [
    "Прежде чем использовать t-тест, необходимо проверить равенство дисперссий. Сделаем это с помощью F-теста. Используем собстенную функцию."
   ]
  },
  {
   "cell_type": "code",
   "execution_count": 18,
   "id": "6dff86ac",
   "metadata": {},
   "outputs": [],
   "source": [
    "# Тест Фишера - определяем зависимы ли группы между собой\n",
    "\n",
    "def f_test(group1, group2):\n",
    "    f = np.var(group1, ddof=1)/np.var(group2, ddof=1)\n",
    "    nun = group1.size - 1\n",
    "    dun = group2.size - 1\n",
    "    p_value = 1 - st.f.cdf(f, nun, dun)\n",
    "    return f, p_value"
   ]
  },
  {
   "cell_type": "code",
   "execution_count": 19,
   "id": "bbd799d0",
   "metadata": {},
   "outputs": [
    {
     "name": "stdout",
     "output_type": "stream",
     "text": [
      "Статистика= 1.9477, p=  0.0074\n",
      "Отклоняем нулевую гипотезу, дисперссии, вероятно, различаются или не являются независимыми\n"
     ]
    }
   ],
   "source": [
    "stat, p = f_test(poke_rock.Attack, poke_grass.Attack)\n",
    "                                             \n",
    "print(f'Статистика= {stat:.4f}, p= {p: .4f}')\n",
    "      \n",
    "# H0 : (нулевая гипотеза) Две переменные независимы.\n",
    "# H1 : (альтернативная гипотеза) Две переменные не являются независимыми.\n",
    "    \n",
    "if p > 0.05:\n",
    "    print('Не отклоняем нулевую гипотезу, дисперссии, вероятно, одинаковы или независимы' )\n",
    "else:\n",
    "    print('Отклоняем нулевую гипотезу, дисперссии, вероятно, различаются или не являются независимыми' )"
   ]
  },
  {
   "cell_type": "markdown",
   "id": "4f7d5b18",
   "metadata": {},
   "source": [
    "Используем Т-критерий Стьюдента"
   ]
  },
  {
   "cell_type": "code",
   "execution_count": 20,
   "id": "72428f96",
   "metadata": {},
   "outputs": [
    {
     "name": "stdout",
     "output_type": "stream",
     "text": [
      "Статистика=  3.3144, p=  0.0013\n",
      "Отклоняем нулевую гипотезу, средние, вероятно, различаются\n"
     ]
    }
   ],
   "source": [
    "stat, p = st.ttest_ind(poke_rock.Attack, poke_grass.Attack, equal_var=False)\n",
    "# equal_var=True - используется при независимых группах\n",
    "\n",
    "print (f'Статистика= {stat: .4f}, p= {p: .4f}')\n",
    "\n",
    "if p > 0.05:\n",
    "    print('Не отклоняем нулевую гипотезу, средние, вероятно, одинаковые ' )\n",
    "else:\n",
    "    print('Отклоняем нулевую гипотезу, средние, вероятно, различаются' )"
   ]
  },
  {
   "cell_type": "code",
   "execution_count": 21,
   "id": "ca6b4f7a",
   "metadata": {},
   "outputs": [
    {
     "name": "stdout",
     "output_type": "stream",
     "text": [
      "Статистика=  3.3144, p=  0.0006\n",
      "Отклоняем нулевую гипотезу, средние, вероятно, различаются\n"
     ]
    }
   ],
   "source": [
    "# тест с односторонней альтернативой применяется с помощью alternative?\n",
    "\n",
    "stat, p = st.ttest_ind(poke_rock.Attack, poke_grass.Attack, equal_var=False, alternative='greater')\n",
    "# equal_var=True - используется при независимых группах\n",
    "\n",
    "print (f'Статистика= {stat: .4f}, p= {p: .4f}')\n",
    "\n",
    "if p > 0.05:\n",
    "    print('Не отклоняем нулевую гипотезу, средние, вероятно, одинаковые ' )\n",
    "else:\n",
    "    print('Отклоняем нулевую гипотезу, средние, вероятно, различаются' )"
   ]
  },
  {
   "cell_type": "code",
   "execution_count": 22,
   "id": "81519104",
   "metadata": {},
   "outputs": [
    {
     "data": {
      "text/plain": [
       "True"
      ]
     },
     "execution_count": 22,
     "metadata": {},
     "output_type": "execute_result"
    }
   ],
   "source": [
    "poke_rock.Attack.mean() > poke_grass.Attack.mean()"
   ]
  },
  {
   "cell_type": "code",
   "execution_count": 23,
   "id": "46b8a572",
   "metadata": {},
   "outputs": [
    {
     "data": {
      "image/png": "[encoded data removed]",
      "text/plain": [
       "<Figure size 400x200 with 1 Axes>"
      ]
     },
     "metadata": {},
     "output_type": "display_data"
    }
   ],
   "source": [
    "plt.figure(figsize=(4, 2))\n",
    "poke_grass.Attack.plot(kind='density')\n",
    "poke_rock.Attack.plot(kind='density')\n",
    "plt.xlabel('Attack')\n",
    "plt.legend(['grass','rock'])\n",
    "plt.show()"
   ]
  },
  {
   "cell_type": "markdown",
   "id": "59e5d03d",
   "metadata": {},
   "source": [
    "Вывод: Наше значение р близко к нулю, поэтому мы отвергаем нулевую гипотезу о том, что средние значения двух выборок одинаковые. То есть существует статистически значимая разница между силой обычной атаки у Grass и Rock.  Среднее значение выборки Rock больше чем среднее значение выборки Grass, т.е. у покемонов Rock имеет более сильную обычную атаку по сравнению с Grass и професор Оук ошибается"
   ]
  },
  {
   "cell_type": "markdown",
   "id": "6c74901d",
   "metadata": {},
   "source": [
    "### Задание 2\n",
    "Профессор Оук уже долго не может спать по ночам, ведь его волнует вопрос, а правда ли, что покемоны в классе Water в среднем быстрее, чем покемоны в классе Normal.\n",
    "Проверьте, прав ли он, и убедите его в своём выводе статистически.\n",
    "\n",
    "Примечание: если есть покемоны, которые относятся к обоим классам, выбросьте их. Вы можете предположить, что распределение скорости движения является нормальным для всех классов покемонов."
   ]
  },
  {
   "cell_type": "code",
   "execution_count": 24,
   "id": "91419742",
   "metadata": {},
   "outputs": [
    {
     "data": {
      "text/html": [
       "<div>\n",
       "<style scoped>\n",
       "    .dataframe tbody tr th:only-of-type {\n",
       "        vertical-align: middle;\n",
       "    }\n",
       "\n",
       "    .dataframe tbody tr th {\n",
       "        vertical-align: top;\n",
       "    }\n",
       "\n",
       "    .dataframe thead th {\n",
       "        text-align: right;\n",
       "    }\n",
       "</style>\n",
       "<table border=\"1\" class=\"dataframe\">\n",
       "  <thead>\n",
       "    <tr style=\"text-align: right;\">\n",
       "      <th></th>\n",
       "      <th>Name</th>\n",
       "      <th>Class_1</th>\n",
       "      <th>Class_2</th>\n",
       "      <th>HP</th>\n",
       "      <th>Attack</th>\n",
       "      <th>Defense</th>\n",
       "      <th>Sp._Atk</th>\n",
       "      <th>Sp._Def</th>\n",
       "      <th>Speed</th>\n",
       "      <th>Legendary</th>\n",
       "    </tr>\n",
       "  </thead>\n",
       "  <tbody>\n",
       "    <tr>\n",
       "      <th>9</th>\n",
       "      <td>Squirtle</td>\n",
       "      <td>Water</td>\n",
       "      <td>NaN</td>\n",
       "      <td>44</td>\n",
       "      <td>48</td>\n",
       "      <td>65</td>\n",
       "      <td>50</td>\n",
       "      <td>64</td>\n",
       "      <td>43</td>\n",
       "      <td>False</td>\n",
       "    </tr>\n",
       "    <tr>\n",
       "      <th>10</th>\n",
       "      <td>Wartortle</td>\n",
       "      <td>Water</td>\n",
       "      <td>NaN</td>\n",
       "      <td>59</td>\n",
       "      <td>63</td>\n",
       "      <td>80</td>\n",
       "      <td>65</td>\n",
       "      <td>80</td>\n",
       "      <td>58</td>\n",
       "      <td>False</td>\n",
       "    </tr>\n",
       "    <tr>\n",
       "      <th>11</th>\n",
       "      <td>Blastoise</td>\n",
       "      <td>Water</td>\n",
       "      <td>NaN</td>\n",
       "      <td>79</td>\n",
       "      <td>83</td>\n",
       "      <td>100</td>\n",
       "      <td>85</td>\n",
       "      <td>105</td>\n",
       "      <td>78</td>\n",
       "      <td>False</td>\n",
       "    </tr>\n",
       "    <tr>\n",
       "      <th>12</th>\n",
       "      <td>Mega Blastoise</td>\n",
       "      <td>Water</td>\n",
       "      <td>NaN</td>\n",
       "      <td>79</td>\n",
       "      <td>103</td>\n",
       "      <td>120</td>\n",
       "      <td>135</td>\n",
       "      <td>115</td>\n",
       "      <td>78</td>\n",
       "      <td>False</td>\n",
       "    </tr>\n",
       "    <tr>\n",
       "      <th>59</th>\n",
       "      <td>Psyduck</td>\n",
       "      <td>Water</td>\n",
       "      <td>NaN</td>\n",
       "      <td>50</td>\n",
       "      <td>52</td>\n",
       "      <td>48</td>\n",
       "      <td>65</td>\n",
       "      <td>50</td>\n",
       "      <td>55</td>\n",
       "      <td>False</td>\n",
       "    </tr>\n",
       "  </tbody>\n",
       "</table>\n",
       "</div>"
      ],
      "text/plain": [
       "              Name Class_1 Class_2  HP  Attack  Defense  Sp._Atk  Sp._Def  \\\n",
       "9         Squirtle   Water     NaN  44      48       65       50       64   \n",
       "10       Wartortle   Water     NaN  59      63       80       65       80   \n",
       "11       Blastoise   Water     NaN  79      83      100       85      105   \n",
       "12  Mega Blastoise   Water     NaN  79     103      120      135      115   \n",
       "59         Psyduck   Water     NaN  50      52       48       65       50   \n",
       "\n",
       "    Speed  Legendary  \n",
       "9      43      False  \n",
       "10     58      False  \n",
       "11     78      False  \n",
       "12     78      False  \n",
       "59     55      False  "
      ]
     },
     "execution_count": 24,
     "metadata": {},
     "output_type": "execute_result"
    }
   ],
   "source": [
    "poke_water = pokemon.query(\"Class_1 == 'Water' & Class_2 != 'Normal' | Class_2 == 'Water' & Class_1 != 'Normal' \")\n",
    "poke_water.head()"
   ]
  },
  {
   "cell_type": "code",
   "execution_count": 25,
   "id": "09a3426c",
   "metadata": {},
   "outputs": [
    {
     "data": {
      "text/html": [
       "<div>\n",
       "<style scoped>\n",
       "    .dataframe tbody tr th:only-of-type {\n",
       "        vertical-align: middle;\n",
       "    }\n",
       "\n",
       "    .dataframe tbody tr th {\n",
       "        vertical-align: top;\n",
       "    }\n",
       "\n",
       "    .dataframe thead th {\n",
       "        text-align: right;\n",
       "    }\n",
       "</style>\n",
       "<table border=\"1\" class=\"dataframe\">\n",
       "  <thead>\n",
       "    <tr style=\"text-align: right;\">\n",
       "      <th></th>\n",
       "      <th>Name</th>\n",
       "      <th>Class_1</th>\n",
       "      <th>Class_2</th>\n",
       "      <th>HP</th>\n",
       "      <th>Attack</th>\n",
       "      <th>Defense</th>\n",
       "      <th>Sp._Atk</th>\n",
       "      <th>Sp._Def</th>\n",
       "      <th>Speed</th>\n",
       "      <th>Legendary</th>\n",
       "    </tr>\n",
       "  </thead>\n",
       "  <tbody>\n",
       "    <tr>\n",
       "      <th>20</th>\n",
       "      <td>Pidgey</td>\n",
       "      <td>Normal</td>\n",
       "      <td>Flying</td>\n",
       "      <td>40</td>\n",
       "      <td>45</td>\n",
       "      <td>40</td>\n",
       "      <td>35</td>\n",
       "      <td>35</td>\n",
       "      <td>56</td>\n",
       "      <td>False</td>\n",
       "    </tr>\n",
       "    <tr>\n",
       "      <th>21</th>\n",
       "      <td>Pidgeotto</td>\n",
       "      <td>Normal</td>\n",
       "      <td>Flying</td>\n",
       "      <td>63</td>\n",
       "      <td>60</td>\n",
       "      <td>55</td>\n",
       "      <td>50</td>\n",
       "      <td>50</td>\n",
       "      <td>71</td>\n",
       "      <td>False</td>\n",
       "    </tr>\n",
       "    <tr>\n",
       "      <th>22</th>\n",
       "      <td>Pidgeot</td>\n",
       "      <td>Normal</td>\n",
       "      <td>Flying</td>\n",
       "      <td>83</td>\n",
       "      <td>80</td>\n",
       "      <td>75</td>\n",
       "      <td>70</td>\n",
       "      <td>70</td>\n",
       "      <td>101</td>\n",
       "      <td>False</td>\n",
       "    </tr>\n",
       "    <tr>\n",
       "      <th>23</th>\n",
       "      <td>Mega Pidgeot</td>\n",
       "      <td>Normal</td>\n",
       "      <td>Flying</td>\n",
       "      <td>83</td>\n",
       "      <td>80</td>\n",
       "      <td>80</td>\n",
       "      <td>135</td>\n",
       "      <td>80</td>\n",
       "      <td>121</td>\n",
       "      <td>False</td>\n",
       "    </tr>\n",
       "    <tr>\n",
       "      <th>24</th>\n",
       "      <td>Rattata</td>\n",
       "      <td>Normal</td>\n",
       "      <td>NaN</td>\n",
       "      <td>30</td>\n",
       "      <td>56</td>\n",
       "      <td>35</td>\n",
       "      <td>25</td>\n",
       "      <td>35</td>\n",
       "      <td>72</td>\n",
       "      <td>False</td>\n",
       "    </tr>\n",
       "  </tbody>\n",
       "</table>\n",
       "</div>"
      ],
      "text/plain": [
       "            Name Class_1 Class_2  HP  Attack  Defense  Sp._Atk  Sp._Def  \\\n",
       "20        Pidgey  Normal  Flying  40      45       40       35       35   \n",
       "21     Pidgeotto  Normal  Flying  63      60       55       50       50   \n",
       "22       Pidgeot  Normal  Flying  83      80       75       70       70   \n",
       "23  Mega Pidgeot  Normal  Flying  83      80       80      135       80   \n",
       "24       Rattata  Normal     NaN  30      56       35       25       35   \n",
       "\n",
       "    Speed  Legendary  \n",
       "20     56      False  \n",
       "21     71      False  \n",
       "22    101      False  \n",
       "23    121      False  \n",
       "24     72      False  "
      ]
     },
     "execution_count": 25,
     "metadata": {},
     "output_type": "execute_result"
    }
   ],
   "source": [
    "poke_normal = pokemon.query(\"Class_1 == 'Normal' & Class_2 != 'Water' | Class_2 == 'Normal' & Class_1 != 'Water' \")\n",
    "poke_normal.head()"
   ]
  },
  {
   "cell_type": "code",
   "execution_count": 26,
   "id": "80aa4b61",
   "metadata": {},
   "outputs": [
    {
     "data": {
      "text/plain": [
       "(125, 101)"
      ]
     },
     "execution_count": 26,
     "metadata": {},
     "output_type": "execute_result"
    }
   ],
   "source": [
    "len(poke_water), len(poke_normal)"
   ]
  },
  {
   "cell_type": "code",
   "execution_count": 27,
   "id": "3c165cf1",
   "metadata": {},
   "outputs": [],
   "source": [
    "# Тест Фишера - определяем зависимы ли группы между собой\n",
    "\n",
    "def f_test(group1, group2):\n",
    "    f = np.var(group1, ddof=1)/np.var(group2, ddof=1)\n",
    "    nun = group1.size - 1\n",
    "    dun = group2.size - 1\n",
    "    p_value = 1 - st.f.cdf(f, nun, dun)\n",
    "    return f, p_value"
   ]
  },
  {
   "cell_type": "code",
   "execution_count": 28,
   "id": "b87320c0",
   "metadata": {},
   "outputs": [
    {
     "name": "stdout",
     "output_type": "stream",
     "text": [
      "Статистика= 1.5615, p=  0.0093\n",
      "Отклоняем нулевую гипотезу, дисперссии, вероятно, различаются\n"
     ]
    }
   ],
   "source": [
    "stat, p = f_test(poke_normal.Speed, poke_water.Speed)\n",
    "                                             \n",
    "print(f'Статистика= {stat:.4f}, p= {p: .4f}')\n",
    "      \n",
    "# H0 : (нулевая гипотеза) Две переменные независимы.\n",
    "# H1 : (альтернативная гипотеза) Две переменные не являются независимыми.\n",
    "    \n",
    "    \n",
    "if p > 0.05:\n",
    "    print('Не отклоняем нулевую гипотезу, дисперссии, вероятно, одинаковые' )\n",
    "else:\n",
    "    print('Отклоняем нулевую гипотезу, дисперссии, вероятно, различаются' )"
   ]
  },
  {
   "cell_type": "code",
   "execution_count": 29,
   "id": "10f62eb8",
   "metadata": {},
   "outputs": [
    {
     "name": "stdout",
     "output_type": "stream",
     "text": [
      "Статистика=  2.1012, p=  0.0369\n",
      "Отклоняем нулевую гипотезу, средние, вероятно, различаются\n"
     ]
    }
   ],
   "source": [
    "# Поскольку группы не является независимыми, используем тест Уэлча\n",
    "\n",
    "stat, p = st.ttest_ind(poke_normal.Speed, poke_water.Speed, equal_var=False)\n",
    "\n",
    "print (f'Статистика= {stat: .4f}, p= {p: .4f}')\n",
    "\n",
    "if p > 0.05:\n",
    "    print('Не отклоняем нулевую гипотезу, средние, вероятно, одинаковые ' )\n",
    "else:\n",
    "    print('Отклоняем нулевую гипотезу, средние, вероятно, различаются' )"
   ]
  },
  {
   "cell_type": "code",
   "execution_count": 30,
   "id": "02b7e505",
   "metadata": {},
   "outputs": [
    {
     "data": {
      "image/png": "[encoded data removed]",
      "text/plain": [
       "<Figure size 400x200 with 1 Axes>"
      ]
     },
     "metadata": {},
     "output_type": "display_data"
    }
   ],
   "source": [
    "# По графику видно, что у класса water скорость больше\n",
    "\n",
    "plt.figure(figsize=(4, 2))\n",
    "poke_water.Speed.plot(kind='density')\n",
    "poke_normal.Speed.plot(kind='density')\n",
    "plt.xlabel('Speed')\n",
    "plt.legend(['water','normal'])\n",
    "plt.show()"
   ]
  },
  {
   "cell_type": "markdown",
   "id": "773776b9",
   "metadata": {},
   "source": [
    "Вывод: Наше значение р близко к альфе, поэтому мы отвергаем нулевую гипотезу о том, что средние значения двух выборок одинаковые. То есть существует статистически значимая разница между средней скоростью класса Water и Normal"
   ]
  },
  {
   "cell_type": "markdown",
   "id": "fd9b5235",
   "metadata": {},
   "source": [
    "### Задание 3\n",
    "Профессор Оук тот еще безумец. Он изобрёл сыворотку, способную ускорить покемона. Однако мы усомнились в эффективности его вакцины. Професоор дал эту сыворотку следующим покемонам: смотри массив treathed_pokemon. Проверьте, работает ли вообще его сыворотка, убедите всех в своём выводе статистически.\n",
    "\n",
    "Вы можете предположить, что распределение скорости движения является нормальным для всех классов покемонов."
   ]
  },
  {
   "cell_type": "code",
   "execution_count": 31,
   "id": "6b732ece",
   "metadata": {},
   "outputs": [
    {
     "data": {
      "text/html": [
       "<div>\n",
       "<style scoped>\n",
       "    .dataframe tbody tr th:only-of-type {\n",
       "        vertical-align: middle;\n",
       "    }\n",
       "\n",
       "    .dataframe tbody tr th {\n",
       "        vertical-align: top;\n",
       "    }\n",
       "\n",
       "    .dataframe thead th {\n",
       "        text-align: right;\n",
       "    }\n",
       "</style>\n",
       "<table border=\"1\" class=\"dataframe\">\n",
       "  <thead>\n",
       "    <tr style=\"text-align: right;\">\n",
       "      <th></th>\n",
       "      <th>Name</th>\n",
       "      <th>Class_1</th>\n",
       "      <th>Class_2</th>\n",
       "      <th>HP</th>\n",
       "      <th>Attack</th>\n",
       "      <th>Defense</th>\n",
       "      <th>Sp._Atk</th>\n",
       "      <th>Sp._Def</th>\n",
       "      <th>Speed</th>\n",
       "      <th>Legendary</th>\n",
       "    </tr>\n",
       "  </thead>\n",
       "  <tbody>\n",
       "    <tr>\n",
       "      <th>19</th>\n",
       "      <td>Mega Beedrill</td>\n",
       "      <td>Bug</td>\n",
       "      <td>Poison</td>\n",
       "      <td>65</td>\n",
       "      <td>150</td>\n",
       "      <td>40</td>\n",
       "      <td>15</td>\n",
       "      <td>80</td>\n",
       "      <td>145</td>\n",
       "      <td>False</td>\n",
       "    </tr>\n",
       "    <tr>\n",
       "      <th>71</th>\n",
       "      <td>Mega Alakazam</td>\n",
       "      <td>Psychic</td>\n",
       "      <td>NaN</td>\n",
       "      <td>55</td>\n",
       "      <td>50</td>\n",
       "      <td>65</td>\n",
       "      <td>175</td>\n",
       "      <td>95</td>\n",
       "      <td>150</td>\n",
       "      <td>False</td>\n",
       "    </tr>\n",
       "    <tr>\n",
       "      <th>428</th>\n",
       "      <td>Deoxys Normal Forme</td>\n",
       "      <td>Psychic</td>\n",
       "      <td>NaN</td>\n",
       "      <td>50</td>\n",
       "      <td>150</td>\n",
       "      <td>50</td>\n",
       "      <td>150</td>\n",
       "      <td>50</td>\n",
       "      <td>150</td>\n",
       "      <td>True</td>\n",
       "    </tr>\n",
       "    <tr>\n",
       "      <th>476</th>\n",
       "      <td>Mega Lopunny</td>\n",
       "      <td>Normal</td>\n",
       "      <td>Fighting</td>\n",
       "      <td>65</td>\n",
       "      <td>136</td>\n",
       "      <td>94</td>\n",
       "      <td>54</td>\n",
       "      <td>96</td>\n",
       "      <td>135</td>\n",
       "      <td>False</td>\n",
       "    </tr>\n",
       "  </tbody>\n",
       "</table>\n",
       "</div>"
      ],
      "text/plain": [
       "                    Name  Class_1   Class_2  HP  Attack  Defense  Sp._Atk  \\\n",
       "19         Mega Beedrill      Bug    Poison  65     150       40       15   \n",
       "71         Mega Alakazam  Psychic       NaN  55      50       65      175   \n",
       "428  Deoxys Normal Forme  Psychic       NaN  50     150       50      150   \n",
       "476         Mega Lopunny   Normal  Fighting  65     136       94       54   \n",
       "\n",
       "     Sp._Def  Speed  Legendary  \n",
       "19        80    145      False  \n",
       "71        95    150      False  \n",
       "428       50    150       True  \n",
       "476       96    135      False  "
      ]
     },
     "execution_count": 31,
     "metadata": {},
     "output_type": "execute_result"
    }
   ],
   "source": [
    "treathed_pokemon_t = pokemon.query(\"Name == ['Mega Beedrill','Mega Alakazam', 'Deoxys Normal Forme', 'Mega Lopunny']\")\n",
    "treathed_pokemon_t.head()"
   ]
  },
  {
   "cell_type": "code",
   "execution_count": 32,
   "id": "0bcee25e",
   "metadata": {},
   "outputs": [
    {
     "data": {
      "text/html": [
       "<div>\n",
       "<style scoped>\n",
       "    .dataframe tbody tr th:only-of-type {\n",
       "        vertical-align: middle;\n",
       "    }\n",
       "\n",
       "    .dataframe tbody tr th {\n",
       "        vertical-align: top;\n",
       "    }\n",
       "\n",
       "    .dataframe thead th {\n",
       "        text-align: right;\n",
       "    }\n",
       "</style>\n",
       "<table border=\"1\" class=\"dataframe\">\n",
       "  <thead>\n",
       "    <tr style=\"text-align: right;\">\n",
       "      <th></th>\n",
       "      <th>Name</th>\n",
       "      <th>Class_1</th>\n",
       "      <th>Class_2</th>\n",
       "      <th>HP</th>\n",
       "      <th>Attack</th>\n",
       "      <th>Defense</th>\n",
       "      <th>Sp._Atk</th>\n",
       "      <th>Sp._Def</th>\n",
       "      <th>Speed</th>\n",
       "      <th>Legendary</th>\n",
       "    </tr>\n",
       "  </thead>\n",
       "  <tbody>\n",
       "    <tr>\n",
       "      <th>431</th>\n",
       "      <td>Deoxys Speed Forme</td>\n",
       "      <td>Psychic</td>\n",
       "      <td>NaN</td>\n",
       "      <td>50</td>\n",
       "      <td>95</td>\n",
       "      <td>90</td>\n",
       "      <td>95</td>\n",
       "      <td>90</td>\n",
       "      <td>180</td>\n",
       "      <td>True</td>\n",
       "    </tr>\n",
       "    <tr>\n",
       "      <th>475</th>\n",
       "      <td>Lopunny</td>\n",
       "      <td>Normal</td>\n",
       "      <td>NaN</td>\n",
       "      <td>65</td>\n",
       "      <td>76</td>\n",
       "      <td>84</td>\n",
       "      <td>54</td>\n",
       "      <td>96</td>\n",
       "      <td>105</td>\n",
       "      <td>False</td>\n",
       "    </tr>\n",
       "    <tr>\n",
       "      <th>429</th>\n",
       "      <td>DeoxysAttack Forme</td>\n",
       "      <td>Psychic</td>\n",
       "      <td>NaN</td>\n",
       "      <td>50</td>\n",
       "      <td>180</td>\n",
       "      <td>20</td>\n",
       "      <td>180</td>\n",
       "      <td>20</td>\n",
       "      <td>150</td>\n",
       "      <td>True</td>\n",
       "    </tr>\n",
       "    <tr>\n",
       "      <th>70</th>\n",
       "      <td>Alakazam</td>\n",
       "      <td>Psychic</td>\n",
       "      <td>NaN</td>\n",
       "      <td>55</td>\n",
       "      <td>50</td>\n",
       "      <td>45</td>\n",
       "      <td>135</td>\n",
       "      <td>95</td>\n",
       "      <td>120</td>\n",
       "      <td>False</td>\n",
       "    </tr>\n",
       "  </tbody>\n",
       "</table>\n",
       "</div>"
      ],
      "text/plain": [
       "                   Name  Class_1 Class_2  HP  Attack  Defense  Sp._Atk  \\\n",
       "431  Deoxys Speed Forme  Psychic     NaN  50      95       90       95   \n",
       "475             Lopunny   Normal     NaN  65      76       84       54   \n",
       "429  DeoxysAttack Forme  Psychic     NaN  50     180       20      180   \n",
       "70             Alakazam  Psychic     NaN  55      50       45      135   \n",
       "\n",
       "     Sp._Def  Speed  Legendary  \n",
       "431       90    180       True  \n",
       "475       96    105      False  \n",
       "429       20    150       True  \n",
       "70        95    120      False  "
      ]
     },
     "execution_count": 32,
     "metadata": {},
     "output_type": "execute_result"
    }
   ],
   "source": [
    "treathed_pokemon_c = pokemon.loc[ (pokemon.Name.str.contains('Beedrill|Alakazam|Deoxys|Lopunny', case=False) == True) & \\\n",
    "                                  (pokemon.Name.str.contains('Mega', case=False) == False) & \\\n",
    "                                  (pokemon.Name.str.contains('Deoxys Normal Forme', case=False) == False) ].sample(n=4)\n",
    "treathed_pokemon_c"
   ]
  },
  {
   "cell_type": "code",
   "execution_count": 33,
   "id": "89c98cef",
   "metadata": {},
   "outputs": [
    {
     "name": "stdout",
     "output_type": "stream",
     "text": [
      "Статистика= 22.1250, p=  0.0151\n",
      "Отклоняем нулевую гипотезу, дисперссии, вероятно, различаются\n"
     ]
    }
   ],
   "source": [
    "# Смотрим зависимость 2 групп\n",
    "\n",
    "stat, p = f_test(treathed_pokemon_c.Speed, treathed_pokemon_t.Speed)\n",
    "                                             \n",
    "print(f'Статистика= {stat:.4f}, p= {p: .4f}')\n",
    "      \n",
    "# H0 : (нулевая гипотеза) Две переменные независимы.\n",
    "# H1 : (альтернативная гипотеза) Две переменные не являются независимыми.\n",
    "    \n",
    "    \n",
    "if p > 0.05:\n",
    "    print('Не отклоняем нулевую гипотезу, дисперссии, вероятно, одинаковые' )\n",
    "else:\n",
    "    print('Отклоняем нулевую гипотезу, дисперссии, вероятно, различаются' )"
   ]
  },
  {
   "cell_type": "code",
   "execution_count": 34,
   "id": "8eb00f54",
   "metadata": {},
   "outputs": [
    {
     "name": "stdout",
     "output_type": "stream",
     "text": [
      "Статистика= -0.3676, p=  0.7357\n",
      "Не отклоняем нулевую гипотезу, средние, вероятно, одинаковые \n"
     ]
    }
   ],
   "source": [
    "# Поскольку группы не является независимыми, используем тест Уэлча\n",
    "\n",
    "stat, p = st.ttest_ind(treathed_pokemon_c.Speed, treathed_pokemon_t.Speed, equal_var=False)\n",
    "\n",
    "print (f'Статистика= {stat: .4f}, p= {p: .4f}')\n",
    "\n",
    "if p > 0.05:\n",
    "    print('Не отклоняем нулевую гипотезу, средние, вероятно, одинаковые ' )\n",
    "else:\n",
    "    print('Отклоняем нулевую гипотезу, средние, вероятно, различаются' )"
   ]
  },
  {
   "cell_type": "code",
   "execution_count": 35,
   "id": "dbfe5885",
   "metadata": {},
   "outputs": [
    {
     "name": "stdout",
     "output_type": "stream",
     "text": [
      "Статистика=  0.3758, p=  0.7321\n",
      "Не отклоняем нулевую гипотезу, образцы, вероятно, равны \n"
     ]
    }
   ],
   "source": [
    "# перепроверим на T-критерии Стьюдента при парных выборок\n",
    "\n",
    "stat, p = st.ttest_rel(treathed_pokemon_t.Speed,treathed_pokemon_c.Speed)\n",
    "\n",
    "print (f'Статистика= {stat: .4f}, p= {p: .4f}')\n",
    "\n",
    "# H0 : (нулевая гипотеза) Средства образцов равны.\n",
    "# H1 : (альтернативная гипотеза) Средства образцов не равны.\n",
    "    \n",
    "\n",
    "if p > 0.05:\n",
    "    print('Не отклоняем нулевую гипотезу, образцы, вероятно, равны ' )\n",
    "else:\n",
    "    print('Отклоняем нулевую гипотезу, образцы, вероятно, не равны' )"
   ]
  },
  {
   "cell_type": "markdown",
   "id": "faf8f83b",
   "metadata": {},
   "source": [
    "Вывод: Наше значение р больше альфы, поэтому мы не отвергаем нулевую гипотезу о том, что при введении сыворотки покемонам их скорость станет выше"
   ]
  },
  {
   "cell_type": "markdown",
   "id": "a077b59c",
   "metadata": {},
   "source": [
    "### Задание 4\n",
    "Профессор Оук всегда любил истории про легендарных покемонов. Однако профессор не очень уверен, что они лучше остальных покемонов. Оук предложил разобраться в этом нам. Проверьте, действительно ли сумма характеристик HP,Attack,Defense у легендарных покемонов выше, чем у других покемонов?\n",
    "\n",
    "А произведение этих же параметров?\n",
    "Найдите ответы на эти вопросы и убедите всех в своём выводе статистически.\n",
    "\n",
    "Вы можете предположить, что распределение сум и произведений этих параметров является нормальным для всех классов покемонов."
   ]
  },
  {
   "cell_type": "code",
   "execution_count": 36,
   "id": "0e461dc9",
   "metadata": {},
   "outputs": [
    {
     "data": {
      "text/html": [
       "<div>\n",
       "<style scoped>\n",
       "    .dataframe tbody tr th:only-of-type {\n",
       "        vertical-align: middle;\n",
       "    }\n",
       "\n",
       "    .dataframe tbody tr th {\n",
       "        vertical-align: top;\n",
       "    }\n",
       "\n",
       "    .dataframe thead th {\n",
       "        text-align: right;\n",
       "    }\n",
       "</style>\n",
       "<table border=\"1\" class=\"dataframe\">\n",
       "  <thead>\n",
       "    <tr style=\"text-align: right;\">\n",
       "      <th></th>\n",
       "      <th>Name</th>\n",
       "      <th>Class_1</th>\n",
       "      <th>Class_2</th>\n",
       "      <th>HP</th>\n",
       "      <th>Attack</th>\n",
       "      <th>Defense</th>\n",
       "      <th>Sp._Atk</th>\n",
       "      <th>Sp._Def</th>\n",
       "      <th>Speed</th>\n",
       "      <th>Legendary</th>\n",
       "    </tr>\n",
       "  </thead>\n",
       "  <tbody>\n",
       "    <tr>\n",
       "      <th>156</th>\n",
       "      <td>Articuno</td>\n",
       "      <td>Ice</td>\n",
       "      <td>Flying</td>\n",
       "      <td>90</td>\n",
       "      <td>85</td>\n",
       "      <td>100</td>\n",
       "      <td>95</td>\n",
       "      <td>125</td>\n",
       "      <td>85</td>\n",
       "      <td>True</td>\n",
       "    </tr>\n",
       "    <tr>\n",
       "      <th>157</th>\n",
       "      <td>Zapdos</td>\n",
       "      <td>Electric</td>\n",
       "      <td>Flying</td>\n",
       "      <td>90</td>\n",
       "      <td>90</td>\n",
       "      <td>85</td>\n",
       "      <td>125</td>\n",
       "      <td>90</td>\n",
       "      <td>100</td>\n",
       "      <td>True</td>\n",
       "    </tr>\n",
       "    <tr>\n",
       "      <th>158</th>\n",
       "      <td>Moltres</td>\n",
       "      <td>Fire</td>\n",
       "      <td>Flying</td>\n",
       "      <td>90</td>\n",
       "      <td>100</td>\n",
       "      <td>90</td>\n",
       "      <td>125</td>\n",
       "      <td>85</td>\n",
       "      <td>90</td>\n",
       "      <td>True</td>\n",
       "    </tr>\n",
       "    <tr>\n",
       "      <th>162</th>\n",
       "      <td>Mewtwo</td>\n",
       "      <td>Psychic</td>\n",
       "      <td>NaN</td>\n",
       "      <td>106</td>\n",
       "      <td>110</td>\n",
       "      <td>90</td>\n",
       "      <td>154</td>\n",
       "      <td>90</td>\n",
       "      <td>130</td>\n",
       "      <td>True</td>\n",
       "    </tr>\n",
       "    <tr>\n",
       "      <th>163</th>\n",
       "      <td>Mega Mewtwo X</td>\n",
       "      <td>Psychic</td>\n",
       "      <td>Fighting</td>\n",
       "      <td>106</td>\n",
       "      <td>190</td>\n",
       "      <td>100</td>\n",
       "      <td>154</td>\n",
       "      <td>100</td>\n",
       "      <td>130</td>\n",
       "      <td>True</td>\n",
       "    </tr>\n",
       "  </tbody>\n",
       "</table>\n",
       "</div>"
      ],
      "text/plain": [
       "              Name   Class_1   Class_2   HP  Attack  Defense  Sp._Atk  \\\n",
       "156       Articuno       Ice    Flying   90      85      100       95   \n",
       "157         Zapdos  Electric    Flying   90      90       85      125   \n",
       "158        Moltres      Fire    Flying   90     100       90      125   \n",
       "162         Mewtwo   Psychic       NaN  106     110       90      154   \n",
       "163  Mega Mewtwo X   Psychic  Fighting  106     190      100      154   \n",
       "\n",
       "     Sp._Def  Speed  Legendary  \n",
       "156      125     85       True  \n",
       "157       90    100       True  \n",
       "158       85     90       True  \n",
       "162       90    130       True  \n",
       "163      100    130       True  "
      ]
     },
     "execution_count": 36,
     "metadata": {},
     "output_type": "execute_result"
    }
   ],
   "source": [
    "poke_lega = pokemon.query(\"Legendary == True\")\n",
    "poke_lega.head()"
   ]
  },
  {
   "cell_type": "code",
   "execution_count": 37,
   "id": "d4c7972c",
   "metadata": {},
   "outputs": [
    {
     "data": {
      "text/html": [
       "<div>\n",
       "<style scoped>\n",
       "    .dataframe tbody tr th:only-of-type {\n",
       "        vertical-align: middle;\n",
       "    }\n",
       "\n",
       "    .dataframe tbody tr th {\n",
       "        vertical-align: top;\n",
       "    }\n",
       "\n",
       "    .dataframe thead th {\n",
       "        text-align: right;\n",
       "    }\n",
       "</style>\n",
       "<table border=\"1\" class=\"dataframe\">\n",
       "  <thead>\n",
       "    <tr style=\"text-align: right;\">\n",
       "      <th></th>\n",
       "      <th>Name</th>\n",
       "      <th>Class_1</th>\n",
       "      <th>Class_2</th>\n",
       "      <th>HP</th>\n",
       "      <th>Attack</th>\n",
       "      <th>Defense</th>\n",
       "      <th>Sp._Atk</th>\n",
       "      <th>Sp._Def</th>\n",
       "      <th>Speed</th>\n",
       "      <th>Legendary</th>\n",
       "    </tr>\n",
       "  </thead>\n",
       "  <tbody>\n",
       "    <tr>\n",
       "      <th>740</th>\n",
       "      <td>Skiddo</td>\n",
       "      <td>Grass</td>\n",
       "      <td>NaN</td>\n",
       "      <td>66</td>\n",
       "      <td>65</td>\n",
       "      <td>48</td>\n",
       "      <td>62</td>\n",
       "      <td>57</td>\n",
       "      <td>52</td>\n",
       "      <td>False</td>\n",
       "    </tr>\n",
       "    <tr>\n",
       "      <th>533</th>\n",
       "      <td>Wash Rotom</td>\n",
       "      <td>Electric</td>\n",
       "      <td>Water</td>\n",
       "      <td>50</td>\n",
       "      <td>65</td>\n",
       "      <td>107</td>\n",
       "      <td>105</td>\n",
       "      <td>107</td>\n",
       "      <td>86</td>\n",
       "      <td>False</td>\n",
       "    </tr>\n",
       "    <tr>\n",
       "      <th>296</th>\n",
       "      <td>Seedot</td>\n",
       "      <td>Grass</td>\n",
       "      <td>NaN</td>\n",
       "      <td>40</td>\n",
       "      <td>40</td>\n",
       "      <td>50</td>\n",
       "      <td>30</td>\n",
       "      <td>30</td>\n",
       "      <td>30</td>\n",
       "      <td>False</td>\n",
       "    </tr>\n",
       "    <tr>\n",
       "      <th>510</th>\n",
       "      <td>Abomasnow</td>\n",
       "      <td>Grass</td>\n",
       "      <td>Ice</td>\n",
       "      <td>90</td>\n",
       "      <td>92</td>\n",
       "      <td>75</td>\n",
       "      <td>92</td>\n",
       "      <td>85</td>\n",
       "      <td>60</td>\n",
       "      <td>False</td>\n",
       "    </tr>\n",
       "    <tr>\n",
       "      <th>566</th>\n",
       "      <td>Herdier</td>\n",
       "      <td>Normal</td>\n",
       "      <td>NaN</td>\n",
       "      <td>65</td>\n",
       "      <td>80</td>\n",
       "      <td>65</td>\n",
       "      <td>35</td>\n",
       "      <td>65</td>\n",
       "      <td>60</td>\n",
       "      <td>False</td>\n",
       "    </tr>\n",
       "  </tbody>\n",
       "</table>\n",
       "</div>"
      ],
      "text/plain": [
       "           Name   Class_1 Class_2  HP  Attack  Defense  Sp._Atk  Sp._Def  \\\n",
       "740      Skiddo     Grass     NaN  66      65       48       62       57   \n",
       "533  Wash Rotom  Electric   Water  50      65      107      105      107   \n",
       "296      Seedot     Grass     NaN  40      40       50       30       30   \n",
       "510   Abomasnow     Grass     Ice  90      92       75       92       85   \n",
       "566     Herdier    Normal     NaN  65      80       65       35       65   \n",
       "\n",
       "     Speed  Legendary  \n",
       "740     52      False  \n",
       "533     86      False  \n",
       "296     30      False  \n",
       "510     60      False  \n",
       "566     60      False  "
      ]
     },
     "execution_count": 37,
     "metadata": {},
     "output_type": "execute_result"
    }
   ],
   "source": [
    "poke_norm = pokemon.query(\"Legendary != True\").sample(n=65, random_state=17)\n",
    "poke_norm.head()"
   ]
  },
  {
   "cell_type": "code",
   "execution_count": 38,
   "id": "e025a5ea",
   "metadata": {},
   "outputs": [
    {
     "data": {
      "text/plain": [
       "(65, 65)"
      ]
     },
     "execution_count": 38,
     "metadata": {},
     "output_type": "execute_result"
    }
   ],
   "source": [
    "# Чтобы получить ответ на вопрос професора нужно, чтобы размер выборки был равен\n",
    "\n",
    "poke_lega.shape[0], poke_norm.shape[0]"
   ]
  },
  {
   "cell_type": "code",
   "execution_count": 39,
   "id": "7af2494a",
   "metadata": {},
   "outputs": [],
   "source": [
    "# Проверим различие выборки между собой с помощью F-теста\n",
    "\n",
    "def f_test(group1, group2):\n",
    "    f = np.var(group1, ddof=1)/np.var(group2, ddof=1)\n",
    "    nun = group1.size - 1\n",
    "    dun = group2.size - 1\n",
    "    p_value = 1 - st.f.cdf(f, nun, dun)\n",
    "    return f, p_value"
   ]
  },
  {
   "cell_type": "code",
   "execution_count": 40,
   "id": "ac699f9e",
   "metadata": {},
   "outputs": [],
   "source": [
    "characteristics = ['HP', 'Attack', 'Defense']"
   ]
  },
  {
   "cell_type": "code",
   "execution_count": 41,
   "id": "46a722b0",
   "metadata": {},
   "outputs": [
    {
     "name": "stdout",
     "output_type": "stream",
     "text": [
      "Статистика= 1.3875, p=  0.0964\n",
      "Не отклоняем нулевую гипотезу, дисперссии HP, вероятно, одинаковы или независимы\n",
      "Статистика= 1.2720, p=  0.1691\n",
      "Не отклоняем нулевую гипотезу, дисперссии Attack, вероятно, одинаковы или независимы\n",
      "Статистика= 1.2732, p=  0.1682\n",
      "Не отклоняем нулевую гипотезу, дисперссии Defense, вероятно, одинаковы или независимы\n"
     ]
    }
   ],
   "source": [
    "for char in characteristics:\n",
    "    \n",
    "    stat, p = f_test(poke_lega[char], poke_norm[char])\n",
    "\n",
    "    print(f'Статистика= {stat:.4f}, p= {p: .4f}')\n",
    "\n",
    "    # H0 : (нулевая гипотеза) Две переменные независимы.\n",
    "    # H1 : (альтернативная гипотеза) Две переменные не являются независимыми.\n",
    "\n",
    "    if p > 0.05:\n",
    "        print(f'Не отклоняем нулевую гипотезу, дисперссии {char}, вероятно, одинаковы или независимы' )\n",
    "    else:\n",
    "        print(f'Отклоняем нулевую гипотезу, дисперссии {char}, вероятно, различаются или не являются независимыми' )"
   ]
  },
  {
   "cell_type": "code",
   "execution_count": 42,
   "id": "33c1e564",
   "metadata": {},
   "outputs": [
    {
     "name": "stdout",
     "output_type": "stream",
     "text": [
      "True\n"
     ]
    }
   ],
   "source": [
    "# Сумма всех характеристик больше у легендарных героев\n",
    "\n",
    "list_w_char = []\n",
    "list_w_char_lega = []\n",
    "\n",
    "for char in characteristics:\n",
    "    list_w_char.append(poke_norm[char].sum())\n",
    "    list_w_char_lega.append(poke_lega[char].sum())\n",
    "    \n",
    "print(sum(list_w_char_lega) > sum(list_w_char))"
   ]
  },
  {
   "cell_type": "code",
   "execution_count": 43,
   "id": "ceb268ac",
   "metadata": {},
   "outputs": [
    {
     "name": "stdout",
     "output_type": "stream",
     "text": [
      "True\n"
     ]
    }
   ],
   "source": [
    "# Произведение также больше у легендарных героев\n",
    "\n",
    "from functools import reduce\n",
    "\n",
    "\n",
    "list_w_char = []\n",
    "list_w_char_lega = []\n",
    "\n",
    "for char in characteristics:\n",
    "    prod_lega = reduce(lambda a, b : a * b, poke_lega[char])\n",
    "    prod_norm = reduce(lambda a, b : a * b, poke_norm[char])\n",
    "    list_w_char_lega.append(prod_lega)\n",
    "    list_w_char.append(prod_norm)\n",
    "    \n",
    "print(reduce(lambda a, b : a * b, list_w_char_lega) > reduce(lambda a, b : a * b, list_w_char))"
   ]
  },
  {
   "cell_type": "code",
   "execution_count": 44,
   "id": "92bba393",
   "metadata": {},
   "outputs": [
    {
     "name": "stdout",
     "output_type": "stream",
     "text": [
      "Статистика=  2.1509, p=  0.0326\n",
      "Отклоняем нулевую гипотезу, средние, вероятно, различаются\n"
     ]
    }
   ],
   "source": [
    "# Поскольку группы независимы, используем тест Стьюдента\n",
    "\n",
    "stat, p = st.ttest_ind(poke_normal.Speed, poke_water.Speed, equal_var=True)\n",
    "\n",
    "print (f'Статистика= {stat: .4f}, p= {p: .4f}')\n",
    "\n",
    "if p > 0.05:\n",
    "    print('Не отклоняем нулевую гипотезу, средние, вероятно, одинаковые ' )\n",
    "else:\n",
    "    print('Отклоняем нулевую гипотезу, средние, вероятно, различаются' )"
   ]
  },
  {
   "cell_type": "code",
   "execution_count": 45,
   "id": "d3f0492c",
   "metadata": {
    "scrolled": false
   },
   "outputs": [
    {
     "data": {
      "image/png": "[encoded data removed]",
      "text/plain": [
       "<Figure size 500x300 with 1 Axes>"
      ]
     },
     "metadata": {},
     "output_type": "display_data"
    },
    {
     "data": {
      "image/png": "[encoded data removed]",
      "text/plain": [
       "<Figure size 500x300 with 1 Axes>"
      ]
     },
     "metadata": {},
     "output_type": "display_data"
    },
    {
     "data": {
      "image/png": "[encoded data removed]",
      "text/plain": [
       "<Figure size 500x300 with 1 Axes>"
      ]
     },
     "metadata": {},
     "output_type": "display_data"
    }
   ],
   "source": [
    "# Визуализируем данные. Легендарные герои имеют показатели характеристик больше чем у обыных героев\n",
    "\n",
    "for char in characteristics:\n",
    "    plt.figure(figsize=(5, 3))\n",
    "    \n",
    "    poke_lega[char].plot(kind='density')\n",
    "    poke_norm[char].plot(kind='density')\n",
    "    \n",
    "    plt.title(f'Характеристики героев по {str(char)}')\n",
    "    plt.xlabel(char)\n",
    "    plt.legend(['lega','normal'])\n",
    "    plt.show()"
   ]
  },
  {
   "cell_type": "markdown",
   "id": "3fb1ded0",
   "metadata": {},
   "source": [
    "Вывод: Наше значение р близко к альфе, поэтому мы отвергаем нулевую гипотезу о том, что средние значения двух выборок одинаковые. То есть существует статистически значимая разница между Легендарным героем и обычным"
   ]
  },
  {
   "cell_type": "markdown",
   "id": "5ac78a35",
   "metadata": {},
   "source": [
    "### Задание 5\n",
    "Профессор Оук частенько наблюдает за боями покемонов. После очередных таких боёв Оук выделил четыре класса best_defence_class, которые на его взгляд одинаковы по “силе обычной защиты” Defense.\n",
    "Проверьте, действительно ли эти классы покемонов не отличаются по уровню защиты статистически значимо? Всё та же статистика вам в помощь!\n",
    "\n",
    "Вы можете предположить, что распределение параметров защитных характеристик является нормальным для всех классов покемонов."
   ]
  },
  {
   "cell_type": "code",
   "execution_count": 46,
   "id": "12cbaf94",
   "metadata": {},
   "outputs": [],
   "source": [
    "best_defence_class = ['Rock', 'Ground', 'Steel', 'Ice']"
   ]
  },
  {
   "cell_type": "code",
   "execution_count": 47,
   "id": "105a888e",
   "metadata": {},
   "outputs": [
    {
     "data": {
      "text/plain": [
       "41"
      ]
     },
     "execution_count": 47,
     "metadata": {},
     "output_type": "execute_result"
    }
   ],
   "source": [
    "poke_best_def_rock = pokemon.query(\"Class_1 == 'Rock' & Class_2 != ['Ground', 'Steel', 'Ice']\\\n",
    "                                  | Class_2 == 'Rock' & Class_1 != ['Ground', 'Steel', 'Ice']\")\n",
    "len(poke_best_def_rock)"
   ]
  },
  {
   "cell_type": "code",
   "execution_count": 48,
   "id": "dde76609",
   "metadata": {},
   "outputs": [
    {
     "data": {
      "text/plain": [
       "52"
      ]
     },
     "execution_count": 48,
     "metadata": {},
     "output_type": "execute_result"
    }
   ],
   "source": [
    "poke_best_def_ground = pokemon.query(\"Class_1 == 'Ground' & Class_2 != ['Rock', 'Steel', 'Ice']\\\n",
    "                                    | Class_2 == 'Ground' & Class_1 != ['Rock', 'Steel', 'Ice']\")\n",
    "len(poke_best_def_ground)"
   ]
  },
  {
   "cell_type": "code",
   "execution_count": 49,
   "id": "ab5b8edc",
   "metadata": {},
   "outputs": [
    {
     "data": {
      "text/plain": [
       "40"
      ]
     },
     "execution_count": 49,
     "metadata": {},
     "output_type": "execute_result"
    }
   ],
   "source": [
    "poke_best_def_steel = pokemon.query(\"Class_1 == 'Steel' & Class_2 != ['Rock', 'Ground', 'Ice']\\\n",
    "                                   | Class_2 == 'Steel' & Class_1 != ['Rock', 'Ground', 'Ice']\")\n",
    "len(poke_best_def_steel)"
   ]
  },
  {
   "cell_type": "code",
   "execution_count": 50,
   "id": "1cf5cb00",
   "metadata": {},
   "outputs": [
    {
     "data": {
      "text/plain": [
       "33"
      ]
     },
     "execution_count": 50,
     "metadata": {},
     "output_type": "execute_result"
    }
   ],
   "source": [
    "poke_best_def_ice = pokemon.query(\"Class_1 == 'Ice' & Class_2 != ['Rock', 'Ground', 'Steel']\\\n",
    "                                 | Class_2 == 'Ice' & Class_1 != ['Rock', 'Ground', 'Steel']\")\n",
    "len(poke_best_def_ice)"
   ]
  },
  {
   "cell_type": "code",
   "execution_count": 51,
   "id": "3a4f2a49",
   "metadata": {},
   "outputs": [
    {
     "data": {
      "text/plain": [
       "4"
      ]
     },
     "execution_count": 51,
     "metadata": {},
     "output_type": "execute_result"
    }
   ],
   "source": [
    "n_poke_ = []\n",
    "n_poke_.append(poke_best_def_ice)\n",
    "n_poke_.append(poke_best_def_steel)\n",
    "n_poke_.append(poke_best_def_ground)\n",
    "n_poke_.append(poke_best_def_rock)\n",
    "\n",
    "len(n_poke_)"
   ]
  },
  {
   "cell_type": "code",
   "execution_count": 52,
   "id": "ab0c1822",
   "metadata": {},
   "outputs": [
    {
     "data": {
      "text/html": [
       "<div>\n",
       "<style scoped>\n",
       "    .dataframe tbody tr th:only-of-type {\n",
       "        vertical-align: middle;\n",
       "    }\n",
       "\n",
       "    .dataframe tbody tr th {\n",
       "        vertical-align: top;\n",
       "    }\n",
       "\n",
       "    .dataframe thead th {\n",
       "        text-align: right;\n",
       "    }\n",
       "</style>\n",
       "<table border=\"1\" class=\"dataframe\">\n",
       "  <thead>\n",
       "    <tr style=\"text-align: right;\">\n",
       "      <th></th>\n",
       "      <th>Name</th>\n",
       "      <th>Class_1</th>\n",
       "      <th>Class_2</th>\n",
       "      <th>HP</th>\n",
       "      <th>Attack</th>\n",
       "      <th>Defense</th>\n",
       "      <th>Sp._Atk</th>\n",
       "      <th>Sp._Def</th>\n",
       "      <th>Speed</th>\n",
       "      <th>Legendary</th>\n",
       "    </tr>\n",
       "  </thead>\n",
       "  <tbody>\n",
       "    <tr>\n",
       "      <th>94</th>\n",
       "      <td>Dewgong</td>\n",
       "      <td>Water</td>\n",
       "      <td>Ice</td>\n",
       "      <td>90</td>\n",
       "      <td>70</td>\n",
       "      <td>80</td>\n",
       "      <td>70</td>\n",
       "      <td>95</td>\n",
       "      <td>70</td>\n",
       "      <td>False</td>\n",
       "    </tr>\n",
       "    <tr>\n",
       "      <th>98</th>\n",
       "      <td>Cloyster</td>\n",
       "      <td>Water</td>\n",
       "      <td>Ice</td>\n",
       "      <td>50</td>\n",
       "      <td>95</td>\n",
       "      <td>180</td>\n",
       "      <td>85</td>\n",
       "      <td>45</td>\n",
       "      <td>70</td>\n",
       "      <td>False</td>\n",
       "    </tr>\n",
       "    <tr>\n",
       "      <th>133</th>\n",
       "      <td>Jynx</td>\n",
       "      <td>Ice</td>\n",
       "      <td>Psychic</td>\n",
       "      <td>65</td>\n",
       "      <td>50</td>\n",
       "      <td>35</td>\n",
       "      <td>115</td>\n",
       "      <td>95</td>\n",
       "      <td>95</td>\n",
       "      <td>False</td>\n",
       "    </tr>\n",
       "    <tr>\n",
       "      <th>142</th>\n",
       "      <td>Lapras</td>\n",
       "      <td>Water</td>\n",
       "      <td>Ice</td>\n",
       "      <td>130</td>\n",
       "      <td>85</td>\n",
       "      <td>80</td>\n",
       "      <td>85</td>\n",
       "      <td>95</td>\n",
       "      <td>60</td>\n",
       "      <td>False</td>\n",
       "    </tr>\n",
       "    <tr>\n",
       "      <th>156</th>\n",
       "      <td>Articuno</td>\n",
       "      <td>Ice</td>\n",
       "      <td>Flying</td>\n",
       "      <td>90</td>\n",
       "      <td>85</td>\n",
       "      <td>100</td>\n",
       "      <td>95</td>\n",
       "      <td>125</td>\n",
       "      <td>85</td>\n",
       "      <td>True</td>\n",
       "    </tr>\n",
       "  </tbody>\n",
       "</table>\n",
       "</div>"
      ],
      "text/plain": [
       "         Name Class_1  Class_2   HP  Attack  Defense  Sp._Atk  Sp._Def  Speed  \\\n",
       "94    Dewgong   Water      Ice   90      70       80       70       95     70   \n",
       "98   Cloyster   Water      Ice   50      95      180       85       45     70   \n",
       "133      Jynx     Ice  Psychic   65      50       35      115       95     95   \n",
       "142    Lapras   Water      Ice  130      85       80       85       95     60   \n",
       "156  Articuno     Ice   Flying   90      85      100       95      125     85   \n",
       "\n",
       "     Legendary  \n",
       "94       False  \n",
       "98       False  \n",
       "133      False  \n",
       "142      False  \n",
       "156       True  "
      ]
     },
     "execution_count": 52,
     "metadata": {},
     "output_type": "execute_result"
    }
   ],
   "source": [
    "# Мы отсортировали ДФ по нужным классам и объединили в один ДФ\n",
    "\n",
    "n_poke_f_anova = pd.concat(n_poke_)\n",
    "n_poke_f_anova.head()"
   ]
  },
  {
   "cell_type": "code",
   "execution_count": 53,
   "id": "b35493a3",
   "metadata": {},
   "outputs": [
    {
     "name": "stdout",
     "output_type": "stream",
     "text": [
      "Статистика=  8.8204, p=  0.0000\n",
      "Отклоняем нулевую гипотезу, группы не равны\n"
     ]
    }
   ],
   "source": [
    "# Групп больше 3, используем тест ANOVA - однофакторный дисперсионный анализ\n",
    "\n",
    "stat, p = st.f_oneway(poke_best_def_ground.Defense, poke_best_def_ice.Defense\\\n",
    "                    , poke_best_def_rock.Defense, poke_best_def_steel.Defense)\n",
    "\n",
    "print (f'Статистика= {stat: .4f}, p= {p: .4f}')\n",
    "\n",
    "# H0 : (нулевая гипотеза) Группы равны.\n",
    "# H1 : (альтернативная гипотеза) Группы не равны.\n",
    "\n",
    "\n",
    "if p > 0.05:\n",
    "    print('Не отклоняем нулевую гипотезу, группы равны ' )\n",
    "else:\n",
    "    print('Отклоняем нулевую гипотезу, группы не равны' )"
   ]
  },
  {
   "cell_type": "markdown",
   "id": "812e9a53",
   "metadata": {},
   "source": [
    "Вывод: Наше значение р близко к нулю, поэтому мы отвергаем нулевую гипотезу о том, что \"сила обычной атаки\" у групп 'Rock', 'Ground', 'Steel', 'Ice' одинаковые. То есть существует статистически значимая разница между группой\\группами "
   ]
  },
  {
   "cell_type": "code",
   "execution_count": 54,
   "id": "0f1487ff",
   "metadata": {},
   "outputs": [
    {
     "data": {
      "image/png": "[encoded data removed]",
      "text/plain": [
       "<Figure size 300x200 with 1 Axes>"
      ]
     },
     "metadata": {},
     "output_type": "display_data"
    },
    {
     "data": {
      "image/png": "[encoded data removed]",
      "text/plain": [
       "<Figure size 300x200 with 1 Axes>"
      ]
     },
     "metadata": {},
     "output_type": "display_data"
    },
    {
     "data": {
      "image/png": "[encoded data removed]",
      "text/plain": [
       "<Figure size 300x200 with 1 Axes>"
      ]
     },
     "metadata": {},
     "output_type": "display_data"
    },
    {
     "data": {
      "image/png": "[encoded data removed]",
      "text/plain": [
       "<Figure size 300x200 with 1 Axes>"
      ]
     },
     "metadata": {},
     "output_type": "display_data"
    }
   ],
   "source": [
    "for poke in n_poke_:\n",
    "    plt.figure(figsize=(3,2))\n",
    "    poke.Defense.hist(bins=20)\n",
    "    plt.show()"
   ]
  }
 ],
 "metadata": {
  "kernelspec": {
   "display_name": "Python 3 (ipykernel)",
   "language": "python",
   "name": "python3"
  },
  "language_info": {
   "codemirror_mode": {
    "name": "ipython",
    "version": 3
   },
   "file_extension": ".py",
   "mimetype": "text/x-python",
   "name": "python",
   "nbconvert_exporter": "python",
   "pygments_lexer": "ipython3",
   "version": "3.11.4"
  }
 },
 "nbformat": 4,
 "nbformat_minor": 5
}
